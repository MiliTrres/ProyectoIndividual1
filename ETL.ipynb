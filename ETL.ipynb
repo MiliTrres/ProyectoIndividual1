{
 "cells": [
  {
   "cell_type": "markdown",
   "metadata": {},
   "source": [
    "## ETL - Extract, Transform and Load"
   ]
  },
  {
   "cell_type": "markdown",
   "metadata": {},
   "source": [
    "En esta etapa del proyecto, se llevara a cabo el proceso de ETL (extracción, transformación y carga), para poder comenzar con la obtención de valiosa e importante información a partir de los datos. En esta etapa podremos dimensionar la información con la que contamos, las diversas estructuras y formatos de los datos, las relaciones entre los distintos datasets que trabajaremos, para su porterior utilización, y que esta, sea correcta, efectiva y eficaz."
   ]
  },
  {
   "cell_type": "markdown",
   "metadata": {},
   "source": [
    "Comenzamos con la extracción de los datos de los tres datasets disponibles:\n",
    "- output_steam_games.json\n",
    "- australian_user_reviews.json\n",
    "- australian_user_items.json"
   ]
  },
  {
   "cell_type": "markdown",
   "metadata": {},
   "source": [
    "**A continuación, importamos las librerias necesarias para analizar nuestros datasets:**"
   ]
  },
  {
   "cell_type": "code",
   "execution_count": 1,
   "metadata": {},
   "outputs": [],
   "source": [
    "import pandas as pd\n",
    "import json\n",
    "import ast\n",
    "import FuncionExtra as f\n",
    "import pyarrow as pa\n",
    "import pyarrow.parquet as pq"
   ]
  },
  {
   "cell_type": "markdown",
   "metadata": {},
   "source": [
    "### Extracción de los datos del dataset 'output_steam_games.json':\n"
   ]
  },
  {
   "cell_type": "code",
   "execution_count": 7,
   "metadata": {},
   "outputs": [],
   "source": [
    "#Leemos el archivo 'output_steam_games.json', de tipo json, con pandas y lo guardamos en una variable como un DataFrame.\n",
    "\n",
    "games = pd.read_json('../output_steam_games.json', lines= True)\n",
    "\n",
    "df_games = pd.DataFrame(games)"
   ]
  },
  {
   "cell_type": "markdown",
   "metadata": {},
   "source": [
    "### Extracción de los datos del dataset 'australian_user_reviews.json':"
   ]
  },
  {
   "cell_type": "code",
   "execution_count": 8,
   "metadata": {},
   "outputs": [],
   "source": [
    "#Para leer el archivo 'australian_user_reviews.json', usamos esta función y no lo hacemos como hicimos con el archivo anterior, debido a erores de \n",
    "#sintaxis. Se crea una lista vacia donde se ira almacenando linea por linea. Se utiliza 'with' para abrir el archivo y cerrarlo correctamente \n",
    "#posteriormente. Con un bucle for, se recorre linea por linea, y se almacena en la lista creada al inicio. Por ultimo, transformamos el objeto de\n",
    "#Python a un DataFrame.\n",
    "\n",
    "reviews = []\n",
    "\n",
    "with open('../australian_user_reviews.json', encoding= 'utf-8') as file:\n",
    "    for line in file.readlines():\n",
    "        reviews.append(ast.literal_eval(line))\n",
    "\n",
    "df_reviews = pd.DataFrame(reviews)"
   ]
  },
  {
   "cell_type": "markdown",
   "metadata": {},
   "source": [
    "### Extracción de los datos del dataset 'australian_users_items.json':"
   ]
  },
  {
   "cell_type": "code",
   "execution_count": 9,
   "metadata": {},
   "outputs": [],
   "source": [
    "#Para la extracción de datos, del archivo 'australian_users_items.json', se utilizo la misma función que antes.\n",
    "\n",
    "items = []\n",
    "\n",
    "with open('../australian_users_items.json', encoding= 'utf-8') as file:\n",
    "    for line in file.readlines():\n",
    "        items.append(ast.literal_eval(line))\n",
    "\n",
    "df_items = pd.DataFrame(items)"
   ]
  },
  {
   "cell_type": "markdown",
   "metadata": {},
   "source": [
    "### Guardado de los DataFrames en csv, para abrirlos de forma más rapida"
   ]
  },
  {
   "cell_type": "markdown",
   "metadata": {},
   "source": [
    "Guardado de DataFrame df_games como csv:"
   ]
  },
  {
   "cell_type": "code",
   "execution_count": 10,
   "metadata": {},
   "outputs": [],
   "source": [
    "df_games.to_csv('../steam_games.csv', encoding= 'utf-8', index= False)"
   ]
  },
  {
   "cell_type": "markdown",
   "metadata": {},
   "source": [
    "Guardado de DataFrame df_reviews como csv:"
   ]
  },
  {
   "cell_type": "code",
   "execution_count": 11,
   "metadata": {},
   "outputs": [],
   "source": [
    "df_reviews.to_csv('../user_reviews.csv', encoding= 'utf-8', index= False)"
   ]
  },
  {
   "cell_type": "markdown",
   "metadata": {},
   "source": [
    "Guardado de DataFrame df_items como csv:"
   ]
  },
  {
   "cell_type": "code",
   "execution_count": 12,
   "metadata": {},
   "outputs": [],
   "source": [
    "df_items.to_csv('../user_items.csv', encoding= 'utf-8', index= False)"
   ]
  },
  {
   "cell_type": "markdown",
   "metadata": {},
   "source": [
    "### Lectura de los csv guardados anteriormente:"
   ]
  },
  {
   "cell_type": "code",
   "execution_count": 13,
   "metadata": {},
   "outputs": [],
   "source": [
    "steam_games = pd.read_csv(r'../steam_games.csv', low_memory= False)"
   ]
  },
  {
   "cell_type": "code",
   "execution_count": 14,
   "metadata": {},
   "outputs": [],
   "source": [
    "user_reviews = pd.read_csv(r'../user_reviews.csv')"
   ]
  },
  {
   "cell_type": "code",
   "execution_count": 15,
   "metadata": {},
   "outputs": [],
   "source": [
    "user_items = pd.read_csv(r'../user_items.csv')"
   ]
  },
  {
   "cell_type": "markdown",
   "metadata": {},
   "source": [
    "### Transformación de los datos:"
   ]
  },
  {
   "cell_type": "code",
   "execution_count": 16,
   "metadata": {},
   "outputs": [
    {
     "name": "stdout",
     "output_type": "stream",
     "text": [
      "El tamaño del DataFrame steam_games es: (120445, 13)\n",
      "El tamaño del DataFrame user_reviews es: (25799, 3)\n",
      "El tamaño del DataFrame user_items es: (88310, 5)\n"
     ]
    }
   ],
   "source": [
    "#Analizamos el tamaño de los DataFrames, cantidad de filas y columnas de cada uno.\n",
    "\n",
    "datasets= {'steam_games': steam_games, 'user_reviews': user_reviews, 'user_items': user_items}\n",
    "\n",
    "f.tamanio_datsets(datasets)"
   ]
  },
  {
   "cell_type": "markdown",
   "metadata": {},
   "source": [
    "#### Información general, valores nulos y porcentaje de valores faltantes del DataFrame *df_games*"
   ]
  },
  {
   "cell_type": "code",
   "execution_count": 17,
   "metadata": {},
   "outputs": [
    {
     "name": "stdout",
     "output_type": "stream",
     "text": [
      "<class 'pandas.core.frame.DataFrame'>\n",
      "RangeIndex: 120445 entries, 0 to 120444\n",
      "Data columns (total 13 columns):\n",
      " #   Column        Non-Null Count  Dtype  \n",
      "---  ------        --------------  -----  \n",
      " 0   publisher     24064 non-null  object \n",
      " 1   genres        28852 non-null  object \n",
      " 2   app_name      32133 non-null  object \n",
      " 3   title         30085 non-null  object \n",
      " 4   url           32135 non-null  object \n",
      " 5   release_date  30068 non-null  object \n",
      " 6   tags          31972 non-null  object \n",
      " 7   reviews_url   32133 non-null  object \n",
      " 8   specs         31465 non-null  object \n",
      " 9   price         30758 non-null  object \n",
      " 10  early_access  32135 non-null  float64\n",
      " 11  id            32133 non-null  float64\n",
      " 12  developer     28836 non-null  object \n",
      "dtypes: float64(2), object(11)\n",
      "memory usage: 11.9+ MB\n"
     ]
    }
   ],
   "source": [
    "#Información general:\n",
    "\n",
    "steam_games.info()"
   ]
  },
  {
   "cell_type": "code",
   "execution_count": 18,
   "metadata": {},
   "outputs": [
    {
     "data": {
      "text/plain": [
       "publisher       96381\n",
       "genres          91593\n",
       "app_name        88312\n",
       "title           90360\n",
       "url             88310\n",
       "release_date    90377\n",
       "tags            88473\n",
       "reviews_url     88312\n",
       "specs           88980\n",
       "price           89687\n",
       "early_access    88310\n",
       "id              88312\n",
       "developer       91609\n",
       "dtype: int64"
      ]
     },
     "execution_count": 18,
     "metadata": {},
     "output_type": "execute_result"
    }
   ],
   "source": [
    "#Analisis de valores nulos.\n",
    "\n",
    "steam_games.isna().sum()"
   ]
  },
  {
   "cell_type": "code",
   "execution_count": 19,
   "metadata": {},
   "outputs": [
    {
     "name": "stdout",
     "output_type": "stream",
     "text": [
      "La columna publisher tiene un  80.02 % de valores nulos\n",
      "La columna genres tiene un  76.05 % de valores nulos\n",
      "La columna app_name tiene un  73.32 % de valores nulos\n",
      "La columna title tiene un  75.02 % de valores nulos\n",
      "La columna url tiene un  73.32 % de valores nulos\n",
      "La columna release_date tiene un  75.04 % de valores nulos\n",
      "La columna tags tiene un  73.46 % de valores nulos\n",
      "La columna reviews_url tiene un  73.32 % de valores nulos\n",
      "La columna specs tiene un  73.88 % de valores nulos\n",
      "La columna price tiene un  74.46 % de valores nulos\n",
      "La columna early_access tiene un  73.32 % de valores nulos\n",
      "La columna id tiene un  73.32 % de valores nulos\n",
      "La columna developer tiene un  76.06 % de valores nulos\n"
     ]
    }
   ],
   "source": [
    "#Analisis de porcentaje de valores nulos por columna.\n",
    "\n",
    "f.porcentaje_valores_nulos(steam_games)"
   ]
  },
  {
   "cell_type": "code",
   "execution_count": 20,
   "metadata": {},
   "outputs": [
    {
     "data": {
      "text/html": [
       "<div>\n",
       "<style scoped>\n",
       "    .dataframe tbody tr th:only-of-type {\n",
       "        vertical-align: middle;\n",
       "    }\n",
       "\n",
       "    .dataframe tbody tr th {\n",
       "        vertical-align: top;\n",
       "    }\n",
       "\n",
       "    .dataframe thead th {\n",
       "        text-align: right;\n",
       "    }\n",
       "</style>\n",
       "<table border=\"1\" class=\"dataframe\">\n",
       "  <thead>\n",
       "    <tr style=\"text-align: right;\">\n",
       "      <th></th>\n",
       "      <th>publisher</th>\n",
       "      <th>genres</th>\n",
       "      <th>app_name</th>\n",
       "      <th>title</th>\n",
       "      <th>url</th>\n",
       "      <th>release_date</th>\n",
       "      <th>tags</th>\n",
       "      <th>reviews_url</th>\n",
       "      <th>specs</th>\n",
       "      <th>price</th>\n",
       "      <th>early_access</th>\n",
       "      <th>id</th>\n",
       "      <th>developer</th>\n",
       "    </tr>\n",
       "  </thead>\n",
       "  <tbody>\n",
       "    <tr>\n",
       "      <th>0</th>\n",
       "      <td>NaN</td>\n",
       "      <td>NaN</td>\n",
       "      <td>NaN</td>\n",
       "      <td>NaN</td>\n",
       "      <td>NaN</td>\n",
       "      <td>NaN</td>\n",
       "      <td>NaN</td>\n",
       "      <td>NaN</td>\n",
       "      <td>NaN</td>\n",
       "      <td>NaN</td>\n",
       "      <td>NaN</td>\n",
       "      <td>NaN</td>\n",
       "      <td>NaN</td>\n",
       "    </tr>\n",
       "    <tr>\n",
       "      <th>1</th>\n",
       "      <td>NaN</td>\n",
       "      <td>NaN</td>\n",
       "      <td>NaN</td>\n",
       "      <td>NaN</td>\n",
       "      <td>NaN</td>\n",
       "      <td>NaN</td>\n",
       "      <td>NaN</td>\n",
       "      <td>NaN</td>\n",
       "      <td>NaN</td>\n",
       "      <td>NaN</td>\n",
       "      <td>NaN</td>\n",
       "      <td>NaN</td>\n",
       "      <td>NaN</td>\n",
       "    </tr>\n",
       "    <tr>\n",
       "      <th>2</th>\n",
       "      <td>NaN</td>\n",
       "      <td>NaN</td>\n",
       "      <td>NaN</td>\n",
       "      <td>NaN</td>\n",
       "      <td>NaN</td>\n",
       "      <td>NaN</td>\n",
       "      <td>NaN</td>\n",
       "      <td>NaN</td>\n",
       "      <td>NaN</td>\n",
       "      <td>NaN</td>\n",
       "      <td>NaN</td>\n",
       "      <td>NaN</td>\n",
       "      <td>NaN</td>\n",
       "    </tr>\n",
       "    <tr>\n",
       "      <th>3</th>\n",
       "      <td>NaN</td>\n",
       "      <td>NaN</td>\n",
       "      <td>NaN</td>\n",
       "      <td>NaN</td>\n",
       "      <td>NaN</td>\n",
       "      <td>NaN</td>\n",
       "      <td>NaN</td>\n",
       "      <td>NaN</td>\n",
       "      <td>NaN</td>\n",
       "      <td>NaN</td>\n",
       "      <td>NaN</td>\n",
       "      <td>NaN</td>\n",
       "      <td>NaN</td>\n",
       "    </tr>\n",
       "    <tr>\n",
       "      <th>4</th>\n",
       "      <td>NaN</td>\n",
       "      <td>NaN</td>\n",
       "      <td>NaN</td>\n",
       "      <td>NaN</td>\n",
       "      <td>NaN</td>\n",
       "      <td>NaN</td>\n",
       "      <td>NaN</td>\n",
       "      <td>NaN</td>\n",
       "      <td>NaN</td>\n",
       "      <td>NaN</td>\n",
       "      <td>NaN</td>\n",
       "      <td>NaN</td>\n",
       "      <td>NaN</td>\n",
       "    </tr>\n",
       "  </tbody>\n",
       "</table>\n",
       "</div>"
      ],
      "text/plain": [
       "  publisher genres app_name title  url release_date tags reviews_url specs  \\\n",
       "0       NaN    NaN      NaN   NaN  NaN          NaN  NaN         NaN   NaN   \n",
       "1       NaN    NaN      NaN   NaN  NaN          NaN  NaN         NaN   NaN   \n",
       "2       NaN    NaN      NaN   NaN  NaN          NaN  NaN         NaN   NaN   \n",
       "3       NaN    NaN      NaN   NaN  NaN          NaN  NaN         NaN   NaN   \n",
       "4       NaN    NaN      NaN   NaN  NaN          NaN  NaN         NaN   NaN   \n",
       "\n",
       "  price  early_access  id developer  \n",
       "0   NaN           NaN NaN       NaN  \n",
       "1   NaN           NaN NaN       NaN  \n",
       "2   NaN           NaN NaN       NaN  \n",
       "3   NaN           NaN NaN       NaN  \n",
       "4   NaN           NaN NaN       NaN  "
      ]
     },
     "execution_count": 20,
     "metadata": {},
     "output_type": "execute_result"
    }
   ],
   "source": [
    "steam_games.head()"
   ]
  },
  {
   "cell_type": "markdown",
   "metadata": {},
   "source": [
    "#### Información general del DataFrame *df_reviews*"
   ]
  },
  {
   "cell_type": "markdown",
   "metadata": {},
   "source": [
    "No posee datos faltantes, por lo que no analisamos la cantidad ni el porcentaje de valores nulos."
   ]
  },
  {
   "cell_type": "code",
   "execution_count": 21,
   "metadata": {},
   "outputs": [
    {
     "name": "stdout",
     "output_type": "stream",
     "text": [
      "<class 'pandas.core.frame.DataFrame'>\n",
      "RangeIndex: 25799 entries, 0 to 25798\n",
      "Data columns (total 3 columns):\n",
      " #   Column    Non-Null Count  Dtype \n",
      "---  ------    --------------  ----- \n",
      " 0   user_id   25799 non-null  object\n",
      " 1   user_url  25799 non-null  object\n",
      " 2   reviews   25799 non-null  object\n",
      "dtypes: object(3)\n",
      "memory usage: 604.8+ KB\n"
     ]
    }
   ],
   "source": [
    "#Información general\n",
    "\n",
    "user_reviews.info()"
   ]
  },
  {
   "cell_type": "code",
   "execution_count": 22,
   "metadata": {},
   "outputs": [
    {
     "data": {
      "text/html": [
       "<div>\n",
       "<style scoped>\n",
       "    .dataframe tbody tr th:only-of-type {\n",
       "        vertical-align: middle;\n",
       "    }\n",
       "\n",
       "    .dataframe tbody tr th {\n",
       "        vertical-align: top;\n",
       "    }\n",
       "\n",
       "    .dataframe thead th {\n",
       "        text-align: right;\n",
       "    }\n",
       "</style>\n",
       "<table border=\"1\" class=\"dataframe\">\n",
       "  <thead>\n",
       "    <tr style=\"text-align: right;\">\n",
       "      <th></th>\n",
       "      <th>user_id</th>\n",
       "      <th>user_url</th>\n",
       "      <th>reviews</th>\n",
       "    </tr>\n",
       "  </thead>\n",
       "  <tbody>\n",
       "    <tr>\n",
       "      <th>0</th>\n",
       "      <td>76561197970982479</td>\n",
       "      <td>http://steamcommunity.com/profiles/76561197970...</td>\n",
       "      <td>[{'funny': '', 'posted': 'Posted November 5, 2...</td>\n",
       "    </tr>\n",
       "    <tr>\n",
       "      <th>1</th>\n",
       "      <td>js41637</td>\n",
       "      <td>http://steamcommunity.com/id/js41637</td>\n",
       "      <td>[{'funny': '', 'posted': 'Posted June 24, 2014...</td>\n",
       "    </tr>\n",
       "    <tr>\n",
       "      <th>2</th>\n",
       "      <td>evcentric</td>\n",
       "      <td>http://steamcommunity.com/id/evcentric</td>\n",
       "      <td>[{'funny': '', 'posted': 'Posted February 3.',...</td>\n",
       "    </tr>\n",
       "    <tr>\n",
       "      <th>3</th>\n",
       "      <td>doctr</td>\n",
       "      <td>http://steamcommunity.com/id/doctr</td>\n",
       "      <td>[{'funny': '', 'posted': 'Posted October 14, 2...</td>\n",
       "    </tr>\n",
       "    <tr>\n",
       "      <th>4</th>\n",
       "      <td>maplemage</td>\n",
       "      <td>http://steamcommunity.com/id/maplemage</td>\n",
       "      <td>[{'funny': '3 people found this review funny',...</td>\n",
       "    </tr>\n",
       "  </tbody>\n",
       "</table>\n",
       "</div>"
      ],
      "text/plain": [
       "             user_id                                           user_url  \\\n",
       "0  76561197970982479  http://steamcommunity.com/profiles/76561197970...   \n",
       "1            js41637               http://steamcommunity.com/id/js41637   \n",
       "2          evcentric             http://steamcommunity.com/id/evcentric   \n",
       "3              doctr                 http://steamcommunity.com/id/doctr   \n",
       "4          maplemage             http://steamcommunity.com/id/maplemage   \n",
       "\n",
       "                                             reviews  \n",
       "0  [{'funny': '', 'posted': 'Posted November 5, 2...  \n",
       "1  [{'funny': '', 'posted': 'Posted June 24, 2014...  \n",
       "2  [{'funny': '', 'posted': 'Posted February 3.',...  \n",
       "3  [{'funny': '', 'posted': 'Posted October 14, 2...  \n",
       "4  [{'funny': '3 people found this review funny',...  "
      ]
     },
     "execution_count": 22,
     "metadata": {},
     "output_type": "execute_result"
    }
   ],
   "source": [
    "user_reviews.head()"
   ]
  },
  {
   "cell_type": "markdown",
   "metadata": {},
   "source": [
    "#### Información general del DataFrame *df_items*"
   ]
  },
  {
   "cell_type": "markdown",
   "metadata": {},
   "source": [
    "No posee datos faltantes, por lo que no analisamos la cantidad ni el porcentaje de valores nulos."
   ]
  },
  {
   "cell_type": "code",
   "execution_count": 23,
   "metadata": {},
   "outputs": [
    {
     "name": "stdout",
     "output_type": "stream",
     "text": [
      "<class 'pandas.core.frame.DataFrame'>\n",
      "RangeIndex: 88310 entries, 0 to 88309\n",
      "Data columns (total 5 columns):\n",
      " #   Column       Non-Null Count  Dtype \n",
      "---  ------       --------------  ----- \n",
      " 0   user_id      88310 non-null  object\n",
      " 1   items_count  88310 non-null  int64 \n",
      " 2   steam_id     88310 non-null  int64 \n",
      " 3   user_url     88310 non-null  object\n",
      " 4   items        88310 non-null  object\n",
      "dtypes: int64(2), object(3)\n",
      "memory usage: 3.4+ MB\n"
     ]
    }
   ],
   "source": [
    "#Información general:\n",
    "\n",
    "user_items.info()"
   ]
  },
  {
   "cell_type": "code",
   "execution_count": 24,
   "metadata": {},
   "outputs": [
    {
     "data": {
      "text/html": [
       "<div>\n",
       "<style scoped>\n",
       "    .dataframe tbody tr th:only-of-type {\n",
       "        vertical-align: middle;\n",
       "    }\n",
       "\n",
       "    .dataframe tbody tr th {\n",
       "        vertical-align: top;\n",
       "    }\n",
       "\n",
       "    .dataframe thead th {\n",
       "        text-align: right;\n",
       "    }\n",
       "</style>\n",
       "<table border=\"1\" class=\"dataframe\">\n",
       "  <thead>\n",
       "    <tr style=\"text-align: right;\">\n",
       "      <th></th>\n",
       "      <th>user_id</th>\n",
       "      <th>items_count</th>\n",
       "      <th>steam_id</th>\n",
       "      <th>user_url</th>\n",
       "      <th>items</th>\n",
       "    </tr>\n",
       "  </thead>\n",
       "  <tbody>\n",
       "    <tr>\n",
       "      <th>0</th>\n",
       "      <td>76561197970982479</td>\n",
       "      <td>277</td>\n",
       "      <td>76561197970982479</td>\n",
       "      <td>http://steamcommunity.com/profiles/76561197970...</td>\n",
       "      <td>[{'item_id': '10', 'item_name': 'Counter-Strik...</td>\n",
       "    </tr>\n",
       "    <tr>\n",
       "      <th>1</th>\n",
       "      <td>js41637</td>\n",
       "      <td>888</td>\n",
       "      <td>76561198035864385</td>\n",
       "      <td>http://steamcommunity.com/id/js41637</td>\n",
       "      <td>[{'item_id': '10', 'item_name': 'Counter-Strik...</td>\n",
       "    </tr>\n",
       "    <tr>\n",
       "      <th>2</th>\n",
       "      <td>evcentric</td>\n",
       "      <td>137</td>\n",
       "      <td>76561198007712555</td>\n",
       "      <td>http://steamcommunity.com/id/evcentric</td>\n",
       "      <td>[{'item_id': '1200', 'item_name': 'Red Orchest...</td>\n",
       "    </tr>\n",
       "    <tr>\n",
       "      <th>3</th>\n",
       "      <td>Riot-Punch</td>\n",
       "      <td>328</td>\n",
       "      <td>76561197963445855</td>\n",
       "      <td>http://steamcommunity.com/id/Riot-Punch</td>\n",
       "      <td>[{'item_id': '10', 'item_name': 'Counter-Strik...</td>\n",
       "    </tr>\n",
       "    <tr>\n",
       "      <th>4</th>\n",
       "      <td>doctr</td>\n",
       "      <td>541</td>\n",
       "      <td>76561198002099482</td>\n",
       "      <td>http://steamcommunity.com/id/doctr</td>\n",
       "      <td>[{'item_id': '300', 'item_name': 'Day of Defea...</td>\n",
       "    </tr>\n",
       "  </tbody>\n",
       "</table>\n",
       "</div>"
      ],
      "text/plain": [
       "             user_id  items_count           steam_id  \\\n",
       "0  76561197970982479          277  76561197970982479   \n",
       "1            js41637          888  76561198035864385   \n",
       "2          evcentric          137  76561198007712555   \n",
       "3         Riot-Punch          328  76561197963445855   \n",
       "4              doctr          541  76561198002099482   \n",
       "\n",
       "                                            user_url  \\\n",
       "0  http://steamcommunity.com/profiles/76561197970...   \n",
       "1               http://steamcommunity.com/id/js41637   \n",
       "2             http://steamcommunity.com/id/evcentric   \n",
       "3            http://steamcommunity.com/id/Riot-Punch   \n",
       "4                 http://steamcommunity.com/id/doctr   \n",
       "\n",
       "                                               items  \n",
       "0  [{'item_id': '10', 'item_name': 'Counter-Strik...  \n",
       "1  [{'item_id': '10', 'item_name': 'Counter-Strik...  \n",
       "2  [{'item_id': '1200', 'item_name': 'Red Orchest...  \n",
       "3  [{'item_id': '10', 'item_name': 'Counter-Strik...  \n",
       "4  [{'item_id': '300', 'item_name': 'Day of Defea...  "
      ]
     },
     "execution_count": 24,
     "metadata": {},
     "output_type": "execute_result"
    }
   ],
   "source": [
    "user_items.head()"
   ]
  },
  {
   "cell_type": "markdown",
   "metadata": {},
   "source": [
    "### Desanidamos registros anidados:"
   ]
  },
  {
   "cell_type": "markdown",
   "metadata": {},
   "source": [
    "#### Detectamos las columnas anidadas en cada DataFrame:"
   ]
  },
  {
   "cell_type": "code",
   "execution_count": 25,
   "metadata": {},
   "outputs": [
    {
     "name": "stdout",
     "output_type": "stream",
     "text": [
      "Las columnas anidadas en el DataFrame steam_games, son []\n",
      "Las columnas anidadas en el DataFrame user_reviews, son ['reviews']\n",
      "Las columnas anidadas en el DataFrame user_items, son ['items']\n"
     ]
    }
   ],
   "source": [
    "for nombre, dataframe in datasets.items():\n",
    "    print(f'Las columnas anidadas en el DataFrame {nombre}, son {f.deteccion_columnas_anidadas(dataframe)}')"
   ]
  },
  {
   "cell_type": "markdown",
   "metadata": {},
   "source": [
    "#### Visualizamos los registros que tienen las columnas con registros anidados:"
   ]
  },
  {
   "cell_type": "code",
   "execution_count": 26,
   "metadata": {},
   "outputs": [
    {
     "data": {
      "text/plain": [
       "'[{\\'funny\\': \\'\\', \\'posted\\': \\'Posted November 5, 2011.\\', \\'last_edited\\': \\'\\', \\'item_id\\': \\'1250\\', \\'helpful\\': \\'No ratings yet\\', \\'recommend\\': True, \\'review\\': \\'Simple yet with great replayability. In my opinion does \"zombie\" hordes and team work better than left 4 dead plus has a global leveling system. Alot of down to earth \"zombie\" splattering fun for the whole family. Amazed this sort of FPS is so rare.\\'}, {\\'funny\\': \\'\\', \\'posted\\': \\'Posted July 15, 2011.\\', \\'last_edited\\': \\'\\', \\'item_id\\': \\'22200\\', \\'helpful\\': \\'No ratings yet\\', \\'recommend\\': True, \\'review\\': \"It\\'s unique and worth a playthrough.\"}, {\\'funny\\': \\'\\', \\'posted\\': \\'Posted April 21, 2011.\\', \\'last_edited\\': \\'\\', \\'item_id\\': \\'43110\\', \\'helpful\\': \\'No ratings yet\\', \\'recommend\\': True, \\'review\\': \\'Great atmosphere. The gunplay can be a bit chunky at times but at the end of the day this game is definitely worth it and I hope they do a sequel...so buy the game so I get a sequel!\\'}]'"
      ]
     },
     "execution_count": 26,
     "metadata": {},
     "output_type": "execute_result"
    }
   ],
   "source": [
    "user_reviews['reviews'][0]"
   ]
  },
  {
   "cell_type": "code",
   "execution_count": 27,
   "metadata": {},
   "outputs": [
    {
     "data": {
      "text/plain": [
       "'[{\\'item_id\\': \\'10\\', \\'item_name\\': \\'Counter-Strike\\', \\'playtime_forever\\': 6, \\'playtime_2weeks\\': 0}, {\\'item_id\\': \\'20\\', \\'item_name\\': \\'Team Fortress Classic\\', \\'playtime_forever\\': 0, \\'playtime_2weeks\\': 0}, {\\'item_id\\': \\'30\\', \\'item_name\\': \\'Day of Defeat\\', \\'playtime_forever\\': 7, \\'playtime_2weeks\\': 0}, {\\'item_id\\': \\'40\\', \\'item_name\\': \\'Deathmatch Classic\\', \\'playtime_forever\\': 0, \\'playtime_2weeks\\': 0}, {\\'item_id\\': \\'50\\', \\'item_name\\': \\'Half-Life: Opposing Force\\', \\'playtime_forever\\': 0, \\'playtime_2weeks\\': 0}, {\\'item_id\\': \\'60\\', \\'item_name\\': \\'Ricochet\\', \\'playtime_forever\\': 0, \\'playtime_2weeks\\': 0}, {\\'item_id\\': \\'70\\', \\'item_name\\': \\'Half-Life\\', \\'playtime_forever\\': 0, \\'playtime_2weeks\\': 0}, {\\'item_id\\': \\'130\\', \\'item_name\\': \\'Half-Life: Blue Shift\\', \\'playtime_forever\\': 0, \\'playtime_2weeks\\': 0}, {\\'item_id\\': \\'300\\', \\'item_name\\': \\'Day of Defeat: Source\\', \\'playtime_forever\\': 4733, \\'playtime_2weeks\\': 0}, {\\'item_id\\': \\'240\\', \\'item_name\\': \\'Counter-Strike: Source\\', \\'playtime_forever\\': 1853, \\'playtime_2weeks\\': 0}, {\\'item_id\\': \\'3830\\', \\'item_name\\': \\'Psychonauts\\', \\'playtime_forever\\': 333, \\'playtime_2weeks\\': 0}, {\\'item_id\\': \\'2630\\', \\'item_name\\': \\'Call of Duty 2\\', \\'playtime_forever\\': 75, \\'playtime_2weeks\\': 0}, {\\'item_id\\': \\'3900\\', \\'item_name\\': \"Sid Meier\\'s Civilization IV\", \\'playtime_forever\\': 338, \\'playtime_2weeks\\': 0}, {\\'item_id\\': \\'34440\\', \\'item_name\\': \"Sid Meier\\'s Civilization IV\", \\'playtime_forever\\': 0, \\'playtime_2weeks\\': 0}, {\\'item_id\\': \\'3920\\', \\'item_name\\': \"Sid Meier\\'s Pirates!\", \\'playtime_forever\\': 2, \\'playtime_2weeks\\': 0}, {\\'item_id\\': \\'6400\\', \\'item_name\\': \\'Joint Task Force\\', \\'playtime_forever\\': 286, \\'playtime_2weeks\\': 0}, {\\'item_id\\': \\'6910\\', \\'item_name\\': \\'Deus Ex: Game of the Year Edition\\', \\'playtime_forever\\': 2685, \\'playtime_2weeks\\': 0}, {\\'item_id\\': \\'7670\\', \\'item_name\\': \\'BioShock\\', \\'playtime_forever\\': 633, \\'playtime_2weeks\\': 0}, {\\'item_id\\': \\'409710\\', \\'item_name\\': \\'BioShock Remastered\\', \\'playtime_forever\\': 0, \\'playtime_2weeks\\': 0}, {\\'item_id\\': \\'220\\', \\'item_name\\': \\'Half-Life 2\\', \\'playtime_forever\\': 696, \\'playtime_2weeks\\': 0}, {\\'item_id\\': \\'320\\', \\'item_name\\': \\'Half-Life 2: Deathmatch\\', \\'playtime_forever\\': 0, \\'playtime_2weeks\\': 0}, {\\'item_id\\': \\'340\\', \\'item_name\\': \\'Half-Life 2: Lost Coast\\', \\'playtime_forever\\': 37, \\'playtime_2weeks\\': 0}, {\\'item_id\\': \\'360\\', \\'item_name\\': \\'Half-Life Deathmatch: Source\\', \\'playtime_forever\\': 0, \\'playtime_2weeks\\': 0}, {\\'item_id\\': \\'380\\', \\'item_name\\': \\'Half-Life 2: Episode One\\', \\'playtime_forever\\': 168, \\'playtime_2weeks\\': 0}, {\\'item_id\\': \\'400\\', \\'item_name\\': \\'Portal\\', \\'playtime_forever\\': 173, \\'playtime_2weeks\\': 0}, {\\'item_id\\': \\'420\\', \\'item_name\\': \\'Half-Life 2: Episode Two\\', \\'playtime_forever\\': 323, \\'playtime_2weeks\\': 0}, {\\'item_id\\': \\'9340\\', \\'item_name\\': \\'Company of Heroes: Opposing Fronts\\', \\'playtime_forever\\': 692, \\'playtime_2weeks\\': 0}, {\\'item_id\\': \\'228200\\', \\'item_name\\': \\'Company of Heroes (New Steam Version)\\', \\'playtime_forever\\': 0, \\'playtime_2weeks\\': 0}, {\\'item_id\\': \\'11450\\', \\'item_name\\': \\'Overlord\\', \\'playtime_forever\\': 0, \\'playtime_2weeks\\': 0}, {\\'item_id\\': \\'7940\\', \\'item_name\\': \\'Call of Duty 4: Modern Warfare\\', \\'playtime_forever\\': 1185, \\'playtime_2weeks\\': 0}, {\\'item_id\\': \\'4700\\', \\'item_name\\': \\'Medieval II: Total War\\', \\'playtime_forever\\': 477, \\'playtime_2weeks\\': 0}, {\\'item_id\\': \\'12900\\', \\'item_name\\': \\'Audiosurf\\', \\'playtime_forever\\': 115, \\'playtime_2weeks\\': 0}, {\\'item_id\\': \\'13250\\', \\'item_name\\': \\'Unreal Gold\\', \\'playtime_forever\\': 0, \\'playtime_2weeks\\': 0}, {\\'item_id\\': \\'16100\\', \\'item_name\\': \\'Virtual Villagers: A New Home\\', \\'playtime_forever\\': 0, \\'playtime_2weeks\\': 0}, {\\'item_id\\': \\'15700\\', \\'item_name\\': \"Oddworld: Abe\\'s Oddysee\", \\'playtime_forever\\': 28, \\'playtime_2weeks\\': 0}, {\\'item_id\\': \\'15710\\', \\'item_name\\': \"Oddworld: Abe\\'s Exoddus\", \\'playtime_forever\\': 0, \\'playtime_2weeks\\': 0}, {\\'item_id\\': \\'17330\\', \\'item_name\\': \\'Crysis Warhead\\', \\'playtime_forever\\': 31, \\'playtime_2weeks\\': 0}, {\\'item_id\\': \\'17340\\', \\'item_name\\': \\'Crysis Wars\\', \\'playtime_forever\\': 0, \\'playtime_2weeks\\': 0}, {\\'item_id\\': \\'22000\\', \\'item_name\\': \\'World of Goo\\', \\'playtime_forever\\': 195, \\'playtime_2weeks\\': 0}, {\\'item_id\\': \\'500\\', \\'item_name\\': \\'Left 4 Dead\\', \\'playtime_forever\\': 513, \\'playtime_2weeks\\': 0}, {\\'item_id\\': \\'4560\\', \\'item_name\\': \\'Company of Heroes\\', \\'playtime_forever\\': 1061, \\'playtime_2weeks\\': 0}, {\\'item_id\\': \\'17460\\', \\'item_name\\': \\'Mass Effect\\', \\'playtime_forever\\': 1613, \\'playtime_2weeks\\': 0}, {\\'item_id\\': \\'10500\\', \\'item_name\\': \\'Empire: Total War\\', \\'playtime_forever\\': 186, \\'playtime_2weeks\\': 0}, {\\'item_id\\': \\'24740\\', \\'item_name\\': \\'Burnout Paradise: The Ultimate Box\\', \\'playtime_forever\\': 0, \\'playtime_2weeks\\': 0}, {\\'item_id\\': \\'22200\\', \\'item_name\\': \\'Zeno Clash\\', \\'playtime_forever\\': 271, \\'playtime_2weeks\\': 0}, {\\'item_id\\': \\'26800\\', \\'item_name\\': \\'Braid\\', \\'playtime_forever\\': 445, \\'playtime_2weeks\\': 0}, {\\'item_id\\': \\'1250\\', \\'item_name\\': \\'Killing Floor\\', \\'playtime_forever\\': 10006, \\'playtime_2weeks\\': 0}, {\\'item_id\\': \\'35420\\', \\'item_name\\': \\'Killing Floor Mod: Defence Alliance 2\\', \\'playtime_forever\\': 0, \\'playtime_2weeks\\': 0}, {\\'item_id\\': \\'3590\\', \\'item_name\\': \\'Plants vs. Zombies: Game of the Year\\', \\'playtime_forever\\': 4413, \\'playtime_2weeks\\': 0}, {\\'item_id\\': \\'8880\\', \\'item_name\\': \\'Freedom Force\\', \\'playtime_forever\\': 0, \\'playtime_2weeks\\': 0}, {\\'item_id\\': \\'8890\\', \\'item_name\\': \\'Freedom Force vs. the 3rd Reich\\', \\'playtime_forever\\': 0, \\'playtime_2weeks\\': 0}, {\\'item_id\\': \\'23120\\', \\'item_name\\': \\'Droplitz\\', \\'playtime_forever\\': 53, \\'playtime_2weeks\\': 0}, {\\'item_id\\': \\'35700\\', \\'item_name\\': \\'Trine\\', \\'playtime_forever\\': 199, \\'playtime_2weeks\\': 0}, {\\'item_id\\': \\'10140\\', \\'item_name\\': \\'3D Ultra Minigolf Adventures Deluxe\\', \\'playtime_forever\\': 25, \\'playtime_2weeks\\': 0}, {\\'item_id\\': \\'35010\\', \\'item_name\\': \\'Batman: Arkham Asylum\\', \\'playtime_forever\\': 570, \\'playtime_2weeks\\': 0}, {\\'item_id\\': \\'35140\\', \\'item_name\\': \\'Batman: Arkham Asylum GOTY Edition\\', \\'playtime_forever\\': 0, \\'playtime_2weeks\\': 0}, {\\'item_id\\': \\'29180\\', \\'item_name\\': \\'Osmos\\', \\'playtime_forever\\': 940, \\'playtime_2weeks\\': 0}, {\\'item_id\\': \\'15520\\', \\'item_name\\': \\'AaAaAA!!! - A Reckless Disregard for Gravity\\', \\'playtime_forever\\': 110, \\'playtime_2weeks\\': 0}, {\\'item_id\\': \\'32370\\', \\'item_name\\': \\'STAR WARS™: Knights of the Old Republic™\\', \\'playtime_forever\\': 5, \\'playtime_2weeks\\': 0}, {\\'item_id\\': \\'37700\\', \\'item_name\\': \\'Darkest of Days\\', \\'playtime_forever\\': 782, \\'playtime_2weeks\\': 0}, {\\'item_id\\': \\'6020\\', \\'item_name\\': \\'STAR WARS™ Jedi Knight: Jedi Academy™\\', \\'playtime_forever\\': 77, \\'playtime_2weeks\\': 0}, {\\'item_id\\': \\'24860\\', \\'item_name\\': \\'Battlefield 2\\', \\'playtime_forever\\': 437, \\'playtime_2weeks\\': 0}, {\\'item_id\\': \\'39530\\', \\'item_name\\': \\'Painkiller: Black Edition\\', \\'playtime_forever\\': 503, \\'playtime_2weeks\\': 0}, {\\'item_id\\': \\'550\\', \\'item_name\\': \\'Left 4 Dead 2\\', \\'playtime_forever\\': 1474, \\'playtime_2weeks\\': 0}, {\\'item_id\\': \\'223530\\', \\'item_name\\': \\'Left 4 Dead 2 Beta\\', \\'playtime_forever\\': 0, \\'playtime_2weeks\\': 0}, {\\'item_id\\': \\'8980\\', \\'item_name\\': \\'Borderlands\\', \\'playtime_forever\\': 3061, \\'playtime_2weeks\\': 0}, {\\'item_id\\': \\'41500\\', \\'item_name\\': \\'Torchlight\\', \\'playtime_forever\\': 536, \\'playtime_2weeks\\': 0}, {\\'item_id\\': \\'20900\\', \\'item_name\\': \\'The Witcher: Enhanced Edition\\', \\'playtime_forever\\': 139, \\'playtime_2weeks\\': 0}, {\\'item_id\\': \\'10180\\', \\'item_name\\': \\'Call of Duty: Modern Warfare 2\\', \\'playtime_forever\\': 1886, \\'playtime_2weeks\\': 0}, {\\'item_id\\': \\'10190\\', \\'item_name\\': \\'Call of Duty: Modern Warfare 2 - Multiplayer\\', \\'playtime_forever\\': 1784, \\'playtime_2weeks\\': 0}, {\\'item_id\\': \\'17450\\', \\'item_name\\': \\'Dragon Age: Origins\\', \\'playtime_forever\\': 4431, \\'playtime_2weeks\\': 0}, {\\'item_id\\': \\'3170\\', \\'item_name\\': \"King\\'s Bounty: Armored Princess\", \\'playtime_forever\\': 1021, \\'playtime_2weeks\\': 0}, {\\'item_id\\': \\'25900\\', \\'item_name\\': \"King\\'s Bounty: The Legend\", \\'playtime_forever\\': 1389, \\'playtime_2weeks\\': 0}, {\\'item_id\\': \\'31410\\', \\'item_name\\': \\'Zombie Driver\\', \\'playtime_forever\\': 95, \\'playtime_2weeks\\': 0}, {\\'item_id\\': \\'24980\\', \\'item_name\\': \\'Mass Effect 2\\', \\'playtime_forever\\': 5001, \\'playtime_2weeks\\': 0}, {\\'item_id\\': \\'8850\\', \\'item_name\\': \\'BioShock 2\\', \\'playtime_forever\\': 1504, \\'playtime_2weeks\\': 0}, {\\'item_id\\': \\'409720\\', \\'item_name\\': \\'BioShock 2 Remastered\\', \\'playtime_forever\\': 0, \\'playtime_2weeks\\': 0}, {\\'item_id\\': \\'46000\\', \\'item_name\\': \\'Bob Came in Pieces\\', \\'playtime_forever\\': 11, \\'playtime_2weeks\\': 0}, {\\'item_id\\': \\'33230\\', \\'item_name\\': \"Assassin\\'s Creed II\", \\'playtime_forever\\': 1636, \\'playtime_2weeks\\': 0}, {\\'item_id\\': \\'20820\\', \\'item_name\\': \\'Shatter\\', \\'playtime_forever\\': 46, \\'playtime_2weeks\\': 0}, {\\'item_id\\': \\'47700\\', \\'item_name\\': \\'Command and Conquer 4: Tiberian Twilight\\', \\'playtime_forever\\': 85, \\'playtime_2weeks\\': 0}, {\\'item_id\\': \\'24960\\', \\'item_name\\': \\'Battlefield: Bad Company 2\\', \\'playtime_forever\\': 5716, \\'playtime_2weeks\\': 0}, {\\'item_id\\': \\'43110\\', \\'item_name\\': \\'Metro 2033\\', \\'playtime_forever\\': 834, \\'playtime_2weeks\\': 0}, {\\'item_id\\': \\'8190\\', \\'item_name\\': \\'Just Cause 2\\', \\'playtime_forever\\': 3083, \\'playtime_2weeks\\': 0}, {\\'item_id\\': \\'49600\\', \\'item_name\\': \\'Beat Hazard\\', \\'playtime_forever\\': 127, \\'playtime_2weeks\\': 0}, {\\'item_id\\': \\'31220\\', \\'item_name\\': \\'Sam & Max 301: The Penal Zone\\', \\'playtime_forever\\': 71, \\'playtime_2weeks\\': 0}, {\\'item_id\\': \\'31230\\', \\'item_name\\': \\'Sam & Max 302: The Tomb of Sammun-Mak\\', \\'playtime_forever\\': 0, \\'playtime_2weeks\\': 0}, {\\'item_id\\': \\'31240\\', \\'item_name\\': \"Sam & Max 303: They Stole Max\\'s Brain!\", \\'playtime_forever\\': 0, \\'playtime_2weeks\\': 0}, {\\'item_id\\': \\'31250\\', \\'item_name\\': \\'Sam & Max 304: Beyond the Alley of the Dolls\\', \\'playtime_forever\\': 0, \\'playtime_2weeks\\': 0}, {\\'item_id\\': \\'31260\\', \\'item_name\\': \\'Sam & Max 305: The City that Dares not Sleep\\', \\'playtime_forever\\': 0, \\'playtime_2weeks\\': 0}, {\\'item_id\\': \\'21090\\', \\'item_name\\': \\'F.E.A.R.\\', \\'playtime_forever\\': 585, \\'playtime_2weeks\\': 0}, {\\'item_id\\': \\'21110\\', \\'item_name\\': \\'F.E.A.R.: Extraction Point\\', \\'playtime_forever\\': 146, \\'playtime_2weeks\\': 0}, {\\'item_id\\': \\'21120\\', \\'item_name\\': \\'F.E.A.R.: Perseus Mandate\\', \\'playtime_forever\\': 0, \\'playtime_2weeks\\': 0}, {\\'item_id\\': \\'49400\\', \\'item_name\\': \\'Magic: The Gathering - Duels of the Planeswalkers\\', \\'playtime_forever\\': 32, \\'playtime_2weeks\\': 0}, {\\'item_id\\': \\'33910\\', \\'item_name\\': \\'Arma 2\\', \\'playtime_forever\\': 3, \\'playtime_2weeks\\': 0}, {\\'item_id\\': \\'33930\\', \\'item_name\\': \\'Arma 2: Operation Arrowhead\\', \\'playtime_forever\\': 3, \\'playtime_2weeks\\': 0}, {\\'item_id\\': \\'219540\\', \\'item_name\\': \\'Arma 2: Operation Arrowhead Beta (Obsolete)\\', \\'playtime_forever\\': 0, \\'playtime_2weeks\\': 0}, {\\'item_id\\': \\'17410\\', \\'item_name\\': \"Mirror\\'s Edge\", \\'playtime_forever\\': 0, \\'playtime_2weeks\\': 0}, {\\'item_id\\': \\'205790\\', \\'item_name\\': \\'Dota 2 Test\\', \\'playtime_forever\\': 0, \\'playtime_2weeks\\': 0}, {\\'item_id\\': \\'50130\\', \\'item_name\\': \\'Mafia II\\', \\'playtime_forever\\': 707, \\'playtime_2weeks\\': 0}, {\\'item_id\\': \\'62100\\', \\'item_name\\': \\'Chime\\', \\'playtime_forever\\': 50, \\'playtime_2weeks\\': 0}, {\\'item_id\\': \\'31280\\', \\'item_name\\': \\'Poker Night at the Inventory\\', \\'playtime_forever\\': 206, \\'playtime_2weeks\\': 0}, {\\'item_id\\': \\'57300\\', \\'item_name\\': \\'Amnesia: The Dark Descent\\', \\'playtime_forever\\': 12, \\'playtime_2weeks\\': 0}, {\\'item_id\\': \\'21970\\', \\'item_name\\': \\'R.U.S.E\\', \\'playtime_forever\\': 64, \\'playtime_2weeks\\': 0}, {\\'item_id\\': \\'8930\\', \\'item_name\\': \"Sid Meier\\'s Civilization V\", \\'playtime_forever\\': 10345, \\'playtime_2weeks\\': 0}, {\\'item_id\\': \\'41000\\', \\'item_name\\': \\'Serious Sam HD: The First Encounter\\', \\'playtime_forever\\': 369, \\'playtime_2weeks\\': 0}, {\\'item_id\\': \\'41050\\', \\'item_name\\': \\'Serious Sam Classic: The First Encounter\\', \\'playtime_forever\\': 76, \\'playtime_2weeks\\': 0}, {\\'item_id\\': \\'41060\\', \\'item_name\\': \\'Serious Sam Classic: The Second Encounter\\', \\'playtime_forever\\': 0, \\'playtime_2weeks\\': 0}, {\\'item_id\\': \\'227780\\', \\'item_name\\': \\'Serious Sam Classics: Revolution\\', \\'playtime_forever\\': 0, \\'playtime_2weeks\\': 0}, {\\'item_id\\': \\'18040\\', \\'item_name\\': \\'DeathSpank\\', \\'playtime_forever\\': 594, \\'playtime_2weeks\\': 0}, {\\'item_id\\': \\'22380\\', \\'item_name\\': \\'Fallout: New Vegas\\', \\'playtime_forever\\': 43, \\'playtime_2weeks\\': 0}, {\\'item_id\\': \\'42700\\', \\'item_name\\': \\'Call of Duty: Black Ops\\', \\'playtime_forever\\': 966, \\'playtime_2weeks\\': 0}, {\\'item_id\\': \\'42710\\', \\'item_name\\': \\'Call of Duty: Black Ops - Multiplayer\\', \\'playtime_forever\\': 2452, \\'playtime_2weeks\\': 0}, {\\'item_id\\': \\'62000\\', \\'item_name\\': \\'Flight Control HD\\', \\'playtime_forever\\': 25, \\'playtime_2weeks\\': 0}, {\\'item_id\\': \\'40800\\', \\'item_name\\': \\'Super Meat Boy\\', \\'playtime_forever\\': 119, \\'playtime_2weeks\\': 0}, {\\'item_id\\': \\'9500\\', \\'item_name\\': \\'Gish\\', \\'playtime_forever\\': 6, \\'playtime_2weeks\\': 0}, {\\'item_id\\': \\'18700\\', \\'item_name\\': \\'And Yet It Moves\\', \\'playtime_forever\\': 0, \\'playtime_2weeks\\': 0}, {\\'item_id\\': \\'31270\\', \\'item_name\\': \\'Puzzle Agent\\', \\'playtime_forever\\': 0, \\'playtime_2weeks\\': 0}, {\\'item_id\\': \\'58200\\', \\'item_name\\': \\'Jolly Rover\\', \\'playtime_forever\\': 0, \\'playtime_2weeks\\': 0}, {\\'item_id\\': \\'70400\\', \\'item_name\\': \"Recettear: An Item Shop\\'s Tale\", \\'playtime_forever\\': 537, \\'playtime_2weeks\\': 0}, {\\'item_id\\': \\'41300\\', \\'item_name\\': \\'Altitude\\', \\'playtime_forever\\': 50, \\'playtime_2weeks\\': 0}, {\\'item_id\\': \\'41800\\', \\'item_name\\': \\'Gratuitous Space Battles\\', \\'playtime_forever\\': 149, \\'playtime_2weeks\\': 0}, {\\'item_id\\': \\'42500\\', \\'item_name\\': \\'DogFighter\\', \\'playtime_forever\\': 0, \\'playtime_2weeks\\': 0}, {\\'item_id\\': \\'49900\\', \\'item_name\\': \\'Plain Sight\\', \\'playtime_forever\\': 23, \\'playtime_2weeks\\': 0}, {\\'item_id\\': \\'55000\\', \\'item_name\\': \\'Flotilla\\', \\'playtime_forever\\': 0, \\'playtime_2weeks\\': 0}, {\\'item_id\\': \\'34330\\', \\'item_name\\': \\'Total War: SHOGUN 2\\', \\'playtime_forever\\': 1538, \\'playtime_2weeks\\': 0}, {\\'item_id\\': \\'63200\\', \\'item_name\\': \\'Monday Night Combat\\', \\'playtime_forever\\': 573, \\'playtime_2weeks\\': 0}, {\\'item_id\\': \\'99810\\', \\'item_name\\': \\'Bulletstorm\\', \\'playtime_forever\\': 2, \\'playtime_2weeks\\': 0}, {\\'item_id\\': \\'620\\', \\'item_name\\': \\'Portal 2\\', \\'playtime_forever\\': 887, \\'playtime_2weeks\\': 0}, {\\'item_id\\': \\'42910\\', \\'item_name\\': \\'Magicka\\', \\'playtime_forever\\': 588, \\'playtime_2weeks\\': 0}, {\\'item_id\\': \\'15500\\', \\'item_name\\': \\'The Wonderful End of the World\\', \\'playtime_forever\\': 0, \\'playtime_2weeks\\': 0}, {\\'item_id\\': \\'15540\\', \\'item_name\\': \\'1... 2... 3... KICK IT! (Drop That Beat Like an Ugly Baby)\\', \\'playtime_forever\\': 4, \\'playtime_2weeks\\': 0}, {\\'item_id\\': \\'18500\\', \\'item_name\\': \\'Defense Grid: The Awakening\\', \\'playtime_forever\\': 126, \\'playtime_2weeks\\': 0}, {\\'item_id\\': \\'26500\\', \\'item_name\\': \\'Cogs\\', \\'playtime_forever\\': 0, \\'playtime_2weeks\\': 0}, {\\'item_id\\': \\'35460\\', \\'item_name\\': \\'The Ball\\', \\'playtime_forever\\': 0, \\'playtime_2weeks\\': 0}, {\\'item_id\\': \\'38700\\', \\'item_name\\': \\'Toki Tori\\', \\'playtime_forever\\': 0, \\'playtime_2weeks\\': 0}, {\\'item_id\\': \\'38720\\', \\'item_name\\': \\'RUSH\\', \\'playtime_forever\\': 0, \\'playtime_2weeks\\': 0}, {\\'item_id\\': \\'63700\\', \\'item_name\\': \\'BIT.TRIP BEAT\\', \\'playtime_forever\\': 0, \\'playtime_2weeks\\': 0}, {\\'item_id\\': \\'280\\', \\'item_name\\': \\'Half-Life: Source\\', \\'playtime_forever\\': 0, \\'playtime_2weeks\\': 0}, {\\'item_id\\': \\'20920\\', \\'item_name\\': \\'The Witcher 2: Assassins of Kings Enhanced Edition\\', \\'playtime_forever\\': 1343, \\'playtime_2weeks\\': 0}, {\\'item_id\\': \\'105600\\', \\'item_name\\': \\'Terraria\\', \\'playtime_forever\\': 772, \\'playtime_2weeks\\': 0}, {\\'item_id\\': \\'98200\\', \\'item_name\\': \\'Frozen Synapse\\', \\'playtime_forever\\': 9, \\'playtime_2weeks\\': 0}, {\\'item_id\\': \\'4500\\', \\'item_name\\': \\'S.T.A.L.K.E.R.: Shadow of Chernobyl\\', \\'playtime_forever\\': 0, \\'playtime_2weeks\\': 0}, {\\'item_id\\': \\'4540\\', \\'item_name\\': \\'Titan Quest\\', \\'playtime_forever\\': 3, \\'playtime_2weeks\\': 0}, {\\'item_id\\': \\'4550\\', \\'item_name\\': \\'Titan Quest: Immortal Throne\\', \\'playtime_forever\\': 76, \\'playtime_2weeks\\': 0}, {\\'item_id\\': \\'9480\\', \\'item_name\\': \\'Saints Row 2\\', \\'playtime_forever\\': 0, \\'playtime_2weeks\\': 0}, {\\'item_id\\': \\'15620\\', \\'item_name\\': \\'Warhammer® 40,000™: Dawn of War® II\\', \\'playtime_forever\\': 2085, \\'playtime_2weeks\\': 0}, {\\'item_id\\': \\'20500\\', \\'item_name\\': \\'Red Faction: Guerrilla Steam Edition\\', \\'playtime_forever\\': 0, \\'playtime_2weeks\\': 0}, {\\'item_id\\': \\'20570\\', \\'item_name\\': \\'Warhammer® 40,000™: Dawn of War® II - Chaos Rising™\\', \\'playtime_forever\\': 69, \\'playtime_2weeks\\': 0}, {\\'item_id\\': \\'50620\\', \\'item_name\\': \\'Darksiders\\', \\'playtime_forever\\': 101, \\'playtime_2weeks\\': 0}, {\\'item_id\\': \\'55100\\', \\'item_name\\': \\'Homefront\\', \\'playtime_forever\\': 51, \\'playtime_2weeks\\': 0}, {\\'item_id\\': \\'55140\\', \\'item_name\\': \\'MX vs. ATV Reflex\\', \\'playtime_forever\\': 0, \\'playtime_2weeks\\': 0}, {\\'item_id\\': \\'56400\\', \\'item_name\\': \\'Warhammer® 40,000™: Dawn of War® II – Retribution™\\', \\'playtime_forever\\': 678, \\'playtime_2weeks\\': 0}, {\\'item_id\\': \\'475150\\', \\'item_name\\': \\'Titan Quest Anniversary Edition\\', \\'playtime_forever\\': 0, \\'playtime_2weeks\\': 0}, {\\'item_id\\': \\'96100\\', \\'item_name\\': \\'Defy Gravity\\', \\'playtime_forever\\': 9, \\'playtime_2weeks\\': 0}, {\\'item_id\\': \\'35450\\', \\'item_name\\': \\'Rising Storm/Red Orchestra 2 Multiplayer\\', \\'playtime_forever\\': 14194, \\'playtime_2weeks\\': 0}, {\\'item_id\\': \\'236830\\', \\'item_name\\': \\'Red Orchestra 2: Heroes of Stalingrad - Single Player\\', \\'playtime_forever\\': 0, \\'playtime_2weeks\\': 0}, {\\'item_id\\': \\'72850\\', \\'item_name\\': \\'The Elder Scrolls V: Skyrim\\', \\'playtime_forever\\': 2512, \\'playtime_2weeks\\': 0}, {\\'item_id\\': \\'107100\\', \\'item_name\\': \\'Bastion\\', \\'playtime_forever\\': 640, \\'playtime_2weeks\\': 0}, {\\'item_id\\': \\'57690\\', \\'item_name\\': \\'Tropico 4\\', \\'playtime_forever\\': 1815, \\'playtime_2weeks\\': 0}, {\\'item_id\\': \\'91310\\', \\'item_name\\': \\'Dead Island\\', \\'playtime_forever\\': 2078, \\'playtime_2weeks\\': 0}, {\\'item_id\\': \\'113200\\', \\'item_name\\': \\'The Binding of Isaac\\', \\'playtime_forever\\': 1494, \\'playtime_2weeks\\': 0}, {\\'item_id\\': \\'65800\\', \\'item_name\\': \\'Dungeon Defenders\\', \\'playtime_forever\\': 130, \\'playtime_2weeks\\': 0}, {\\'item_id\\': \\'9200\\', \\'item_name\\': \\'RAGE\\', \\'playtime_forever\\': 653, \\'playtime_2weeks\\': 0}, {\\'item_id\\': \\'41070\\', \\'item_name\\': \\'Serious Sam 3: BFE\\', \\'playtime_forever\\': 716, \\'playtime_2weeks\\': 0}, {\\'item_id\\': \\'48950\\', \\'item_name\\': \\'Greed Corp\\', \\'playtime_forever\\': 72, \\'playtime_2weeks\\': 0}, {\\'item_id\\': \\'92800\\', \\'item_name\\': \\'SpaceChem\\', \\'playtime_forever\\': 262, \\'playtime_2weeks\\': 0}, {\\'item_id\\': \\'104700\\', \\'item_name\\': \\'Super Monday Night Combat\\', \\'playtime_forever\\': 44, \\'playtime_2weeks\\': 0}, {\\'item_id\\': \\'203770\\', \\'item_name\\': \\'Crusader Kings II\\', \\'playtime_forever\\': 18, \\'playtime_2weeks\\': 0}, {\\'item_id\\': \\'203810\\', \\'item_name\\': \\'Dear Esther\\', \\'playtime_forever\\': 86, \\'playtime_2weeks\\': 0}, {\\'item_id\\': \\'110800\\', \\'item_name\\': \\'L.A. Noire\\', \\'playtime_forever\\': 1204, \\'playtime_2weeks\\': 0}, {\\'item_id\\': \\'207610\\', \\'item_name\\': \\'The Walking Dead\\', \\'playtime_forever\\': 798, \\'playtime_2weeks\\': 0}, {\\'item_id\\': \\'98300\\', \\'item_name\\': \\'Toy Soldiers\\', \\'playtime_forever\\': 110, \\'playtime_2weeks\\': 0}, {\\'item_id\\': \\'50300\\', \\'item_name\\': \\'Spec Ops: The Line\\', \\'playtime_forever\\': 296, \\'playtime_2weeks\\': 0}, {\\'item_id\\': \\'204300\\', \\'item_name\\': \\'Awesomenauts\\', \\'playtime_forever\\': 0, \\'playtime_2weeks\\': 0}, {\\'item_id\\': \\'1700\\', \\'item_name\\': \\'Arx Fatalis\\', \\'playtime_forever\\': 0, \\'playtime_2weeks\\': 0}, {\\'item_id\\': \\'205100\\', \\'item_name\\': \\'Dishonored\\', \\'playtime_forever\\': 1429, \\'playtime_2weeks\\': 0}, {\\'item_id\\': \\'211120\\', \\'item_name\\': \\'The Political Machine\\', \\'playtime_forever\\': 1, \\'playtime_2weeks\\': 0}, {\\'item_id\\': \\'730\\', \\'item_name\\': \\'Counter-Strike: Global Offensive\\', \\'playtime_forever\\': 23532, \\'playtime_2weeks\\': 0}, {\\'item_id\\': \\'49520\\', \\'item_name\\': \\'Borderlands 2\\', \\'playtime_forever\\': 1303, \\'playtime_2weeks\\': 0}, {\\'item_id\\': \\'200260\\', \\'item_name\\': \\'Batman: Arkham City GOTY\\', \\'playtime_forever\\': 100, \\'playtime_2weeks\\': 0}, {\\'item_id\\': \\'212680\\', \\'item_name\\': \\'FTL: Faster Than Light\\', \\'playtime_forever\\': 500, \\'playtime_2weeks\\': 0}, {\\'item_id\\': \\'200710\\', \\'item_name\\': \\'Torchlight II\\', \\'playtime_forever\\': 459, \\'playtime_2weeks\\': 0}, {\\'item_id\\': \\'219150\\', \\'item_name\\': \\'Hotline Miami\\', \\'playtime_forever\\': 0, \\'playtime_2weeks\\': 0}, {\\'item_id\\': \\'215510\\', \\'item_name\\': \\'Rocketbirds: Hardboiled Chicken\\', \\'playtime_forever\\': 0, \\'playtime_2weeks\\': 0}, {\\'item_id\\': \\'8870\\', \\'item_name\\': \\'BioShock Infinite\\', \\'playtime_forever\\': 2084, \\'playtime_2weeks\\': 0}, {\\'item_id\\': \\'200510\\', \\'item_name\\': \\'XCOM: Enemy Unknown\\', \\'playtime_forever\\': 3478, \\'playtime_2weeks\\': 0}, {\\'item_id\\': \\'220240\\', \\'item_name\\': \\'Far Cry® 3\\', \\'playtime_forever\\': 182, \\'playtime_2weeks\\': 0}, {\\'item_id\\': \\'218680\\', \\'item_name\\': \\'Scribblenauts Unlimited\\', \\'playtime_forever\\': 0, \\'playtime_2weeks\\': 0}, {\\'item_id\\': \\'228280\\', \\'item_name\\': \"Baldur\\'s Gate: Enhanced Edition\", \\'playtime_forever\\': 905, \\'playtime_2weeks\\': 0}, {\\'item_id\\': \\'212070\\', \\'item_name\\': \\'Star Conflict\\', \\'playtime_forever\\': 0, \\'playtime_2weeks\\': 0}, {\\'item_id\\': \\'218230\\', \\'item_name\\': \\'PlanetSide 2\\', \\'playtime_forever\\': 51, \\'playtime_2weeks\\': 0}, {\\'item_id\\': \\'236390\\', \\'item_name\\': \\'War Thunder\\', \\'playtime_forever\\': 50, \\'playtime_2weeks\\': 0}, {\\'item_id\\': \\'3483\\', \\'item_name\\': \\'Peggle Extreme\\', \\'playtime_forever\\': 0, \\'playtime_2weeks\\': 0}, {\\'item_id\\': \\'203160\\', \\'item_name\\': \\'Tomb Raider\\', \\'playtime_forever\\': 0, \\'playtime_2weeks\\': 0}, {\\'item_id\\': \\'227080\\', \\'item_name\\': \\'Papo & Yo\\', \\'playtime_forever\\': 81, \\'playtime_2weeks\\': 0}, {\\'item_id\\': \\'233450\\', \\'item_name\\': \\'Prison Architect\\', \\'playtime_forever\\': 24, \\'playtime_2weeks\\': 0}, {\\'item_id\\': \\'43160\\', \\'item_name\\': \\'Metro: Last Light\\', \\'playtime_forever\\': 712, \\'playtime_2weeks\\': 0}, {\\'item_id\\': \\'219740\\', \\'item_name\\': \"Don\\'t Starve\", \\'playtime_forever\\': 139, \\'playtime_2weeks\\': 0}, {\\'item_id\\': \\'322330\\', \\'item_name\\': \"Don\\'t Starve Together\", \\'playtime_forever\\': 0, \\'playtime_2weeks\\': 0}, {\\'item_id\\': \\'222730\\', \\'item_name\\': \\'Reus\\', \\'playtime_forever\\': 319, \\'playtime_2weeks\\': 0}, {\\'item_id\\': \\'241600\\', \\'item_name\\': \\'Rogue Legacy\\', \\'playtime_forever\\': 73, \\'playtime_2weeks\\': 0}, {\\'item_id\\': \\'238930\\', \\'item_name\\': \\'7 Grand Steps, Step 1: What Ancients Begat\\', \\'playtime_forever\\': 159, \\'playtime_2weeks\\': 0}, {\\'item_id\\': \\'217140\\', \\'item_name\\': \\'Rise of the Triad\\', \\'playtime_forever\\': 199, \\'playtime_2weeks\\': 0}, {\\'item_id\\': \\'39140\\', \\'item_name\\': \\'FINAL FANTASY VII\\', \\'playtime_forever\\': 2896, \\'playtime_2weeks\\': 0}, {\\'item_id\\': \\'225080\\', \\'item_name\\': \\'Brothers - A Tale of Two Sons\\', \\'playtime_forever\\': 0, \\'playtime_2weeks\\': 0}, {\\'item_id\\': \\'239030\\', \\'item_name\\': \\'Papers, Please\\', \\'playtime_forever\\': 194, \\'playtime_2weeks\\': 0}, {\\'item_id\\': \\'248820\\', \\'item_name\\': \\'Risk of Rain\\', \\'playtime_forever\\': 272, \\'playtime_2weeks\\': 0}, {\\'item_id\\': \\'239350\\', \\'item_name\\': \\'Spelunky\\', \\'playtime_forever\\': 458, \\'playtime_2weeks\\': 0}, {\\'item_id\\': \\'218620\\', \\'item_name\\': \\'PAYDAY 2\\', \\'playtime_forever\\': 574, \\'playtime_2weeks\\': 0}, {\\'item_id\\': \\'206420\\', \\'item_name\\': \\'Saints Row IV\\', \\'playtime_forever\\': 0, \\'playtime_2weeks\\': 0}, {\\'item_id\\': \\'236850\\', \\'item_name\\': \\'Europa Universalis IV\\', \\'playtime_forever\\': 89, \\'playtime_2weeks\\': 0}, {\\'item_id\\': \\'47790\\', \\'item_name\\': \\'Medal of Honor(TM) Single Player\\', \\'playtime_forever\\': 230, \\'playtime_2weeks\\': 0}, {\\'item_id\\': \\'47830\\', \\'item_name\\': \\'Medal of Honor(TM) Multiplayer\\', \\'playtime_forever\\': 0, \\'playtime_2weeks\\': 0}, {\\'item_id\\': \\'250320\\', \\'item_name\\': \\'The Wolf Among Us\\', \\'playtime_forever\\': 500, \\'playtime_2weeks\\': 0}, {\\'item_id\\': \\'250900\\', \\'item_name\\': \\'The Binding of Isaac: Rebirth\\', \\'playtime_forever\\': 329, \\'playtime_2weeks\\': 0}, {\\'item_id\\': \\'204450\\', \\'item_name\\': \\'Call of Juarez Gunslinger\\', \\'playtime_forever\\': 241, \\'playtime_2weeks\\': 0}, {\\'item_id\\': \\'233270\\', \\'item_name\\': \\'Far Cry® 3 Blood Dragon\\', \\'playtime_forever\\': 0, \\'playtime_2weeks\\': 0}, {\\'item_id\\': \\'251990\\', \\'item_name\\': \\'Long Live The Queen\\', \\'playtime_forever\\': 135, \\'playtime_2weeks\\': 0}, {\\'item_id\\': \\'253980\\', \\'item_name\\': \\'Enclave\\', \\'playtime_forever\\': 0, \\'playtime_2weeks\\': 0}, {\\'item_id\\': \\'236450\\', \\'item_name\\': \\'PAC-MAN Championship Edition DX+\\', \\'playtime_forever\\': 154, \\'playtime_2weeks\\': 0}, {\\'item_id\\': \\'242050\\', \\'item_name\\': \"Assassin\\'s Creed IV Black Flag\", \\'playtime_forever\\': 1377, \\'playtime_2weeks\\': 0}, {\\'item_id\\': \\'257350\\', \\'item_name\\': \"Baldur\\'s Gate II: Enhanced Edition\", \\'playtime_forever\\': 0, \\'playtime_2weeks\\': 0}, {\\'item_id\\': \\'213670\\', \\'item_name\\': \\'South Park™: The Stick of Truth™\\', \\'playtime_forever\\': 121, \\'playtime_2weeks\\': 0}, {\\'item_id\\': \\'238010\\', \\'item_name\\': \"Deus Ex: Human Revolution - Director\\'s Cut\", \\'playtime_forever\\': 2176, \\'playtime_2weeks\\': 0}, {\\'item_id\\': \\'245470\\', \\'item_name\\': \\'Democracy 3\\', \\'playtime_forever\\': 246, \\'playtime_2weeks\\': 0}, {\\'item_id\\': \\'221910\\', \\'item_name\\': \\'The Stanley Parable\\', \\'playtime_forever\\': 157, \\'playtime_2weeks\\': 0}, {\\'item_id\\': \\'260230\\', \\'item_name\\': \\'Valiant Hearts: The Great War™ / Soldats Inconnus : Mémoires de la Grande Guerre™\\', \\'playtime_forever\\': 467, \\'playtime_2weeks\\': 0}, {\\'item_id\\': \\'238430\\', \\'item_name\\': \\'Contagion\\', \\'playtime_forever\\': 77, \\'playtime_2weeks\\': 0}, {\\'item_id\\': \\'261030\\', \\'item_name\\': \\'The Walking Dead: Season Two\\', \\'playtime_forever\\': 567, \\'playtime_2weeks\\': 0}, {\\'item_id\\': \\'261570\\', \\'item_name\\': \\'Ori and the Blind Forest\\', \\'playtime_forever\\': 39, \\'playtime_2weeks\\': 0}, {\\'item_id\\': \\'263980\\', \\'item_name\\': \\'Out There Somewhere\\', \\'playtime_forever\\': 0, \\'playtime_2weeks\\': 0}, {\\'item_id\\': \\'39150\\', \\'item_name\\': \\'FINAL FANTASY VIII\\', \\'playtime_forever\\': 15, \\'playtime_2weeks\\': 0}, {\\'item_id\\': \\'230230\\', \\'item_name\\': \\'Divinity: Original Sin (Classic)\\', \\'playtime_forever\\': 522, \\'playtime_2weeks\\': 0}, {\\'item_id\\': \\'373420\\', \\'item_name\\': \\'Divinity: Original Sin Enhanced Edition\\', \\'playtime_forever\\': 0, \\'playtime_2weeks\\': 0}, {\\'item_id\\': \\'232790\\', \\'item_name\\': \\'Broken Age\\', \\'playtime_forever\\': 216, \\'playtime_2weeks\\': 0}, {\\'item_id\\': \\'237990\\', \\'item_name\\': \\'The Banner Saga\\', \\'playtime_forever\\': 19, \\'playtime_2weeks\\': 0}, {\\'item_id\\': \\'273620\\', \\'item_name\\': \\'Freespace 2\\', \\'playtime_forever\\': 848, \\'playtime_2weeks\\': 0}, {\\'item_id\\': \\'222880\\', \\'item_name\\': \\'Insurgency\\', \\'playtime_forever\\': 3031, \\'playtime_2weeks\\': 0}, {\\'item_id\\': \\'225840\\', \\'item_name\\': \\'Sven Co-op\\', \\'playtime_forever\\': 26, \\'playtime_2weeks\\': 0}, {\\'item_id\\': \\'222900\\', \\'item_name\\': \\'Dead Island: Epidemic\\', \\'playtime_forever\\': 0, \\'playtime_2weeks\\': 0}, {\\'item_id\\': \\'280220\\', \\'item_name\\': \\'Creeper World 3: Arc Eternal\\', \\'playtime_forever\\': 941, \\'playtime_2weeks\\': 0}, {\\'item_id\\': \\'236430\\', \\'item_name\\': \\'DARK SOULS™ II\\', \\'playtime_forever\\': 592, \\'playtime_2weeks\\': 0}, {\\'item_id\\': \\'201810\\', \\'item_name\\': \\'Wolfenstein: The New Order\\', \\'playtime_forever\\': 599, \\'playtime_2weeks\\': 0}, {\\'item_id\\': \\'294860\\', \\'item_name\\': \\'Valkyria Chronicles™\\', \\'playtime_forever\\': 1735, \\'playtime_2weeks\\': 0}, {\\'item_id\\': \\'295690\\', \\'item_name\\': \\'PARTICLE MACE\\', \\'playtime_forever\\': 0, \\'playtime_2weeks\\': 0}, {\\'item_id\\': \\'238460\\', \\'item_name\\': \\'BattleBlock Theater\\', \\'playtime_forever\\': 407, \\'playtime_2weeks\\': 0}, {\\'item_id\\': \\'237930\\', \\'item_name\\': \\'Transistor\\', \\'playtime_forever\\': 154, \\'playtime_2weeks\\': 0}, {\\'item_id\\': \\'301480\\', \\'item_name\\': \\'GEARCRACK Arena\\', \\'playtime_forever\\': 0, \\'playtime_2weeks\\': 0}, {\\'item_id\\': \\'303390\\', \\'item_name\\': \\'Dead Bits\\', \\'playtime_forever\\': 0, \\'playtime_2weeks\\': 0}, {\\'item_id\\': \\'306660\\', \\'item_name\\': \\'Ultimate General: Gettysburg\\', \\'playtime_forever\\': 1245, \\'playtime_2weeks\\': 0}, {\\'item_id\\': \\'316790\\', \\'item_name\\': \\'Grim Fandango Remastered\\', \\'playtime_forever\\': 42, \\'playtime_2weeks\\': 0}, {\\'item_id\\': \\'318430\\', \\'item_name\\': \\'Squishy the Suicidal Pig\\', \\'playtime_forever\\': 0, \\'playtime_2weeks\\': 0}, {\\'item_id\\': \\'241930\\', \\'item_name\\': \\'Middle-earth: Shadow of Mordor\\', \\'playtime_forever\\': 889, \\'playtime_2weeks\\': 0}, {\\'item_id\\': \\'328080\\', \\'item_name\\': \\'Retro-Pixel Castles\\', \\'playtime_forever\\': 5, \\'playtime_2weeks\\': 0}, {\\'item_id\\': \\'282070\\', \\'item_name\\': \\'This War of Mine\\', \\'playtime_forever\\': 3, \\'playtime_2weeks\\': 0}, {\\'item_id\\': \\'333930\\', \\'item_name\\': \\'Dirty Bomb\\', \\'playtime_forever\\': 2782, \\'playtime_2weeks\\': 0}, {\\'item_id\\': \\'334120\\', \\'item_name\\': \\'Armikrog\\', \\'playtime_forever\\': 109, \\'playtime_2weeks\\': 0}, {\\'item_id\\': \\'257510\\', \\'item_name\\': \\'The Talos Principle\\', \\'playtime_forever\\': 0, \\'playtime_2weeks\\': 0}, {\\'item_id\\': \\'319630\\', \\'item_name\\': \\'Life Is Strange™\\', \\'playtime_forever\\': 37, \\'playtime_2weeks\\': 0}, {\\'item_id\\': \\'346010\\', \\'item_name\\': \\'Besiege\\', \\'playtime_forever\\': 464, \\'playtime_2weeks\\': 0}, {\\'item_id\\': \\'255710\\', \\'item_name\\': \\'Cities: Skylines\\', \\'playtime_forever\\': 246, \\'playtime_2weeks\\': 0}, {\\'item_id\\': \\'232090\\', \\'item_name\\': \\'Killing Floor 2\\', \\'playtime_forever\\': 6494, \\'playtime_2weeks\\': 0}, {\\'item_id\\': \\'232150\\', \\'item_name\\': \\'Killing Floor 2 - SDK\\', \\'playtime_forever\\': 0, \\'playtime_2weeks\\': 0}, {\\'item_id\\': \\'377160\\', \\'item_name\\': \\'Fallout 4\\', \\'playtime_forever\\': 2001, \\'playtime_2weeks\\': 0}, {\\'item_id\\': \\'340170\\', \\'item_name\\': \\'FINAL FANTASY TYPE-0 HD\\', \\'playtime_forever\\': 170, \\'playtime_2weeks\\': 0}, {\\'item_id\\': \\'391540\\', \\'item_name\\': \\'Undertale\\', \\'playtime_forever\\': 395, \\'playtime_2weeks\\': 0}, {\\'item_id\\': \\'396660\\', \\'item_name\\': \\'Tahira: Echoes of the Astral Empire\\', \\'playtime_forever\\': 0, \\'playtime_2weeks\\': 0}, {\\'item_id\\': \\'337000\\', \\'item_name\\': \\'Deus Ex: Mankind Divided™\\', \\'playtime_forever\\': 1159, \\'playtime_2weeks\\': 0}, {\\'item_id\\': \\'368230\\', \\'item_name\\': \\'Kingdom: Classic\\', \\'playtime_forever\\': 83, \\'playtime_2weeks\\': 0}, {\\'item_id\\': \\'496300\\', \\'item_name\\': \\'Kingdom: New Lands\\', \\'playtime_forever\\': 0, \\'playtime_2weeks\\': 0}, {\\'item_id\\': \\'231430\\', \\'item_name\\': \\'Company of Heroes 2\\', \\'playtime_forever\\': 0, \\'playtime_2weeks\\': 0}, {\\'item_id\\': \\'289130\\', \\'item_name\\': \\'Endless Legend\\', \\'playtime_forever\\': 593, \\'playtime_2weeks\\': 0}, {\\'item_id\\': \\'268500\\', \\'item_name\\': \\'XCOM 2\\', \\'playtime_forever\\': 1495, \\'playtime_2weeks\\': 0}, {\\'item_id\\': \\'461640\\', \\'item_name\\': \\'Sins Of The Demon RPG\\', \\'playtime_forever\\': 0, \\'playtime_2weeks\\': 0}, {\\'item_id\\': \\'379720\\', \\'item_name\\': \\'DOOM\\', \\'playtime_forever\\': 793, \\'playtime_2weeks\\': 0}, {\\'item_id\\': \\'273350\\', \\'item_name\\': \\'Evolve Stage 2\\', \\'playtime_forever\\': 58, \\'playtime_2weeks\\': 0}]'"
      ]
     },
     "execution_count": 27,
     "metadata": {},
     "output_type": "execute_result"
    }
   ],
   "source": [
    "user_items['items'][0]"
   ]
  },
  {
   "cell_type": "markdown",
   "metadata": {},
   "source": [
    "### Desanidamos las columnas anidadas"
   ]
  },
  {
   "cell_type": "markdown",
   "metadata": {},
   "source": [
    "Para desanidar, ambas columnas, de ambos DataFrames, utilizamos la lista obtenida al comienzo, cuando abrimos el archivo json."
   ]
  },
  {
   "cell_type": "markdown",
   "metadata": {},
   "source": [
    "#### Desanidamos la columna 'reviews' de DataFrame 'user_reviews'"
   ]
  },
  {
   "cell_type": "code",
   "execution_count": 28,
   "metadata": {},
   "outputs": [],
   "source": [
    "reviews_desanidado = pd.json_normalize(reviews, record_path = ['reviews'], meta = ['user_id', 'user_url'])"
   ]
  },
  {
   "cell_type": "code",
   "execution_count": 29,
   "metadata": {},
   "outputs": [
    {
     "data": {
      "text/html": [
       "<div>\n",
       "<style scoped>\n",
       "    .dataframe tbody tr th:only-of-type {\n",
       "        vertical-align: middle;\n",
       "    }\n",
       "\n",
       "    .dataframe tbody tr th {\n",
       "        vertical-align: top;\n",
       "    }\n",
       "\n",
       "    .dataframe thead th {\n",
       "        text-align: right;\n",
       "    }\n",
       "</style>\n",
       "<table border=\"1\" class=\"dataframe\">\n",
       "  <thead>\n",
       "    <tr style=\"text-align: right;\">\n",
       "      <th></th>\n",
       "      <th>funny</th>\n",
       "      <th>posted</th>\n",
       "      <th>last_edited</th>\n",
       "      <th>item_id</th>\n",
       "      <th>helpful</th>\n",
       "      <th>recommend</th>\n",
       "      <th>review</th>\n",
       "      <th>user_id</th>\n",
       "      <th>user_url</th>\n",
       "    </tr>\n",
       "  </thead>\n",
       "  <tbody>\n",
       "    <tr>\n",
       "      <th>0</th>\n",
       "      <td></td>\n",
       "      <td>Posted November 5, 2011.</td>\n",
       "      <td></td>\n",
       "      <td>1250</td>\n",
       "      <td>No ratings yet</td>\n",
       "      <td>True</td>\n",
       "      <td>Simple yet with great replayability. In my opi...</td>\n",
       "      <td>76561197970982479</td>\n",
       "      <td>http://steamcommunity.com/profiles/76561197970...</td>\n",
       "    </tr>\n",
       "    <tr>\n",
       "      <th>1</th>\n",
       "      <td></td>\n",
       "      <td>Posted July 15, 2011.</td>\n",
       "      <td></td>\n",
       "      <td>22200</td>\n",
       "      <td>No ratings yet</td>\n",
       "      <td>True</td>\n",
       "      <td>It's unique and worth a playthrough.</td>\n",
       "      <td>76561197970982479</td>\n",
       "      <td>http://steamcommunity.com/profiles/76561197970...</td>\n",
       "    </tr>\n",
       "    <tr>\n",
       "      <th>2</th>\n",
       "      <td></td>\n",
       "      <td>Posted April 21, 2011.</td>\n",
       "      <td></td>\n",
       "      <td>43110</td>\n",
       "      <td>No ratings yet</td>\n",
       "      <td>True</td>\n",
       "      <td>Great atmosphere. The gunplay can be a bit chu...</td>\n",
       "      <td>76561197970982479</td>\n",
       "      <td>http://steamcommunity.com/profiles/76561197970...</td>\n",
       "    </tr>\n",
       "    <tr>\n",
       "      <th>3</th>\n",
       "      <td></td>\n",
       "      <td>Posted June 24, 2014.</td>\n",
       "      <td></td>\n",
       "      <td>251610</td>\n",
       "      <td>15 of 20 people (75%) found this review helpful</td>\n",
       "      <td>True</td>\n",
       "      <td>I know what you think when you see this title ...</td>\n",
       "      <td>js41637</td>\n",
       "      <td>http://steamcommunity.com/id/js41637</td>\n",
       "    </tr>\n",
       "    <tr>\n",
       "      <th>4</th>\n",
       "      <td></td>\n",
       "      <td>Posted September 8, 2013.</td>\n",
       "      <td></td>\n",
       "      <td>227300</td>\n",
       "      <td>0 of 1 people (0%) found this review helpful</td>\n",
       "      <td>True</td>\n",
       "      <td>For a simple (it's actually not all that simpl...</td>\n",
       "      <td>js41637</td>\n",
       "      <td>http://steamcommunity.com/id/js41637</td>\n",
       "    </tr>\n",
       "    <tr>\n",
       "      <th>...</th>\n",
       "      <td>...</td>\n",
       "      <td>...</td>\n",
       "      <td>...</td>\n",
       "      <td>...</td>\n",
       "      <td>...</td>\n",
       "      <td>...</td>\n",
       "      <td>...</td>\n",
       "      <td>...</td>\n",
       "      <td>...</td>\n",
       "    </tr>\n",
       "    <tr>\n",
       "      <th>59300</th>\n",
       "      <td></td>\n",
       "      <td>Posted July 10.</td>\n",
       "      <td></td>\n",
       "      <td>70</td>\n",
       "      <td>No ratings yet</td>\n",
       "      <td>True</td>\n",
       "      <td>a must have classic from steam definitely wort...</td>\n",
       "      <td>76561198312638244</td>\n",
       "      <td>http://steamcommunity.com/profiles/76561198312...</td>\n",
       "    </tr>\n",
       "    <tr>\n",
       "      <th>59301</th>\n",
       "      <td></td>\n",
       "      <td>Posted July 8.</td>\n",
       "      <td></td>\n",
       "      <td>362890</td>\n",
       "      <td>No ratings yet</td>\n",
       "      <td>True</td>\n",
       "      <td>this game is a perfect remake of the original ...</td>\n",
       "      <td>76561198312638244</td>\n",
       "      <td>http://steamcommunity.com/profiles/76561198312...</td>\n",
       "    </tr>\n",
       "    <tr>\n",
       "      <th>59302</th>\n",
       "      <td>1 person found this review funny</td>\n",
       "      <td>Posted July 3.</td>\n",
       "      <td></td>\n",
       "      <td>273110</td>\n",
       "      <td>1 of 2 people (50%) found this review helpful</td>\n",
       "      <td>True</td>\n",
       "      <td>had so much fun plaing this and collecting res...</td>\n",
       "      <td>LydiaMorley</td>\n",
       "      <td>http://steamcommunity.com/id/LydiaMorley</td>\n",
       "    </tr>\n",
       "    <tr>\n",
       "      <th>59303</th>\n",
       "      <td></td>\n",
       "      <td>Posted July 20.</td>\n",
       "      <td></td>\n",
       "      <td>730</td>\n",
       "      <td>No ratings yet</td>\n",
       "      <td>True</td>\n",
       "      <td>:D</td>\n",
       "      <td>LydiaMorley</td>\n",
       "      <td>http://steamcommunity.com/id/LydiaMorley</td>\n",
       "    </tr>\n",
       "    <tr>\n",
       "      <th>59304</th>\n",
       "      <td></td>\n",
       "      <td>Posted July 2.</td>\n",
       "      <td></td>\n",
       "      <td>440</td>\n",
       "      <td>No ratings yet</td>\n",
       "      <td>True</td>\n",
       "      <td>so much fun :D</td>\n",
       "      <td>LydiaMorley</td>\n",
       "      <td>http://steamcommunity.com/id/LydiaMorley</td>\n",
       "    </tr>\n",
       "  </tbody>\n",
       "</table>\n",
       "<p>59305 rows × 9 columns</p>\n",
       "</div>"
      ],
      "text/plain": [
       "                                  funny                     posted  \\\n",
       "0                                         Posted November 5, 2011.   \n",
       "1                                            Posted July 15, 2011.   \n",
       "2                                           Posted April 21, 2011.   \n",
       "3                                            Posted June 24, 2014.   \n",
       "4                                        Posted September 8, 2013.   \n",
       "...                                 ...                        ...   \n",
       "59300                                              Posted July 10.   \n",
       "59301                                               Posted July 8.   \n",
       "59302  1 person found this review funny             Posted July 3.   \n",
       "59303                                              Posted July 20.   \n",
       "59304                                               Posted July 2.   \n",
       "\n",
       "      last_edited item_id                                          helpful  \\\n",
       "0                    1250                                   No ratings yet   \n",
       "1                   22200                                   No ratings yet   \n",
       "2                   43110                                   No ratings yet   \n",
       "3                  251610  15 of 20 people (75%) found this review helpful   \n",
       "4                  227300     0 of 1 people (0%) found this review helpful   \n",
       "...           ...     ...                                              ...   \n",
       "59300                  70                                   No ratings yet   \n",
       "59301              362890                                   No ratings yet   \n",
       "59302              273110    1 of 2 people (50%) found this review helpful   \n",
       "59303                 730                                   No ratings yet   \n",
       "59304                 440                                   No ratings yet   \n",
       "\n",
       "       recommend                                             review  \\\n",
       "0           True  Simple yet with great replayability. In my opi...   \n",
       "1           True               It's unique and worth a playthrough.   \n",
       "2           True  Great atmosphere. The gunplay can be a bit chu...   \n",
       "3           True  I know what you think when you see this title ...   \n",
       "4           True  For a simple (it's actually not all that simpl...   \n",
       "...          ...                                                ...   \n",
       "59300       True  a must have classic from steam definitely wort...   \n",
       "59301       True  this game is a perfect remake of the original ...   \n",
       "59302       True  had so much fun plaing this and collecting res...   \n",
       "59303       True                                                 :D   \n",
       "59304       True                                     so much fun :D   \n",
       "\n",
       "                 user_id                                           user_url  \n",
       "0      76561197970982479  http://steamcommunity.com/profiles/76561197970...  \n",
       "1      76561197970982479  http://steamcommunity.com/profiles/76561197970...  \n",
       "2      76561197970982479  http://steamcommunity.com/profiles/76561197970...  \n",
       "3                js41637               http://steamcommunity.com/id/js41637  \n",
       "4                js41637               http://steamcommunity.com/id/js41637  \n",
       "...                  ...                                                ...  \n",
       "59300  76561198312638244  http://steamcommunity.com/profiles/76561198312...  \n",
       "59301  76561198312638244  http://steamcommunity.com/profiles/76561198312...  \n",
       "59302        LydiaMorley           http://steamcommunity.com/id/LydiaMorley  \n",
       "59303        LydiaMorley           http://steamcommunity.com/id/LydiaMorley  \n",
       "59304        LydiaMorley           http://steamcommunity.com/id/LydiaMorley  \n",
       "\n",
       "[59305 rows x 9 columns]"
      ]
     },
     "execution_count": 29,
     "metadata": {},
     "output_type": "execute_result"
    }
   ],
   "source": [
    "reviews_desanidado"
   ]
  },
  {
   "cell_type": "markdown",
   "metadata": {},
   "source": [
    "#### Desanidamos la columna 'items' de DataFrame 'user_items'"
   ]
  },
  {
   "cell_type": "code",
   "execution_count": 30,
   "metadata": {},
   "outputs": [],
   "source": [
    "items_desanidado = pd.json_normalize(items, record_path = ['items'], meta = ['user_id','items_count','steam_id', 'user_url'])"
   ]
  },
  {
   "cell_type": "code",
   "execution_count": 31,
   "metadata": {},
   "outputs": [
    {
     "data": {
      "text/html": [
       "<div>\n",
       "<style scoped>\n",
       "    .dataframe tbody tr th:only-of-type {\n",
       "        vertical-align: middle;\n",
       "    }\n",
       "\n",
       "    .dataframe tbody tr th {\n",
       "        vertical-align: top;\n",
       "    }\n",
       "\n",
       "    .dataframe thead th {\n",
       "        text-align: right;\n",
       "    }\n",
       "</style>\n",
       "<table border=\"1\" class=\"dataframe\">\n",
       "  <thead>\n",
       "    <tr style=\"text-align: right;\">\n",
       "      <th></th>\n",
       "      <th>item_id</th>\n",
       "      <th>item_name</th>\n",
       "      <th>playtime_forever</th>\n",
       "      <th>playtime_2weeks</th>\n",
       "      <th>user_id</th>\n",
       "      <th>items_count</th>\n",
       "      <th>steam_id</th>\n",
       "      <th>user_url</th>\n",
       "    </tr>\n",
       "  </thead>\n",
       "  <tbody>\n",
       "    <tr>\n",
       "      <th>0</th>\n",
       "      <td>10</td>\n",
       "      <td>Counter-Strike</td>\n",
       "      <td>6</td>\n",
       "      <td>0</td>\n",
       "      <td>76561197970982479</td>\n",
       "      <td>277</td>\n",
       "      <td>76561197970982479</td>\n",
       "      <td>http://steamcommunity.com/profiles/76561197970...</td>\n",
       "    </tr>\n",
       "    <tr>\n",
       "      <th>1</th>\n",
       "      <td>20</td>\n",
       "      <td>Team Fortress Classic</td>\n",
       "      <td>0</td>\n",
       "      <td>0</td>\n",
       "      <td>76561197970982479</td>\n",
       "      <td>277</td>\n",
       "      <td>76561197970982479</td>\n",
       "      <td>http://steamcommunity.com/profiles/76561197970...</td>\n",
       "    </tr>\n",
       "    <tr>\n",
       "      <th>2</th>\n",
       "      <td>30</td>\n",
       "      <td>Day of Defeat</td>\n",
       "      <td>7</td>\n",
       "      <td>0</td>\n",
       "      <td>76561197970982479</td>\n",
       "      <td>277</td>\n",
       "      <td>76561197970982479</td>\n",
       "      <td>http://steamcommunity.com/profiles/76561197970...</td>\n",
       "    </tr>\n",
       "    <tr>\n",
       "      <th>3</th>\n",
       "      <td>40</td>\n",
       "      <td>Deathmatch Classic</td>\n",
       "      <td>0</td>\n",
       "      <td>0</td>\n",
       "      <td>76561197970982479</td>\n",
       "      <td>277</td>\n",
       "      <td>76561197970982479</td>\n",
       "      <td>http://steamcommunity.com/profiles/76561197970...</td>\n",
       "    </tr>\n",
       "    <tr>\n",
       "      <th>4</th>\n",
       "      <td>50</td>\n",
       "      <td>Half-Life: Opposing Force</td>\n",
       "      <td>0</td>\n",
       "      <td>0</td>\n",
       "      <td>76561197970982479</td>\n",
       "      <td>277</td>\n",
       "      <td>76561197970982479</td>\n",
       "      <td>http://steamcommunity.com/profiles/76561197970...</td>\n",
       "    </tr>\n",
       "    <tr>\n",
       "      <th>...</th>\n",
       "      <td>...</td>\n",
       "      <td>...</td>\n",
       "      <td>...</td>\n",
       "      <td>...</td>\n",
       "      <td>...</td>\n",
       "      <td>...</td>\n",
       "      <td>...</td>\n",
       "      <td>...</td>\n",
       "    </tr>\n",
       "    <tr>\n",
       "      <th>5153204</th>\n",
       "      <td>346330</td>\n",
       "      <td>BrainBread 2</td>\n",
       "      <td>0</td>\n",
       "      <td>0</td>\n",
       "      <td>76561198329548331</td>\n",
       "      <td>7</td>\n",
       "      <td>76561198329548331</td>\n",
       "      <td>http://steamcommunity.com/profiles/76561198329...</td>\n",
       "    </tr>\n",
       "    <tr>\n",
       "      <th>5153205</th>\n",
       "      <td>373330</td>\n",
       "      <td>All Is Dust</td>\n",
       "      <td>0</td>\n",
       "      <td>0</td>\n",
       "      <td>76561198329548331</td>\n",
       "      <td>7</td>\n",
       "      <td>76561198329548331</td>\n",
       "      <td>http://steamcommunity.com/profiles/76561198329...</td>\n",
       "    </tr>\n",
       "    <tr>\n",
       "      <th>5153206</th>\n",
       "      <td>388490</td>\n",
       "      <td>One Way To Die: Steam Edition</td>\n",
       "      <td>3</td>\n",
       "      <td>3</td>\n",
       "      <td>76561198329548331</td>\n",
       "      <td>7</td>\n",
       "      <td>76561198329548331</td>\n",
       "      <td>http://steamcommunity.com/profiles/76561198329...</td>\n",
       "    </tr>\n",
       "    <tr>\n",
       "      <th>5153207</th>\n",
       "      <td>521570</td>\n",
       "      <td>You Have 10 Seconds 2</td>\n",
       "      <td>4</td>\n",
       "      <td>4</td>\n",
       "      <td>76561198329548331</td>\n",
       "      <td>7</td>\n",
       "      <td>76561198329548331</td>\n",
       "      <td>http://steamcommunity.com/profiles/76561198329...</td>\n",
       "    </tr>\n",
       "    <tr>\n",
       "      <th>5153208</th>\n",
       "      <td>519140</td>\n",
       "      <td>Minds Eyes</td>\n",
       "      <td>3</td>\n",
       "      <td>3</td>\n",
       "      <td>76561198329548331</td>\n",
       "      <td>7</td>\n",
       "      <td>76561198329548331</td>\n",
       "      <td>http://steamcommunity.com/profiles/76561198329...</td>\n",
       "    </tr>\n",
       "  </tbody>\n",
       "</table>\n",
       "<p>5153209 rows × 8 columns</p>\n",
       "</div>"
      ],
      "text/plain": [
       "        item_id                      item_name  playtime_forever  \\\n",
       "0            10                 Counter-Strike                 6   \n",
       "1            20          Team Fortress Classic                 0   \n",
       "2            30                  Day of Defeat                 7   \n",
       "3            40             Deathmatch Classic                 0   \n",
       "4            50      Half-Life: Opposing Force                 0   \n",
       "...         ...                            ...               ...   \n",
       "5153204  346330                   BrainBread 2                 0   \n",
       "5153205  373330                    All Is Dust                 0   \n",
       "5153206  388490  One Way To Die: Steam Edition                 3   \n",
       "5153207  521570          You Have 10 Seconds 2                 4   \n",
       "5153208  519140                     Minds Eyes                 3   \n",
       "\n",
       "         playtime_2weeks            user_id items_count           steam_id  \\\n",
       "0                      0  76561197970982479         277  76561197970982479   \n",
       "1                      0  76561197970982479         277  76561197970982479   \n",
       "2                      0  76561197970982479         277  76561197970982479   \n",
       "3                      0  76561197970982479         277  76561197970982479   \n",
       "4                      0  76561197970982479         277  76561197970982479   \n",
       "...                  ...                ...         ...                ...   \n",
       "5153204                0  76561198329548331           7  76561198329548331   \n",
       "5153205                0  76561198329548331           7  76561198329548331   \n",
       "5153206                3  76561198329548331           7  76561198329548331   \n",
       "5153207                4  76561198329548331           7  76561198329548331   \n",
       "5153208                3  76561198329548331           7  76561198329548331   \n",
       "\n",
       "                                                  user_url  \n",
       "0        http://steamcommunity.com/profiles/76561197970...  \n",
       "1        http://steamcommunity.com/profiles/76561197970...  \n",
       "2        http://steamcommunity.com/profiles/76561197970...  \n",
       "3        http://steamcommunity.com/profiles/76561197970...  \n",
       "4        http://steamcommunity.com/profiles/76561197970...  \n",
       "...                                                    ...  \n",
       "5153204  http://steamcommunity.com/profiles/76561198329...  \n",
       "5153205  http://steamcommunity.com/profiles/76561198329...  \n",
       "5153206  http://steamcommunity.com/profiles/76561198329...  \n",
       "5153207  http://steamcommunity.com/profiles/76561198329...  \n",
       "5153208  http://steamcommunity.com/profiles/76561198329...  \n",
       "\n",
       "[5153209 rows x 8 columns]"
      ]
     },
     "execution_count": 31,
     "metadata": {},
     "output_type": "execute_result"
    }
   ],
   "source": [
    "items_desanidado"
   ]
  },
  {
   "cell_type": "markdown",
   "metadata": {},
   "source": [
    "### Vemos el tamaño de los DataFrames desanidados"
   ]
  },
  {
   "cell_type": "code",
   "execution_count": 32,
   "metadata": {},
   "outputs": [
    {
     "name": "stdout",
     "output_type": "stream",
     "text": [
      "El tamaño del DataFrame steam_games es: (120445, 13)\n",
      "El tamaño del DataFrame reviews_desanidado es: (59305, 9)\n",
      "El tamaño del DataFrame items_desanidado es: (5153209, 8)\n"
     ]
    }
   ],
   "source": [
    "dataframes_desanidados = {'steam_games': steam_games, 'reviews_desanidado': reviews_desanidado, 'items_desanidado': items_desanidado}\n",
    "\n",
    "f.tamanio_datsets(dataframes_desanidados)"
   ]
  },
  {
   "cell_type": "markdown",
   "metadata": {},
   "source": [
    "Notamos que el tamaño de los DataFrames 'user_reviews' y 'user_items', aumento notablemente después de desanidar sus columnas anidadas. Este crecimiento se ve tanto en la cantidad de filas, como en la de columnas."
   ]
  },
  {
   "cell_type": "markdown",
   "metadata": {},
   "source": [
    "### Analizamos filas duplicadas y valores nulos, después de desanidar:"
   ]
  },
  {
   "cell_type": "markdown",
   "metadata": {},
   "source": [
    "#### Filas duplicadas y valores nulos en 'steam_games':"
   ]
  },
  {
   "cell_type": "code",
   "execution_count": 33,
   "metadata": {},
   "outputs": [
    {
     "data": {
      "text/plain": [
       "publisher       96381\n",
       "genres          91593\n",
       "app_name        88312\n",
       "title           90360\n",
       "url             88310\n",
       "release_date    90377\n",
       "tags            88473\n",
       "reviews_url     88312\n",
       "specs           88980\n",
       "price           89687\n",
       "early_access    88310\n",
       "id              88312\n",
       "developer       91609\n",
       "dtype: int64"
      ]
     },
     "execution_count": 33,
     "metadata": {},
     "output_type": "execute_result"
    }
   ],
   "source": [
    "#Vemos los valores nulos por columna:\n",
    "\n",
    "steam_games.isnull().sum()"
   ]
  },
  {
   "cell_type": "code",
   "execution_count": 34,
   "metadata": {},
   "outputs": [
    {
     "name": "stdout",
     "output_type": "stream",
     "text": [
      "La columna publisher tiene un  80.02 % de valores nulos\n",
      "La columna genres tiene un  76.05 % de valores nulos\n",
      "La columna app_name tiene un  73.32 % de valores nulos\n",
      "La columna title tiene un  75.02 % de valores nulos\n",
      "La columna url tiene un  73.32 % de valores nulos\n",
      "La columna release_date tiene un  75.04 % de valores nulos\n",
      "La columna tags tiene un  73.46 % de valores nulos\n",
      "La columna reviews_url tiene un  73.32 % de valores nulos\n",
      "La columna specs tiene un  73.88 % de valores nulos\n",
      "La columna price tiene un  74.46 % de valores nulos\n",
      "La columna early_access tiene un  73.32 % de valores nulos\n",
      "La columna id tiene un  73.32 % de valores nulos\n",
      "La columna developer tiene un  76.06 % de valores nulos\n"
     ]
    }
   ],
   "source": [
    "#Vemos otra vez, el porcentaje de valores nulos:\n",
    "\n",
    "f.porcentaje_valores_nulos(steam_games)"
   ]
  },
  {
   "cell_type": "code",
   "execution_count": 35,
   "metadata": {},
   "outputs": [],
   "source": [
    "#Eliminamos valores nulos, solo cuando toda la fila posee valores nulos:\n",
    "\n",
    "steam_games = steam_games.dropna(how = 'all')"
   ]
  },
  {
   "cell_type": "code",
   "execution_count": 36,
   "metadata": {},
   "outputs": [],
   "source": [
    "#Reindexamos el DataFrame:\n",
    "\n",
    "steam_games = steam_games.reset_index(drop = True)"
   ]
  },
  {
   "cell_type": "code",
   "execution_count": 37,
   "metadata": {},
   "outputs": [
    {
     "data": {
      "text/plain": [
       "0"
      ]
     },
     "execution_count": 37,
     "metadata": {},
     "output_type": "execute_result"
    }
   ],
   "source": [
    "#Vemos las filas duplicadas:\n",
    "\n",
    "cantidad_duplicados_games = steam_games.duplicated().sum()\n",
    "\n",
    "cantidad_duplicados_games"
   ]
  },
  {
   "cell_type": "code",
   "execution_count": 38,
   "metadata": {},
   "outputs": [
    {
     "data": {
      "text/html": [
       "<div>\n",
       "<style scoped>\n",
       "    .dataframe tbody tr th:only-of-type {\n",
       "        vertical-align: middle;\n",
       "    }\n",
       "\n",
       "    .dataframe tbody tr th {\n",
       "        vertical-align: top;\n",
       "    }\n",
       "\n",
       "    .dataframe thead th {\n",
       "        text-align: right;\n",
       "    }\n",
       "</style>\n",
       "<table border=\"1\" class=\"dataframe\">\n",
       "  <thead>\n",
       "    <tr style=\"text-align: right;\">\n",
       "      <th></th>\n",
       "      <th>publisher</th>\n",
       "      <th>genres</th>\n",
       "      <th>app_name</th>\n",
       "      <th>title</th>\n",
       "      <th>url</th>\n",
       "      <th>release_date</th>\n",
       "      <th>tags</th>\n",
       "      <th>reviews_url</th>\n",
       "      <th>specs</th>\n",
       "      <th>price</th>\n",
       "      <th>early_access</th>\n",
       "      <th>id</th>\n",
       "      <th>developer</th>\n",
       "    </tr>\n",
       "  </thead>\n",
       "  <tbody>\n",
       "  </tbody>\n",
       "</table>\n",
       "</div>"
      ],
      "text/plain": [
       "Empty DataFrame\n",
       "Columns: [publisher, genres, app_name, title, url, release_date, tags, reviews_url, specs, price, early_access, id, developer]\n",
       "Index: []"
      ]
     },
     "execution_count": 38,
     "metadata": {},
     "output_type": "execute_result"
    }
   ],
   "source": [
    "#Corroboramos que no se visualice ninguna fila duplicada:\n",
    "\n",
    "duplicados_games = steam_games[steam_games.duplicated()]\n",
    "\n",
    "duplicados_games"
   ]
  },
  {
   "cell_type": "markdown",
   "metadata": {},
   "source": [
    "#### Filas duplicadas y valores nulos en 'reviews_desanidado':"
   ]
  },
  {
   "cell_type": "code",
   "execution_count": 39,
   "metadata": {},
   "outputs": [],
   "source": [
    "user_reviews = reviews_desanidado"
   ]
  },
  {
   "cell_type": "code",
   "execution_count": 40,
   "metadata": {},
   "outputs": [
    {
     "data": {
      "text/plain": [
       "funny          0\n",
       "posted         0\n",
       "last_edited    0\n",
       "item_id        0\n",
       "helpful        0\n",
       "recommend      0\n",
       "review         0\n",
       "user_id        0\n",
       "user_url       0\n",
       "dtype: int64"
      ]
     },
     "execution_count": 40,
     "metadata": {},
     "output_type": "execute_result"
    }
   ],
   "source": [
    "#Vemos los valores nulos por columna:\n",
    "\n",
    "user_reviews.isna().sum()"
   ]
  },
  {
   "cell_type": "code",
   "execution_count": 41,
   "metadata": {},
   "outputs": [
    {
     "name": "stdout",
     "output_type": "stream",
     "text": [
      "La columna funny tiene un  0.00 % de valores nulos\n",
      "La columna posted tiene un  0.00 % de valores nulos\n",
      "La columna last_edited tiene un  0.00 % de valores nulos\n",
      "La columna item_id tiene un  0.00 % de valores nulos\n",
      "La columna helpful tiene un  0.00 % de valores nulos\n",
      "La columna recommend tiene un  0.00 % de valores nulos\n",
      "La columna review tiene un  0.00 % de valores nulos\n",
      "La columna user_id tiene un  0.00 % de valores nulos\n",
      "La columna user_url tiene un  0.00 % de valores nulos\n"
     ]
    }
   ],
   "source": [
    "#Corroboramos que no hay valores nulos, y por ende, el porcentaje de nulos por columna es de 0%:\n",
    "\n",
    "f.porcentaje_valores_nulos(user_reviews)"
   ]
  },
  {
   "cell_type": "code",
   "execution_count": 42,
   "metadata": {},
   "outputs": [
    {
     "data": {
      "text/plain": [
       "874"
      ]
     },
     "execution_count": 42,
     "metadata": {},
     "output_type": "execute_result"
    }
   ],
   "source": [
    "#Vemos la cantidad de filas duplicadas:\n",
    "\n",
    "cantidad_duplicados_reviews = user_reviews.duplicated().sum()\n",
    "\n",
    "cantidad_duplicados_reviews"
   ]
  },
  {
   "cell_type": "code",
   "execution_count": 43,
   "metadata": {},
   "outputs": [
    {
     "data": {
      "text/html": [
       "<div>\n",
       "<style scoped>\n",
       "    .dataframe tbody tr th:only-of-type {\n",
       "        vertical-align: middle;\n",
       "    }\n",
       "\n",
       "    .dataframe tbody tr th {\n",
       "        vertical-align: top;\n",
       "    }\n",
       "\n",
       "    .dataframe thead th {\n",
       "        text-align: right;\n",
       "    }\n",
       "</style>\n",
       "<table border=\"1\" class=\"dataframe\">\n",
       "  <thead>\n",
       "    <tr style=\"text-align: right;\">\n",
       "      <th></th>\n",
       "      <th>funny</th>\n",
       "      <th>posted</th>\n",
       "      <th>last_edited</th>\n",
       "      <th>item_id</th>\n",
       "      <th>helpful</th>\n",
       "      <th>recommend</th>\n",
       "      <th>review</th>\n",
       "      <th>user_id</th>\n",
       "      <th>user_url</th>\n",
       "    </tr>\n",
       "  </thead>\n",
       "  <tbody>\n",
       "    <tr>\n",
       "      <th>1112</th>\n",
       "      <td></td>\n",
       "      <td>Posted September 24, 2015.</td>\n",
       "      <td></td>\n",
       "      <td>346110</td>\n",
       "      <td>1 of 1 people (100%) found this review helpful</td>\n",
       "      <td>True</td>\n",
       "      <td>yep</td>\n",
       "      <td>bokkkbokkk</td>\n",
       "      <td>http://steamcommunity.com/id/bokkkbokkk</td>\n",
       "    </tr>\n",
       "    <tr>\n",
       "      <th>2891</th>\n",
       "      <td></td>\n",
       "      <td>Posted January 10, 2014.</td>\n",
       "      <td></td>\n",
       "      <td>218620</td>\n",
       "      <td>1 of 3 people (33%) found this review helpful</td>\n",
       "      <td>True</td>\n",
       "      <td>Good graphics, fun heists! A bit laggy</td>\n",
       "      <td>ImSeriouss</td>\n",
       "      <td>http://steamcommunity.com/id/ImSeriouss</td>\n",
       "    </tr>\n",
       "    <tr>\n",
       "      <th>2892</th>\n",
       "      <td></td>\n",
       "      <td>Posted January 10, 2014.</td>\n",
       "      <td></td>\n",
       "      <td>105600</td>\n",
       "      <td>0 of 2 people (0%) found this review helpful</td>\n",
       "      <td>True</td>\n",
       "      <td>So fun! DEFINITELY NOT RIP OFF OF MINECRAFT! e...</td>\n",
       "      <td>ImSeriouss</td>\n",
       "      <td>http://steamcommunity.com/id/ImSeriouss</td>\n",
       "    </tr>\n",
       "    <tr>\n",
       "      <th>2893</th>\n",
       "      <td></td>\n",
       "      <td>Posted December 17, 2014.</td>\n",
       "      <td></td>\n",
       "      <td>570</td>\n",
       "      <td>No ratings yet</td>\n",
       "      <td>True</td>\n",
       "      <td>bobo pinoy</td>\n",
       "      <td>ImSeriouss</td>\n",
       "      <td>http://steamcommunity.com/id/ImSeriouss</td>\n",
       "    </tr>\n",
       "    <tr>\n",
       "      <th>2894</th>\n",
       "      <td></td>\n",
       "      <td>Posted January 13, 2014.</td>\n",
       "      <td></td>\n",
       "      <td>211820</td>\n",
       "      <td>No ratings yet</td>\n",
       "      <td>True</td>\n",
       "      <td>If you want to play this game.. expect glithes...</td>\n",
       "      <td>ImSeriouss</td>\n",
       "      <td>http://steamcommunity.com/id/ImSeriouss</td>\n",
       "    </tr>\n",
       "    <tr>\n",
       "      <th>...</th>\n",
       "      <td>...</td>\n",
       "      <td>...</td>\n",
       "      <td>...</td>\n",
       "      <td>...</td>\n",
       "      <td>...</td>\n",
       "      <td>...</td>\n",
       "      <td>...</td>\n",
       "      <td>...</td>\n",
       "      <td>...</td>\n",
       "    </tr>\n",
       "    <tr>\n",
       "      <th>44433</th>\n",
       "      <td></td>\n",
       "      <td>Posted July 3.</td>\n",
       "      <td></td>\n",
       "      <td>422400</td>\n",
       "      <td>No ratings yet</td>\n",
       "      <td>True</td>\n",
       "      <td>Muy entretenido y una coleccion de armas prome...</td>\n",
       "      <td>76561198092022514</td>\n",
       "      <td>http://steamcommunity.com/profiles/76561198092...</td>\n",
       "    </tr>\n",
       "    <tr>\n",
       "      <th>44434</th>\n",
       "      <td></td>\n",
       "      <td>Posted June 1.</td>\n",
       "      <td></td>\n",
       "      <td>218620</td>\n",
       "      <td>No ratings yet</td>\n",
       "      <td>True</td>\n",
       "      <td>Tiene una jugabilidad y tematica muy buena :D,...</td>\n",
       "      <td>76561198092022514</td>\n",
       "      <td>http://steamcommunity.com/profiles/76561198092...</td>\n",
       "    </tr>\n",
       "    <tr>\n",
       "      <th>44435</th>\n",
       "      <td></td>\n",
       "      <td>Posted August 17, 2014.</td>\n",
       "      <td></td>\n",
       "      <td>261820</td>\n",
       "      <td>No ratings yet</td>\n",
       "      <td>True</td>\n",
       "      <td>Buen juego, no importa el desarrrollo que tien...</td>\n",
       "      <td>76561198092022514</td>\n",
       "      <td>http://steamcommunity.com/profiles/76561198092...</td>\n",
       "    </tr>\n",
       "    <tr>\n",
       "      <th>44436</th>\n",
       "      <td></td>\n",
       "      <td>Posted February 17, 2014.</td>\n",
       "      <td></td>\n",
       "      <td>224260</td>\n",
       "      <td>No ratings yet</td>\n",
       "      <td>True</td>\n",
       "      <td>exelente aporte :D¡¡¡ es una buen mod basado e...</td>\n",
       "      <td>76561198092022514</td>\n",
       "      <td>http://steamcommunity.com/profiles/76561198092...</td>\n",
       "    </tr>\n",
       "    <tr>\n",
       "      <th>44580</th>\n",
       "      <td></td>\n",
       "      <td>Posted July 18, 2015.</td>\n",
       "      <td>Last edited December 1, 2015.</td>\n",
       "      <td>730</td>\n",
       "      <td>No ratings yet</td>\n",
       "      <td>True</td>\n",
       "      <td>10/10 too many children with mikes.</td>\n",
       "      <td>SuchGayMuchWow</td>\n",
       "      <td>http://steamcommunity.com/id/SuchGayMuchWow</td>\n",
       "    </tr>\n",
       "  </tbody>\n",
       "</table>\n",
       "<p>874 rows × 9 columns</p>\n",
       "</div>"
      ],
      "text/plain": [
       "      funny                      posted                    last_edited  \\\n",
       "1112         Posted September 24, 2015.                                  \n",
       "2891           Posted January 10, 2014.                                  \n",
       "2892           Posted January 10, 2014.                                  \n",
       "2893          Posted December 17, 2014.                                  \n",
       "2894           Posted January 13, 2014.                                  \n",
       "...     ...                         ...                            ...   \n",
       "44433                    Posted July 3.                                  \n",
       "44434                    Posted June 1.                                  \n",
       "44435           Posted August 17, 2014.                                  \n",
       "44436         Posted February 17, 2014.                                  \n",
       "44580             Posted July 18, 2015.  Last edited December 1, 2015.   \n",
       "\n",
       "      item_id                                         helpful  recommend  \\\n",
       "1112   346110  1 of 1 people (100%) found this review helpful       True   \n",
       "2891   218620   1 of 3 people (33%) found this review helpful       True   \n",
       "2892   105600    0 of 2 people (0%) found this review helpful       True   \n",
       "2893      570                                  No ratings yet       True   \n",
       "2894   211820                                  No ratings yet       True   \n",
       "...       ...                                             ...        ...   \n",
       "44433  422400                                  No ratings yet       True   \n",
       "44434  218620                                  No ratings yet       True   \n",
       "44435  261820                                  No ratings yet       True   \n",
       "44436  224260                                  No ratings yet       True   \n",
       "44580     730                                  No ratings yet       True   \n",
       "\n",
       "                                                  review            user_id  \\\n",
       "1112                                                 yep         bokkkbokkk   \n",
       "2891              Good graphics, fun heists! A bit laggy         ImSeriouss   \n",
       "2892   So fun! DEFINITELY NOT RIP OFF OF MINECRAFT! e...         ImSeriouss   \n",
       "2893                                          bobo pinoy         ImSeriouss   \n",
       "2894   If you want to play this game.. expect glithes...         ImSeriouss   \n",
       "...                                                  ...                ...   \n",
       "44433  Muy entretenido y una coleccion de armas prome...  76561198092022514   \n",
       "44434  Tiene una jugabilidad y tematica muy buena :D,...  76561198092022514   \n",
       "44435  Buen juego, no importa el desarrrollo que tien...  76561198092022514   \n",
       "44436  exelente aporte :D¡¡¡ es una buen mod basado e...  76561198092022514   \n",
       "44580                10/10 too many children with mikes.     SuchGayMuchWow   \n",
       "\n",
       "                                                user_url  \n",
       "1112             http://steamcommunity.com/id/bokkkbokkk  \n",
       "2891             http://steamcommunity.com/id/ImSeriouss  \n",
       "2892             http://steamcommunity.com/id/ImSeriouss  \n",
       "2893             http://steamcommunity.com/id/ImSeriouss  \n",
       "2894             http://steamcommunity.com/id/ImSeriouss  \n",
       "...                                                  ...  \n",
       "44433  http://steamcommunity.com/profiles/76561198092...  \n",
       "44434  http://steamcommunity.com/profiles/76561198092...  \n",
       "44435  http://steamcommunity.com/profiles/76561198092...  \n",
       "44436  http://steamcommunity.com/profiles/76561198092...  \n",
       "44580        http://steamcommunity.com/id/SuchGayMuchWow  \n",
       "\n",
       "[874 rows x 9 columns]"
      ]
     },
     "execution_count": 43,
     "metadata": {},
     "output_type": "execute_result"
    }
   ],
   "source": [
    "#Vemos cuales son las filas duplicadas:\n",
    "\n",
    "duplicados_reviews = user_reviews[user_reviews.duplicated()]\n",
    "\n",
    "duplicados_reviews"
   ]
  },
  {
   "cell_type": "code",
   "execution_count": 44,
   "metadata": {},
   "outputs": [],
   "source": [
    "#Eliminamos filas duplicadas, manteniendo la primer aparición:\n",
    "\n",
    "user_reviews = user_reviews.drop_duplicates(keep = 'first')"
   ]
  },
  {
   "cell_type": "code",
   "execution_count": 45,
   "metadata": {},
   "outputs": [
    {
     "data": {
      "text/plain": [
       "0"
      ]
     },
     "execution_count": 45,
     "metadata": {},
     "output_type": "execute_result"
    }
   ],
   "source": [
    "#Verificamos que ya no hayan duplicados:\n",
    "\n",
    "cantidad_duplicados_reviews = user_reviews.duplicated().sum()\n",
    "\n",
    "cantidad_duplicados_reviews"
   ]
  },
  {
   "cell_type": "code",
   "execution_count": 46,
   "metadata": {},
   "outputs": [],
   "source": [
    "#Reindexamos:\n",
    "\n",
    "user_reviews = user_reviews.reset_index(drop = True)"
   ]
  },
  {
   "cell_type": "markdown",
   "metadata": {},
   "source": [
    "#### Filas duplicadas en 'items_desanidado':"
   ]
  },
  {
   "cell_type": "code",
   "execution_count": 47,
   "metadata": {},
   "outputs": [],
   "source": [
    "user_items = items_desanidado"
   ]
  },
  {
   "cell_type": "code",
   "execution_count": 48,
   "metadata": {},
   "outputs": [
    {
     "data": {
      "text/plain": [
       "item_id             0\n",
       "item_name           0\n",
       "playtime_forever    0\n",
       "playtime_2weeks     0\n",
       "user_id             0\n",
       "items_count         0\n",
       "steam_id            0\n",
       "user_url            0\n",
       "dtype: int64"
      ]
     },
     "execution_count": 48,
     "metadata": {},
     "output_type": "execute_result"
    }
   ],
   "source": [
    "#Vemos los valores nulos por columna:\n",
    "\n",
    "user_items.isnull().sum()"
   ]
  },
  {
   "cell_type": "code",
   "execution_count": 49,
   "metadata": {},
   "outputs": [
    {
     "name": "stdout",
     "output_type": "stream",
     "text": [
      "La columna item_id tiene un  0.00 % de valores nulos\n",
      "La columna item_name tiene un  0.00 % de valores nulos\n",
      "La columna playtime_forever tiene un  0.00 % de valores nulos\n",
      "La columna playtime_2weeks tiene un  0.00 % de valores nulos\n",
      "La columna user_id tiene un  0.00 % de valores nulos\n",
      "La columna items_count tiene un  0.00 % de valores nulos\n",
      "La columna steam_id tiene un  0.00 % de valores nulos\n",
      "La columna user_url tiene un  0.00 % de valores nulos\n"
     ]
    }
   ],
   "source": [
    "#Vemos el porcentaje de valores nulos por columa:\n",
    "\n",
    "f.porcentaje_valores_nulos(user_items)"
   ]
  },
  {
   "cell_type": "code",
   "execution_count": 50,
   "metadata": {},
   "outputs": [
    {
     "data": {
      "text/plain": [
       "59104"
      ]
     },
     "execution_count": 50,
     "metadata": {},
     "output_type": "execute_result"
    }
   ],
   "source": [
    "#Vemos la cantidad de filas duplicadas:\n",
    "\n",
    "cantidad_duplicados_items = user_items.duplicated().sum()\n",
    "\n",
    "cantidad_duplicados_items"
   ]
  },
  {
   "cell_type": "code",
   "execution_count": 51,
   "metadata": {},
   "outputs": [
    {
     "data": {
      "text/html": [
       "<div>\n",
       "<style scoped>\n",
       "    .dataframe tbody tr th:only-of-type {\n",
       "        vertical-align: middle;\n",
       "    }\n",
       "\n",
       "    .dataframe tbody tr th {\n",
       "        vertical-align: top;\n",
       "    }\n",
       "\n",
       "    .dataframe thead th {\n",
       "        text-align: right;\n",
       "    }\n",
       "</style>\n",
       "<table border=\"1\" class=\"dataframe\">\n",
       "  <thead>\n",
       "    <tr style=\"text-align: right;\">\n",
       "      <th></th>\n",
       "      <th>item_id</th>\n",
       "      <th>item_name</th>\n",
       "      <th>playtime_forever</th>\n",
       "      <th>playtime_2weeks</th>\n",
       "      <th>user_id</th>\n",
       "      <th>items_count</th>\n",
       "      <th>steam_id</th>\n",
       "      <th>user_url</th>\n",
       "    </tr>\n",
       "  </thead>\n",
       "  <tbody>\n",
       "    <tr>\n",
       "      <th>164294</th>\n",
       "      <td>20</td>\n",
       "      <td>Team Fortress Classic</td>\n",
       "      <td>5</td>\n",
       "      <td>0</td>\n",
       "      <td>Nikiad</td>\n",
       "      <td>109</td>\n",
       "      <td>76561198084006094</td>\n",
       "      <td>http://steamcommunity.com/id/Nikiad</td>\n",
       "    </tr>\n",
       "    <tr>\n",
       "      <th>164295</th>\n",
       "      <td>50</td>\n",
       "      <td>Half-Life: Opposing Force</td>\n",
       "      <td>0</td>\n",
       "      <td>0</td>\n",
       "      <td>Nikiad</td>\n",
       "      <td>109</td>\n",
       "      <td>76561198084006094</td>\n",
       "      <td>http://steamcommunity.com/id/Nikiad</td>\n",
       "    </tr>\n",
       "    <tr>\n",
       "      <th>164296</th>\n",
       "      <td>70</td>\n",
       "      <td>Half-Life</td>\n",
       "      <td>0</td>\n",
       "      <td>0</td>\n",
       "      <td>Nikiad</td>\n",
       "      <td>109</td>\n",
       "      <td>76561198084006094</td>\n",
       "      <td>http://steamcommunity.com/id/Nikiad</td>\n",
       "    </tr>\n",
       "    <tr>\n",
       "      <th>164297</th>\n",
       "      <td>130</td>\n",
       "      <td>Half-Life: Blue Shift</td>\n",
       "      <td>0</td>\n",
       "      <td>0</td>\n",
       "      <td>Nikiad</td>\n",
       "      <td>109</td>\n",
       "      <td>76561198084006094</td>\n",
       "      <td>http://steamcommunity.com/id/Nikiad</td>\n",
       "    </tr>\n",
       "    <tr>\n",
       "      <th>164298</th>\n",
       "      <td>220</td>\n",
       "      <td>Half-Life 2</td>\n",
       "      <td>198</td>\n",
       "      <td>0</td>\n",
       "      <td>Nikiad</td>\n",
       "      <td>109</td>\n",
       "      <td>76561198084006094</td>\n",
       "      <td>http://steamcommunity.com/id/Nikiad</td>\n",
       "    </tr>\n",
       "    <tr>\n",
       "      <th>...</th>\n",
       "      <td>...</td>\n",
       "      <td>...</td>\n",
       "      <td>...</td>\n",
       "      <td>...</td>\n",
       "      <td>...</td>\n",
       "      <td>...</td>\n",
       "      <td>...</td>\n",
       "      <td>...</td>\n",
       "    </tr>\n",
       "    <tr>\n",
       "      <th>4898223</th>\n",
       "      <td>213670</td>\n",
       "      <td>South Park™: The Stick of Truth™</td>\n",
       "      <td>725</td>\n",
       "      <td>0</td>\n",
       "      <td>76561198080057659</td>\n",
       "      <td>39</td>\n",
       "      <td>76561198080057659</td>\n",
       "      <td>http://steamcommunity.com/profiles/76561198080...</td>\n",
       "    </tr>\n",
       "    <tr>\n",
       "      <th>4898224</th>\n",
       "      <td>221910</td>\n",
       "      <td>The Stanley Parable</td>\n",
       "      <td>53</td>\n",
       "      <td>0</td>\n",
       "      <td>76561198080057659</td>\n",
       "      <td>39</td>\n",
       "      <td>76561198080057659</td>\n",
       "      <td>http://steamcommunity.com/profiles/76561198080...</td>\n",
       "    </tr>\n",
       "    <tr>\n",
       "      <th>4898225</th>\n",
       "      <td>261030</td>\n",
       "      <td>The Walking Dead: Season Two</td>\n",
       "      <td>253</td>\n",
       "      <td>0</td>\n",
       "      <td>76561198080057659</td>\n",
       "      <td>39</td>\n",
       "      <td>76561198080057659</td>\n",
       "      <td>http://steamcommunity.com/profiles/76561198080...</td>\n",
       "    </tr>\n",
       "    <tr>\n",
       "      <th>4898226</th>\n",
       "      <td>273110</td>\n",
       "      <td>Counter-Strike Nexon: Zombies</td>\n",
       "      <td>0</td>\n",
       "      <td>0</td>\n",
       "      <td>76561198080057659</td>\n",
       "      <td>39</td>\n",
       "      <td>76561198080057659</td>\n",
       "      <td>http://steamcommunity.com/profiles/76561198080...</td>\n",
       "    </tr>\n",
       "    <tr>\n",
       "      <th>4898227</th>\n",
       "      <td>730</td>\n",
       "      <td>Counter-Strike: Global Offensive</td>\n",
       "      <td>0</td>\n",
       "      <td>0</td>\n",
       "      <td>76561198080057659</td>\n",
       "      <td>39</td>\n",
       "      <td>76561198080057659</td>\n",
       "      <td>http://steamcommunity.com/profiles/76561198080...</td>\n",
       "    </tr>\n",
       "  </tbody>\n",
       "</table>\n",
       "<p>59104 rows × 8 columns</p>\n",
       "</div>"
      ],
      "text/plain": [
       "        item_id                         item_name  playtime_forever  \\\n",
       "164294       20             Team Fortress Classic                 5   \n",
       "164295       50         Half-Life: Opposing Force                 0   \n",
       "164296       70                         Half-Life                 0   \n",
       "164297      130             Half-Life: Blue Shift                 0   \n",
       "164298      220                       Half-Life 2               198   \n",
       "...         ...                               ...               ...   \n",
       "4898223  213670  South Park™: The Stick of Truth™               725   \n",
       "4898224  221910               The Stanley Parable                53   \n",
       "4898225  261030      The Walking Dead: Season Two               253   \n",
       "4898226  273110     Counter-Strike Nexon: Zombies                 0   \n",
       "4898227     730  Counter-Strike: Global Offensive                 0   \n",
       "\n",
       "         playtime_2weeks            user_id items_count           steam_id  \\\n",
       "164294                 0             Nikiad         109  76561198084006094   \n",
       "164295                 0             Nikiad         109  76561198084006094   \n",
       "164296                 0             Nikiad         109  76561198084006094   \n",
       "164297                 0             Nikiad         109  76561198084006094   \n",
       "164298                 0             Nikiad         109  76561198084006094   \n",
       "...                  ...                ...         ...                ...   \n",
       "4898223                0  76561198080057659          39  76561198080057659   \n",
       "4898224                0  76561198080057659          39  76561198080057659   \n",
       "4898225                0  76561198080057659          39  76561198080057659   \n",
       "4898226                0  76561198080057659          39  76561198080057659   \n",
       "4898227                0  76561198080057659          39  76561198080057659   \n",
       "\n",
       "                                                  user_url  \n",
       "164294                 http://steamcommunity.com/id/Nikiad  \n",
       "164295                 http://steamcommunity.com/id/Nikiad  \n",
       "164296                 http://steamcommunity.com/id/Nikiad  \n",
       "164297                 http://steamcommunity.com/id/Nikiad  \n",
       "164298                 http://steamcommunity.com/id/Nikiad  \n",
       "...                                                    ...  \n",
       "4898223  http://steamcommunity.com/profiles/76561198080...  \n",
       "4898224  http://steamcommunity.com/profiles/76561198080...  \n",
       "4898225  http://steamcommunity.com/profiles/76561198080...  \n",
       "4898226  http://steamcommunity.com/profiles/76561198080...  \n",
       "4898227  http://steamcommunity.com/profiles/76561198080...  \n",
       "\n",
       "[59104 rows x 8 columns]"
      ]
     },
     "execution_count": 51,
     "metadata": {},
     "output_type": "execute_result"
    }
   ],
   "source": [
    "#Vemos cuales son las filas duplicadas:\n",
    "\n",
    "duplicados_items = user_items[user_items.duplicated()]\n",
    "\n",
    "duplicados_items"
   ]
  },
  {
   "cell_type": "code",
   "execution_count": 52,
   "metadata": {},
   "outputs": [],
   "source": [
    "#Eliminamos los registros duplicados, manteniendo la primera aparición:\n",
    "\n",
    "user_items = user_items.drop_duplicates(keep = 'first')"
   ]
  },
  {
   "cell_type": "code",
   "execution_count": 53,
   "metadata": {},
   "outputs": [
    {
     "data": {
      "text/plain": [
       "0"
      ]
     },
     "execution_count": 53,
     "metadata": {},
     "output_type": "execute_result"
    }
   ],
   "source": [
    "#Verificamos que ya no hayan registros duplicados:\n",
    "\n",
    "cantidad_duplicados_items = user_items.duplicated().sum()\n",
    "\n",
    "cantidad_duplicados_items"
   ]
  },
  {
   "cell_type": "code",
   "execution_count": 54,
   "metadata": {},
   "outputs": [],
   "source": [
    "#Reindexamos:\n",
    "\n",
    "user_items = user_items.reset_index(drop = True)"
   ]
  },
  {
   "cell_type": "markdown",
   "metadata": {},
   "source": [
    "### Vemos otra vez, el tamaño de los DataFrames desanidados, sin nulos, y sin duplicados:"
   ]
  },
  {
   "cell_type": "code",
   "execution_count": 55,
   "metadata": {},
   "outputs": [
    {
     "name": "stdout",
     "output_type": "stream",
     "text": [
      "El tamaño del DataFrame steam_games es: (32135, 13)\n",
      "El tamaño del DataFrame user_reviews es: (58431, 9)\n",
      "El tamaño del DataFrame user_items es: (5094105, 8)\n"
     ]
    }
   ],
   "source": [
    "dataframes_limpios = {'steam_games': steam_games, 'user_reviews': user_reviews, 'user_items': user_items}\n",
    "\n",
    "f.tamanio_datsets(dataframes_limpios)"
   ]
  },
  {
   "cell_type": "markdown",
   "metadata": {},
   "source": [
    "### Modificación de algunos datos:"
   ]
  },
  {
   "cell_type": "markdown",
   "metadata": {},
   "source": [
    "#### Modificaciones en 'steam_games':"
   ]
  },
  {
   "cell_type": "code",
   "execution_count": 56,
   "metadata": {},
   "outputs": [
    {
     "name": "stdout",
     "output_type": "stream",
     "text": [
      "<class 'pandas.core.frame.DataFrame'>\n",
      "RangeIndex: 32135 entries, 0 to 32134\n",
      "Data columns (total 13 columns):\n",
      " #   Column        Non-Null Count  Dtype  \n",
      "---  ------        --------------  -----  \n",
      " 0   publisher     24064 non-null  object \n",
      " 1   genres        28852 non-null  object \n",
      " 2   app_name      32133 non-null  object \n",
      " 3   title         30085 non-null  object \n",
      " 4   url           32135 non-null  object \n",
      " 5   release_date  30068 non-null  object \n",
      " 6   tags          31972 non-null  object \n",
      " 7   reviews_url   32133 non-null  object \n",
      " 8   specs         31465 non-null  object \n",
      " 9   price         30758 non-null  object \n",
      " 10  early_access  32135 non-null  float64\n",
      " 11  id            32133 non-null  float64\n",
      " 12  developer     28836 non-null  object \n",
      "dtypes: float64(2), object(11)\n",
      "memory usage: 3.2+ MB\n"
     ]
    }
   ],
   "source": [
    "#Vemos el tipo de dato de cada columna:\n",
    "\n",
    "steam_games.info()"
   ]
  },
  {
   "cell_type": "markdown",
   "metadata": {},
   "source": [
    "Agregamos una columna con el año de lanzamiento:"
   ]
  },
  {
   "cell_type": "code",
   "execution_count": 57,
   "metadata": {},
   "outputs": [
    {
     "data": {
      "text/plain": [
       "release_date\n",
       "2012-10-16    100\n",
       "2017-08-31     92\n",
       "2017-09-26     89\n",
       "2017-06-21     82\n",
       "2017-07-25     78\n",
       "             ... \n",
       "1988-04-16      1\n",
       "2013-08-24      1\n",
       "2011-05-07      1\n",
       "2010-08-21      1\n",
       "2018-10-01      1\n",
       "Name: count, Length: 3582, dtype: int64"
      ]
     },
     "execution_count": 57,
     "metadata": {},
     "output_type": "execute_result"
    }
   ],
   "source": [
    "#Vemos el formato de la fecha de lanzamiento:\n",
    "\n",
    "anios = steam_games['release_date'].value_counts()\n",
    "\n",
    "anios"
   ]
  },
  {
   "cell_type": "code",
   "execution_count": 58,
   "metadata": {},
   "outputs": [],
   "source": [
    "#Agregamos una nueva columna, 'release_year', donde extrajimos el año de 'release_date':\n",
    "\n",
    "steam_games['release_year'] = steam_games['release_date'].str.extract(r'(\\b\\d{4}\\b)')"
   ]
  },
  {
   "cell_type": "code",
   "execution_count": 59,
   "metadata": {},
   "outputs": [
    {
     "name": "stdout",
     "output_type": "stream",
     "text": [
      "<class 'pandas.core.frame.DataFrame'>\n",
      "RangeIndex: 32135 entries, 0 to 32134\n",
      "Data columns (total 2 columns):\n",
      " #   Column        Non-Null Count  Dtype \n",
      "---  ------        --------------  ----- \n",
      " 0   release_year  29964 non-null  object\n",
      " 1   release_date  30068 non-null  object\n",
      "dtypes: object(2)\n",
      "memory usage: 502.2+ KB\n"
     ]
    }
   ],
   "source": [
    "#Vemos no se pudieron extraer los años de 'release_date':\n",
    "\n",
    "steam_games[['release_year', 'release_date']].info()"
   ]
  },
  {
   "cell_type": "code",
   "execution_count": 60,
   "metadata": {},
   "outputs": [
    {
     "data": {
      "text/html": [
       "<div>\n",
       "<style scoped>\n",
       "    .dataframe tbody tr th:only-of-type {\n",
       "        vertical-align: middle;\n",
       "    }\n",
       "\n",
       "    .dataframe tbody tr th {\n",
       "        vertical-align: top;\n",
       "    }\n",
       "\n",
       "    .dataframe thead th {\n",
       "        text-align: right;\n",
       "    }\n",
       "</style>\n",
       "<table border=\"1\" class=\"dataframe\">\n",
       "  <thead>\n",
       "    <tr style=\"text-align: right;\">\n",
       "      <th></th>\n",
       "      <th>publisher</th>\n",
       "      <th>genres</th>\n",
       "      <th>app_name</th>\n",
       "      <th>title</th>\n",
       "      <th>url</th>\n",
       "      <th>release_date</th>\n",
       "      <th>tags</th>\n",
       "      <th>reviews_url</th>\n",
       "      <th>specs</th>\n",
       "      <th>price</th>\n",
       "      <th>early_access</th>\n",
       "      <th>id</th>\n",
       "      <th>developer</th>\n",
       "      <th>release_year</th>\n",
       "    </tr>\n",
       "  </thead>\n",
       "  <tbody>\n",
       "    <tr>\n",
       "      <th>10</th>\n",
       "      <td>Qucheza</td>\n",
       "      <td>['Action', 'Indie', 'Simulation', 'Early Access']</td>\n",
       "      <td>Uncanny Islands</td>\n",
       "      <td>Uncanny Islands</td>\n",
       "      <td>http://store.steampowered.com/app/768570/Uncan...</td>\n",
       "      <td>Soon..</td>\n",
       "      <td>['Early Access', 'Action', 'Indie', 'Simulatio...</td>\n",
       "      <td>http://steamcommunity.com/app/768570/reviews/?...</td>\n",
       "      <td>['Single-player']</td>\n",
       "      <td>NaN</td>\n",
       "      <td>1.0</td>\n",
       "      <td>768570.0</td>\n",
       "      <td>Qucheza</td>\n",
       "      <td>NaN</td>\n",
       "    </tr>\n",
       "    <tr>\n",
       "      <th>44</th>\n",
       "      <td>zha7</td>\n",
       "      <td>['Adventure', 'Free to Play', 'RPG', 'Early Ac...</td>\n",
       "      <td>Idle Adventure</td>\n",
       "      <td>Idle Adventure</td>\n",
       "      <td>http://store.steampowered.com/app/714020/Idle_...</td>\n",
       "      <td>Beta测试已开启</td>\n",
       "      <td>['Early Access', 'Free to Play', 'Adventure', ...</td>\n",
       "      <td>http://steamcommunity.com/app/714020/reviews/?...</td>\n",
       "      <td>['MMO', 'Steam Achievements']</td>\n",
       "      <td>NaN</td>\n",
       "      <td>1.0</td>\n",
       "      <td>714020.0</td>\n",
       "      <td>zha7,Phaedruns,Yingke Wu</td>\n",
       "      <td>NaN</td>\n",
       "    </tr>\n",
       "    <tr>\n",
       "      <th>6737</th>\n",
       "      <td>Ghost Machine</td>\n",
       "      <td>['Action', 'Indie']</td>\n",
       "      <td>Warhawks</td>\n",
       "      <td>Warhawks</td>\n",
       "      <td>http://store.steampowered.com/app/380130/Warha...</td>\n",
       "      <td>Coming Soon</td>\n",
       "      <td>['Action', 'Indie', 'VR', 'Flight']</td>\n",
       "      <td>http://steamcommunity.com/app/380130/reviews/?...</td>\n",
       "      <td>['Single-player', 'Multi-player', 'Steam Achie...</td>\n",
       "      <td>NaN</td>\n",
       "      <td>0.0</td>\n",
       "      <td>380130.0</td>\n",
       "      <td>Ghost Machine</td>\n",
       "      <td>NaN</td>\n",
       "    </tr>\n",
       "    <tr>\n",
       "      <th>7134</th>\n",
       "      <td>Strange Loop Games</td>\n",
       "      <td>['Adventure', 'Indie', 'Simulation']</td>\n",
       "      <td>Eco</td>\n",
       "      <td>Eco</td>\n",
       "      <td>http://store.steampowered.com/app/382310/Eco/</td>\n",
       "      <td>Coming Soon</td>\n",
       "      <td>['Survival', 'Adventure', 'Multiplayer', 'Simu...</td>\n",
       "      <td>http://steamcommunity.com/app/382310/reviews/?...</td>\n",
       "      <td>['Single-player', 'Multi-player', 'Online Mult...</td>\n",
       "      <td>NaN</td>\n",
       "      <td>0.0</td>\n",
       "      <td>382310.0</td>\n",
       "      <td>Strange Loop Games</td>\n",
       "      <td>NaN</td>\n",
       "    </tr>\n",
       "    <tr>\n",
       "      <th>7189</th>\n",
       "      <td>Alterego Games, Digital Forest</td>\n",
       "      <td>['Adventure', 'Casual', 'Indie']</td>\n",
       "      <td>Woven</td>\n",
       "      <td>Woven</td>\n",
       "      <td>http://store.steampowered.com/app/504690/Woven/</td>\n",
       "      <td>TBA</td>\n",
       "      <td>['Indie', 'Casual', 'Adventure', 'Singleplayer...</td>\n",
       "      <td>http://steamcommunity.com/app/504690/reviews/?...</td>\n",
       "      <td>['Single-player']</td>\n",
       "      <td>NaN</td>\n",
       "      <td>0.0</td>\n",
       "      <td>504690.0</td>\n",
       "      <td>Alterego Games,Digital Forest</td>\n",
       "      <td>NaN</td>\n",
       "    </tr>\n",
       "    <tr>\n",
       "      <th>...</th>\n",
       "      <td>...</td>\n",
       "      <td>...</td>\n",
       "      <td>...</td>\n",
       "      <td>...</td>\n",
       "      <td>...</td>\n",
       "      <td>...</td>\n",
       "      <td>...</td>\n",
       "      <td>...</td>\n",
       "      <td>...</td>\n",
       "      <td>...</td>\n",
       "      <td>...</td>\n",
       "      <td>...</td>\n",
       "      <td>...</td>\n",
       "      <td>...</td>\n",
       "    </tr>\n",
       "    <tr>\n",
       "      <th>31983</th>\n",
       "      <td>8Floor</td>\n",
       "      <td>['Casual', 'Strategy']</td>\n",
       "      <td>Lost Artifacts</td>\n",
       "      <td>Lost Artifacts</td>\n",
       "      <td>http://store.steampowered.com/app/708150/Lost_...</td>\n",
       "      <td>Coming soon</td>\n",
       "      <td>['Strategy', 'Casual']</td>\n",
       "      <td>http://steamcommunity.com/app/708150/reviews/?...</td>\n",
       "      <td>['Single-player', 'Steam Achievements']</td>\n",
       "      <td>NaN</td>\n",
       "      <td>0.0</td>\n",
       "      <td>708150.0</td>\n",
       "      <td>Creobit</td>\n",
       "      <td>NaN</td>\n",
       "    </tr>\n",
       "    <tr>\n",
       "      <th>31989</th>\n",
       "      <td>Dagestan Technology</td>\n",
       "      <td>['Action', 'Adventure', 'Indie']</td>\n",
       "      <td>Memento</td>\n",
       "      <td>Memento</td>\n",
       "      <td>http://store.steampowered.com/app/454940/Memento/</td>\n",
       "      <td>TBD</td>\n",
       "      <td>['Indie', 'Action', 'Adventure', 'Horror']</td>\n",
       "      <td>http://steamcommunity.com/app/454940/reviews/?...</td>\n",
       "      <td>['Single-player']</td>\n",
       "      <td>NaN</td>\n",
       "      <td>0.0</td>\n",
       "      <td>454940.0</td>\n",
       "      <td>CRAZY SECTOR</td>\n",
       "      <td>NaN</td>\n",
       "    </tr>\n",
       "    <tr>\n",
       "      <th>32000</th>\n",
       "      <td>Maulidan Games</td>\n",
       "      <td>['Adventure', 'Indie']</td>\n",
       "      <td>Spy of Deimos</td>\n",
       "      <td>Spy of Deimos</td>\n",
       "      <td>http://store.steampowered.com/app/689820/Spy_o...</td>\n",
       "      <td>Coming Soon</td>\n",
       "      <td>['Indie', 'Adventure']</td>\n",
       "      <td>http://steamcommunity.com/app/689820/reviews/?...</td>\n",
       "      <td>['Single-player', 'Steam Achievements', 'Steam...</td>\n",
       "      <td>NaN</td>\n",
       "      <td>0.0</td>\n",
       "      <td>689820.0</td>\n",
       "      <td>Maulidan Games</td>\n",
       "      <td>NaN</td>\n",
       "    </tr>\n",
       "    <tr>\n",
       "      <th>32008</th>\n",
       "      <td>New Blood Interactive</td>\n",
       "      <td>['Action', 'Indie']</td>\n",
       "      <td>DUSK</td>\n",
       "      <td>DUSK</td>\n",
       "      <td>http://store.steampowered.com/app/519860/DUSK/</td>\n",
       "      <td>SOON™</td>\n",
       "      <td>['Action', 'FPS', 'Indie', 'Retro', 'Shooter',...</td>\n",
       "      <td>http://steamcommunity.com/app/519860/reviews/?...</td>\n",
       "      <td>['Single-player', 'Online Multi-Player', 'Stea...</td>\n",
       "      <td>20.0</td>\n",
       "      <td>0.0</td>\n",
       "      <td>519860.0</td>\n",
       "      <td>David Szymanski</td>\n",
       "      <td>NaN</td>\n",
       "    </tr>\n",
       "    <tr>\n",
       "      <th>32087</th>\n",
       "      <td>Greyson Richey, Nicholas Lives</td>\n",
       "      <td>['Action', 'Casual', 'Indie', 'Simulation']</td>\n",
       "      <td>Lonely Astronaut</td>\n",
       "      <td>Lonely Astronaut</td>\n",
       "      <td>http://store.steampowered.com/app/755830/Lonel...</td>\n",
       "      <td>Coming Soon</td>\n",
       "      <td>['Casual', 'Action', 'Indie', 'Simulation']</td>\n",
       "      <td>http://steamcommunity.com/app/755830/reviews/?...</td>\n",
       "      <td>['Single-player']</td>\n",
       "      <td>NaN</td>\n",
       "      <td>0.0</td>\n",
       "      <td>755830.0</td>\n",
       "      <td>Greyson Richey,Nicholas Lives</td>\n",
       "      <td>NaN</td>\n",
       "    </tr>\n",
       "  </tbody>\n",
       "</table>\n",
       "<p>104 rows × 14 columns</p>\n",
       "</div>"
      ],
      "text/plain": [
       "                            publisher  \\\n",
       "10                            Qucheza   \n",
       "44                               zha7   \n",
       "6737                    Ghost Machine   \n",
       "7134               Strange Loop Games   \n",
       "7189   Alterego Games, Digital Forest   \n",
       "...                               ...   \n",
       "31983                          8Floor   \n",
       "31989             Dagestan Technology   \n",
       "32000                  Maulidan Games   \n",
       "32008           New Blood Interactive   \n",
       "32087  Greyson Richey, Nicholas Lives   \n",
       "\n",
       "                                                  genres          app_name  \\\n",
       "10     ['Action', 'Indie', 'Simulation', 'Early Access']   Uncanny Islands   \n",
       "44     ['Adventure', 'Free to Play', 'RPG', 'Early Ac...    Idle Adventure   \n",
       "6737                                 ['Action', 'Indie']          Warhawks   \n",
       "7134                ['Adventure', 'Indie', 'Simulation']               Eco   \n",
       "7189                    ['Adventure', 'Casual', 'Indie']             Woven   \n",
       "...                                                  ...               ...   \n",
       "31983                             ['Casual', 'Strategy']    Lost Artifacts   \n",
       "31989                   ['Action', 'Adventure', 'Indie']           Memento   \n",
       "32000                             ['Adventure', 'Indie']     Spy of Deimos   \n",
       "32008                                ['Action', 'Indie']              DUSK   \n",
       "32087        ['Action', 'Casual', 'Indie', 'Simulation']  Lonely Astronaut   \n",
       "\n",
       "                  title                                                url  \\\n",
       "10      Uncanny Islands  http://store.steampowered.com/app/768570/Uncan...   \n",
       "44       Idle Adventure  http://store.steampowered.com/app/714020/Idle_...   \n",
       "6737           Warhawks  http://store.steampowered.com/app/380130/Warha...   \n",
       "7134                Eco      http://store.steampowered.com/app/382310/Eco/   \n",
       "7189              Woven    http://store.steampowered.com/app/504690/Woven/   \n",
       "...                 ...                                                ...   \n",
       "31983    Lost Artifacts  http://store.steampowered.com/app/708150/Lost_...   \n",
       "31989           Memento  http://store.steampowered.com/app/454940/Memento/   \n",
       "32000     Spy of Deimos  http://store.steampowered.com/app/689820/Spy_o...   \n",
       "32008              DUSK     http://store.steampowered.com/app/519860/DUSK/   \n",
       "32087  Lonely Astronaut  http://store.steampowered.com/app/755830/Lonel...   \n",
       "\n",
       "      release_date                                               tags  \\\n",
       "10          Soon..  ['Early Access', 'Action', 'Indie', 'Simulatio...   \n",
       "44       Beta测试已开启  ['Early Access', 'Free to Play', 'Adventure', ...   \n",
       "6737   Coming Soon                ['Action', 'Indie', 'VR', 'Flight']   \n",
       "7134   Coming Soon  ['Survival', 'Adventure', 'Multiplayer', 'Simu...   \n",
       "7189           TBA  ['Indie', 'Casual', 'Adventure', 'Singleplayer...   \n",
       "...            ...                                                ...   \n",
       "31983  Coming soon                             ['Strategy', 'Casual']   \n",
       "31989          TBD         ['Indie', 'Action', 'Adventure', 'Horror']   \n",
       "32000  Coming Soon                             ['Indie', 'Adventure']   \n",
       "32008        SOON™  ['Action', 'FPS', 'Indie', 'Retro', 'Shooter',...   \n",
       "32087  Coming Soon        ['Casual', 'Action', 'Indie', 'Simulation']   \n",
       "\n",
       "                                             reviews_url  \\\n",
       "10     http://steamcommunity.com/app/768570/reviews/?...   \n",
       "44     http://steamcommunity.com/app/714020/reviews/?...   \n",
       "6737   http://steamcommunity.com/app/380130/reviews/?...   \n",
       "7134   http://steamcommunity.com/app/382310/reviews/?...   \n",
       "7189   http://steamcommunity.com/app/504690/reviews/?...   \n",
       "...                                                  ...   \n",
       "31983  http://steamcommunity.com/app/708150/reviews/?...   \n",
       "31989  http://steamcommunity.com/app/454940/reviews/?...   \n",
       "32000  http://steamcommunity.com/app/689820/reviews/?...   \n",
       "32008  http://steamcommunity.com/app/519860/reviews/?...   \n",
       "32087  http://steamcommunity.com/app/755830/reviews/?...   \n",
       "\n",
       "                                                   specs price  early_access  \\\n",
       "10                                     ['Single-player']   NaN           1.0   \n",
       "44                         ['MMO', 'Steam Achievements']   NaN           1.0   \n",
       "6737   ['Single-player', 'Multi-player', 'Steam Achie...   NaN           0.0   \n",
       "7134   ['Single-player', 'Multi-player', 'Online Mult...   NaN           0.0   \n",
       "7189                                   ['Single-player']   NaN           0.0   \n",
       "...                                                  ...   ...           ...   \n",
       "31983            ['Single-player', 'Steam Achievements']   NaN           0.0   \n",
       "31989                                  ['Single-player']   NaN           0.0   \n",
       "32000  ['Single-player', 'Steam Achievements', 'Steam...   NaN           0.0   \n",
       "32008  ['Single-player', 'Online Multi-Player', 'Stea...  20.0           0.0   \n",
       "32087                                  ['Single-player']   NaN           0.0   \n",
       "\n",
       "             id                      developer release_year  \n",
       "10     768570.0                        Qucheza          NaN  \n",
       "44     714020.0       zha7,Phaedruns,Yingke Wu          NaN  \n",
       "6737   380130.0                  Ghost Machine          NaN  \n",
       "7134   382310.0             Strange Loop Games          NaN  \n",
       "7189   504690.0  Alterego Games,Digital Forest          NaN  \n",
       "...         ...                            ...          ...  \n",
       "31983  708150.0                        Creobit          NaN  \n",
       "31989  454940.0                   CRAZY SECTOR          NaN  \n",
       "32000  689820.0                 Maulidan Games          NaN  \n",
       "32008  519860.0                David Szymanski          NaN  \n",
       "32087  755830.0  Greyson Richey,Nicholas Lives          NaN  \n",
       "\n",
       "[104 rows x 14 columns]"
      ]
     },
     "execution_count": 60,
     "metadata": {},
     "output_type": "execute_result"
    }
   ],
   "source": [
    "#Vemos esos casos puntuales, donde 'release_year' es null, pero en 'release_date' son not null:\n",
    "\n",
    "steam_games.loc[(steam_games.release_year.isna()) & (steam_games.release_date.notna())]"
   ]
  },
  {
   "cell_type": "code",
   "execution_count": 61,
   "metadata": {},
   "outputs": [],
   "source": [
    "#Hacemos Web Scrapping, para obtener 'release_date' de URL de la columna 'url':\n",
    "\n",
    "steam_games['release_date_2'] = steam_games.loc[(steam_games.release_year.isna()) & (steam_games.release_date.notna()), 'url'].apply(f.obtener_ano_lanzamiento)"
   ]
  },
  {
   "cell_type": "code",
   "execution_count": 62,
   "metadata": {},
   "outputs": [
    {
     "data": {
      "text/plain": [
       "array([nan, '2 Mar, 2018', '13 Apr, 2018', '10 Jul, 2020', '6 Feb, 2018',\n",
       "       '15 Nov, 2019', 'To be announced', '19 Jul, 2018', 'Coming soon',\n",
       "       '22 Jan, 2018', '29 May, 2018', '13 Mar, 2018', None,\n",
       "       '2 Mar, 2022', '24 Apr, 2018', '25 May, 2021', '28 Feb, 2018',\n",
       "       '23 Feb, 2018', '13 Sep, 2022', '27 Mar, 2018', '31 Jan, 2019',\n",
       "       '8 May, 2018', '7 Dec, 2021', '26 Jan, 2018', '18 Mar, 2019',\n",
       "       '9 Apr, 2019', '23 May, 2020', '3 Dec, 2018', '20 Feb, 2019',\n",
       "       '28 Aug, 2018', '15 Oct, 2019', '22 Feb, 2018', '20 Sep, 2018',\n",
       "       '8 Mar, 2018', '31 Oct, 2019', '26 Nov, 2018', '11 Jul, 2018',\n",
       "       '1 Jul, 2018', '4 Feb, 2019', '29 Oct, 2020', '27 Apr, 2022',\n",
       "       '11 Jan, 2019', '12 Jul, 2018', '1 Oct, 2020', '5 Jul, 2019',\n",
       "       '29 Mar, 2019', '19 Sep, 2019', '7 Mar, 2018', '5 Dec, 2018',\n",
       "       'Aug 2018', '8 Jul, 2020', 'Q2 2024', '3 Aug, 2021',\n",
       "       '30 Jul, 2018', '1 Feb, 2018', '10 Dec, 2018', '16 Mar, 2018'],\n",
       "      dtype=object)"
      ]
     },
     "execution_count": 62,
     "metadata": {},
     "output_type": "execute_result"
    }
   ],
   "source": [
    "steam_games['release_date_2'].unique()"
   ]
  },
  {
   "cell_type": "code",
   "execution_count": 63,
   "metadata": {},
   "outputs": [
    {
     "name": "stdout",
     "output_type": "stream",
     "text": [
      "<class 'pandas.core.frame.DataFrame'>\n",
      "RangeIndex: 32135 entries, 0 to 32134\n",
      "Data columns (total 3 columns):\n",
      " #   Column          Non-Null Count  Dtype \n",
      "---  ------          --------------  ----- \n",
      " 0   release_date    30068 non-null  object\n",
      " 1   release_year    29964 non-null  object\n",
      " 2   release_date_2  90 non-null     object\n",
      "dtypes: object(3)\n",
      "memory usage: 753.3+ KB\n"
     ]
    }
   ],
   "source": [
    "steam_games[['release_date', 'release_year', 'release_date_2']].info()"
   ]
  },
  {
   "cell_type": "code",
   "execution_count": 64,
   "metadata": {},
   "outputs": [
    {
     "data": {
      "text/html": [
       "<div>\n",
       "<style scoped>\n",
       "    .dataframe tbody tr th:only-of-type {\n",
       "        vertical-align: middle;\n",
       "    }\n",
       "\n",
       "    .dataframe tbody tr th {\n",
       "        vertical-align: top;\n",
       "    }\n",
       "\n",
       "    .dataframe thead th {\n",
       "        text-align: right;\n",
       "    }\n",
       "</style>\n",
       "<table border=\"1\" class=\"dataframe\">\n",
       "  <thead>\n",
       "    <tr style=\"text-align: right;\">\n",
       "      <th></th>\n",
       "      <th>publisher</th>\n",
       "      <th>genres</th>\n",
       "      <th>app_name</th>\n",
       "      <th>title</th>\n",
       "      <th>url</th>\n",
       "      <th>release_date</th>\n",
       "      <th>tags</th>\n",
       "      <th>reviews_url</th>\n",
       "      <th>specs</th>\n",
       "      <th>price</th>\n",
       "      <th>early_access</th>\n",
       "      <th>id</th>\n",
       "      <th>developer</th>\n",
       "      <th>release_year</th>\n",
       "      <th>release_date_2</th>\n",
       "    </tr>\n",
       "  </thead>\n",
       "  <tbody>\n",
       "    <tr>\n",
       "      <th>11836</th>\n",
       "      <td>LEVER Software</td>\n",
       "      <td>['Indie', 'RPG']</td>\n",
       "      <td>The Dungeon of Destiny</td>\n",
       "      <td>The Dungeon of Destiny</td>\n",
       "      <td>http://store.steampowered.com/app/555980/The_D...</td>\n",
       "      <td>TBD</td>\n",
       "      <td>['RPG', 'Indie', 'Dungeon Crawler', 'Great Sou...</td>\n",
       "      <td>http://steamcommunity.com/app/555980/reviews/?...</td>\n",
       "      <td>['Single-player', 'Steam Achievements', 'Capti...</td>\n",
       "      <td>NaN</td>\n",
       "      <td>0.0</td>\n",
       "      <td>555980.0</td>\n",
       "      <td>LEVER Software</td>\n",
       "      <td>NaN</td>\n",
       "      <td>None</td>\n",
       "    </tr>\n",
       "    <tr>\n",
       "      <th>12540</th>\n",
       "      <td>Siberian Digital</td>\n",
       "      <td>['Adventure', 'Indie', 'RPG', 'Simulation', 'S...</td>\n",
       "      <td>Hard Era: The Fantasy Defence</td>\n",
       "      <td>Hard Era: The Fantasy Defence</td>\n",
       "      <td>http://store.steampowered.com/app/692260/Hard_...</td>\n",
       "      <td>TBD</td>\n",
       "      <td>['Simulation', 'Strategy', 'Adventure', 'RPG',...</td>\n",
       "      <td>http://steamcommunity.com/app/692260/reviews/?...</td>\n",
       "      <td>['Single-player']</td>\n",
       "      <td>NaN</td>\n",
       "      <td>0.0</td>\n",
       "      <td>692260.0</td>\n",
       "      <td>Siberian Digital</td>\n",
       "      <td>NaN</td>\n",
       "      <td>None</td>\n",
       "    </tr>\n",
       "    <tr>\n",
       "      <th>12751</th>\n",
       "      <td>Dagestan Technology</td>\n",
       "      <td>['Adventure', 'Casual', 'Indie', 'Strategy']</td>\n",
       "      <td>Fantasy World</td>\n",
       "      <td>Fantasy World</td>\n",
       "      <td>http://store.steampowered.com/app/708790/Fanta...</td>\n",
       "      <td>Soon</td>\n",
       "      <td>['Adventure', 'Indie', 'Casual', 'Strategy']</td>\n",
       "      <td>http://steamcommunity.com/app/708790/reviews/?...</td>\n",
       "      <td>['Single-player', 'Multi-player', 'Local Multi...</td>\n",
       "      <td>NaN</td>\n",
       "      <td>0.0</td>\n",
       "      <td>708790.0</td>\n",
       "      <td>LaserStone</td>\n",
       "      <td>NaN</td>\n",
       "      <td>None</td>\n",
       "    </tr>\n",
       "    <tr>\n",
       "      <th>12936</th>\n",
       "      <td>Enjoy Games</td>\n",
       "      <td>['Adventure', 'Indie']</td>\n",
       "      <td>Lepur</td>\n",
       "      <td>Lepur</td>\n",
       "      <td>http://store.steampowered.com/app/767600/Lepur/</td>\n",
       "      <td>Soon</td>\n",
       "      <td>['Adventure', 'Indie']</td>\n",
       "      <td>http://steamcommunity.com/app/767600/reviews/?...</td>\n",
       "      <td>['Single-player']</td>\n",
       "      <td>NaN</td>\n",
       "      <td>0.0</td>\n",
       "      <td>767600.0</td>\n",
       "      <td>Sochnoslivka, Luis Zuno</td>\n",
       "      <td>NaN</td>\n",
       "      <td>None</td>\n",
       "    </tr>\n",
       "    <tr>\n",
       "      <th>13034</th>\n",
       "      <td>Dagestan Technology</td>\n",
       "      <td>['Adventure', 'Casual', 'Indie']</td>\n",
       "      <td>Franky the Bumwalker</td>\n",
       "      <td>Franky the Bumwalker</td>\n",
       "      <td>http://store.steampowered.com/app/761310/Frank...</td>\n",
       "      <td>SOON</td>\n",
       "      <td>['Casual', 'Adventure', 'Indie']</td>\n",
       "      <td>http://steamcommunity.com/app/761310/reviews/?...</td>\n",
       "      <td>['Single-player']</td>\n",
       "      <td>0.99</td>\n",
       "      <td>0.0</td>\n",
       "      <td>761310.0</td>\n",
       "      <td>Onlyjoy`s production</td>\n",
       "      <td>NaN</td>\n",
       "      <td>None</td>\n",
       "    </tr>\n",
       "    <tr>\n",
       "      <th>13103</th>\n",
       "      <td>Dagestan Technology</td>\n",
       "      <td>['Action', 'Adventure', 'Indie']</td>\n",
       "      <td>Howl</td>\n",
       "      <td>Howl</td>\n",
       "      <td>http://store.steampowered.com/app/513640/Howl/</td>\n",
       "      <td>Soon</td>\n",
       "      <td>['Adventure', 'Indie', 'Action']</td>\n",
       "      <td>http://steamcommunity.com/app/513640/reviews/?...</td>\n",
       "      <td>['Single-player']</td>\n",
       "      <td>NaN</td>\n",
       "      <td>0.0</td>\n",
       "      <td>513640.0</td>\n",
       "      <td>Gunsquad</td>\n",
       "      <td>NaN</td>\n",
       "      <td>None</td>\n",
       "    </tr>\n",
       "    <tr>\n",
       "      <th>13244</th>\n",
       "      <td>Dagestan Technology</td>\n",
       "      <td>['Adventure', 'Casual', 'Indie']</td>\n",
       "      <td>Mad Quad</td>\n",
       "      <td>Mad Quad</td>\n",
       "      <td>http://store.steampowered.com/app/760450/Mad_Q...</td>\n",
       "      <td>SOON</td>\n",
       "      <td>['Adventure', 'Indie', 'Casual']</td>\n",
       "      <td>http://steamcommunity.com/app/760450/reviews/?...</td>\n",
       "      <td>['Single-player']</td>\n",
       "      <td>NaN</td>\n",
       "      <td>0.0</td>\n",
       "      <td>760450.0</td>\n",
       "      <td>Retardia Games</td>\n",
       "      <td>NaN</td>\n",
       "      <td>None</td>\n",
       "    </tr>\n",
       "    <tr>\n",
       "      <th>13246</th>\n",
       "      <td>Dagestan Technology</td>\n",
       "      <td>['Action', 'Adventure', 'Casual', 'Indie']</td>\n",
       "      <td>Dungeon Escapist</td>\n",
       "      <td>Dungeon Escapist</td>\n",
       "      <td>http://store.steampowered.com/app/760440/Dunge...</td>\n",
       "      <td>SOON</td>\n",
       "      <td>['Action', 'Adventure', 'Indie', 'Casual']</td>\n",
       "      <td>http://steamcommunity.com/app/760440/reviews/?...</td>\n",
       "      <td>['Single-player']</td>\n",
       "      <td>NaN</td>\n",
       "      <td>0.0</td>\n",
       "      <td>760440.0</td>\n",
       "      <td>Retardia Games</td>\n",
       "      <td>NaN</td>\n",
       "      <td>None</td>\n",
       "    </tr>\n",
       "    <tr>\n",
       "      <th>13425</th>\n",
       "      <td>Atriagames</td>\n",
       "      <td>['Action', 'Indie']</td>\n",
       "      <td>FYD</td>\n",
       "      <td>FYD</td>\n",
       "      <td>http://store.steampowered.com/app/760700/FYD/</td>\n",
       "      <td>Soon</td>\n",
       "      <td>['Action', 'Indie']</td>\n",
       "      <td>http://steamcommunity.com/app/760700/reviews/?...</td>\n",
       "      <td>['Single-player']</td>\n",
       "      <td>NaN</td>\n",
       "      <td>0.0</td>\n",
       "      <td>760700.0</td>\n",
       "      <td>Atriagames</td>\n",
       "      <td>NaN</td>\n",
       "      <td>None</td>\n",
       "    </tr>\n",
       "    <tr>\n",
       "      <th>13614</th>\n",
       "      <td>u̷n̸k̴n̶o̴w̶n̵</td>\n",
       "      <td>['Action', 'Adventure', 'Indie', 'Simulation',...</td>\n",
       "      <td>DONT PLAY THIS GAME.EXE</td>\n",
       "      <td>DONT PLAY THIS GAME.EXE</td>\n",
       "      <td>http://store.steampowered.com/app/679240/DONT_...</td>\n",
       "      <td>0̵1̴0̵0̶1̷0̶0̵0̴ ̴0̶0̶1̶1̶0̷0̶1̵1̴ ̸0̶0̶1̶1̵0̶...</td>\n",
       "      <td>['Early Access', 'Violent', 'Action', 'Simulat...</td>\n",
       "      <td>http://steamcommunity.com/app/679240/reviews/?...</td>\n",
       "      <td>['Single-player']</td>\n",
       "      <td>NaN</td>\n",
       "      <td>1.0</td>\n",
       "      <td>679240.0</td>\n",
       "      <td>u̷n̸k̴n̶o̴w̶n̵</td>\n",
       "      <td>NaN</td>\n",
       "      <td>None</td>\n",
       "    </tr>\n",
       "    <tr>\n",
       "      <th>13812</th>\n",
       "      <td>HALUNAZI GAMES</td>\n",
       "      <td>['Action', 'Casual', 'Indie']</td>\n",
       "      <td>HALUNAZI</td>\n",
       "      <td>HALUNAZI</td>\n",
       "      <td>http://store.steampowered.com/app/622820/HALUN...</td>\n",
       "      <td>TBD</td>\n",
       "      <td>['Action', 'Indie', 'Casual']</td>\n",
       "      <td>http://steamcommunity.com/app/622820/reviews/?...</td>\n",
       "      <td>['Single-player', 'Steam Trading Cards', 'Capt...</td>\n",
       "      <td>NaN</td>\n",
       "      <td>0.0</td>\n",
       "      <td>622820.0</td>\n",
       "      <td>HALUNAZI GAMES</td>\n",
       "      <td>NaN</td>\n",
       "      <td>None</td>\n",
       "    </tr>\n",
       "    <tr>\n",
       "      <th>15668</th>\n",
       "      <td>AEY Inc.</td>\n",
       "      <td>['Adventure', 'Indie']</td>\n",
       "      <td>The Reckoning Day</td>\n",
       "      <td>The Reckoning Day</td>\n",
       "      <td>http://store.steampowered.com/app/630650/The_R...</td>\n",
       "      <td>SOON</td>\n",
       "      <td>['Indie', 'Adventure']</td>\n",
       "      <td>http://steamcommunity.com/app/630650/reviews/?...</td>\n",
       "      <td>['Single-player']</td>\n",
       "      <td>NaN</td>\n",
       "      <td>0.0</td>\n",
       "      <td>630650.0</td>\n",
       "      <td>Gunsquad</td>\n",
       "      <td>NaN</td>\n",
       "      <td>None</td>\n",
       "    </tr>\n",
       "    <tr>\n",
       "      <th>31989</th>\n",
       "      <td>Dagestan Technology</td>\n",
       "      <td>['Action', 'Adventure', 'Indie']</td>\n",
       "      <td>Memento</td>\n",
       "      <td>Memento</td>\n",
       "      <td>http://store.steampowered.com/app/454940/Memento/</td>\n",
       "      <td>TBD</td>\n",
       "      <td>['Indie', 'Action', 'Adventure', 'Horror']</td>\n",
       "      <td>http://steamcommunity.com/app/454940/reviews/?...</td>\n",
       "      <td>['Single-player']</td>\n",
       "      <td>NaN</td>\n",
       "      <td>0.0</td>\n",
       "      <td>454940.0</td>\n",
       "      <td>CRAZY SECTOR</td>\n",
       "      <td>NaN</td>\n",
       "      <td>None</td>\n",
       "    </tr>\n",
       "    <tr>\n",
       "      <th>32000</th>\n",
       "      <td>Maulidan Games</td>\n",
       "      <td>['Adventure', 'Indie']</td>\n",
       "      <td>Spy of Deimos</td>\n",
       "      <td>Spy of Deimos</td>\n",
       "      <td>http://store.steampowered.com/app/689820/Spy_o...</td>\n",
       "      <td>Coming Soon</td>\n",
       "      <td>['Indie', 'Adventure']</td>\n",
       "      <td>http://steamcommunity.com/app/689820/reviews/?...</td>\n",
       "      <td>['Single-player', 'Steam Achievements', 'Steam...</td>\n",
       "      <td>NaN</td>\n",
       "      <td>0.0</td>\n",
       "      <td>689820.0</td>\n",
       "      <td>Maulidan Games</td>\n",
       "      <td>NaN</td>\n",
       "      <td>None</td>\n",
       "    </tr>\n",
       "  </tbody>\n",
       "</table>\n",
       "</div>"
      ],
      "text/plain": [
       "                 publisher                                             genres  \\\n",
       "11836       LEVER Software                                   ['Indie', 'RPG']   \n",
       "12540     Siberian Digital  ['Adventure', 'Indie', 'RPG', 'Simulation', 'S...   \n",
       "12751  Dagestan Technology       ['Adventure', 'Casual', 'Indie', 'Strategy']   \n",
       "12936          Enjoy Games                             ['Adventure', 'Indie']   \n",
       "13034  Dagestan Technology                   ['Adventure', 'Casual', 'Indie']   \n",
       "13103  Dagestan Technology                   ['Action', 'Adventure', 'Indie']   \n",
       "13244  Dagestan Technology                   ['Adventure', 'Casual', 'Indie']   \n",
       "13246  Dagestan Technology         ['Action', 'Adventure', 'Casual', 'Indie']   \n",
       "13425           Atriagames                                ['Action', 'Indie']   \n",
       "13614       u̷n̸k̴n̶o̴w̶n̵  ['Action', 'Adventure', 'Indie', 'Simulation',...   \n",
       "13812       HALUNAZI GAMES                      ['Action', 'Casual', 'Indie']   \n",
       "15668             AEY Inc.                             ['Adventure', 'Indie']   \n",
       "31989  Dagestan Technology                   ['Action', 'Adventure', 'Indie']   \n",
       "32000       Maulidan Games                             ['Adventure', 'Indie']   \n",
       "\n",
       "                            app_name                          title  \\\n",
       "11836         The Dungeon of Destiny         The Dungeon of Destiny   \n",
       "12540  Hard Era: The Fantasy Defence  Hard Era: The Fantasy Defence   \n",
       "12751                  Fantasy World                  Fantasy World   \n",
       "12936                          Lepur                          Lepur   \n",
       "13034           Franky the Bumwalker           Franky the Bumwalker   \n",
       "13103                           Howl                           Howl   \n",
       "13244                       Mad Quad                       Mad Quad   \n",
       "13246               Dungeon Escapist               Dungeon Escapist   \n",
       "13425                            FYD                            FYD   \n",
       "13614        DONT PLAY THIS GAME.EXE        DONT PLAY THIS GAME.EXE   \n",
       "13812                       HALUNAZI                       HALUNAZI   \n",
       "15668              The Reckoning Day              The Reckoning Day   \n",
       "31989                        Memento                        Memento   \n",
       "32000                  Spy of Deimos                  Spy of Deimos   \n",
       "\n",
       "                                                     url  \\\n",
       "11836  http://store.steampowered.com/app/555980/The_D...   \n",
       "12540  http://store.steampowered.com/app/692260/Hard_...   \n",
       "12751  http://store.steampowered.com/app/708790/Fanta...   \n",
       "12936    http://store.steampowered.com/app/767600/Lepur/   \n",
       "13034  http://store.steampowered.com/app/761310/Frank...   \n",
       "13103     http://store.steampowered.com/app/513640/Howl/   \n",
       "13244  http://store.steampowered.com/app/760450/Mad_Q...   \n",
       "13246  http://store.steampowered.com/app/760440/Dunge...   \n",
       "13425      http://store.steampowered.com/app/760700/FYD/   \n",
       "13614  http://store.steampowered.com/app/679240/DONT_...   \n",
       "13812  http://store.steampowered.com/app/622820/HALUN...   \n",
       "15668  http://store.steampowered.com/app/630650/The_R...   \n",
       "31989  http://store.steampowered.com/app/454940/Memento/   \n",
       "32000  http://store.steampowered.com/app/689820/Spy_o...   \n",
       "\n",
       "                                            release_date  \\\n",
       "11836                                                TBD   \n",
       "12540                                                TBD   \n",
       "12751                                               Soon   \n",
       "12936                                               Soon   \n",
       "13034                                               SOON   \n",
       "13103                                               Soon   \n",
       "13244                                               SOON   \n",
       "13246                                               SOON   \n",
       "13425                                               Soon   \n",
       "13614  0̵1̴0̵0̶1̷0̶0̵0̴ ̴0̶0̶1̶1̶0̷0̶1̵1̴ ̸0̶0̶1̶1̵0̶...   \n",
       "13812                                                TBD   \n",
       "15668                                               SOON   \n",
       "31989                                                TBD   \n",
       "32000                                        Coming Soon   \n",
       "\n",
       "                                                    tags  \\\n",
       "11836  ['RPG', 'Indie', 'Dungeon Crawler', 'Great Sou...   \n",
       "12540  ['Simulation', 'Strategy', 'Adventure', 'RPG',...   \n",
       "12751       ['Adventure', 'Indie', 'Casual', 'Strategy']   \n",
       "12936                             ['Adventure', 'Indie']   \n",
       "13034                   ['Casual', 'Adventure', 'Indie']   \n",
       "13103                   ['Adventure', 'Indie', 'Action']   \n",
       "13244                   ['Adventure', 'Indie', 'Casual']   \n",
       "13246         ['Action', 'Adventure', 'Indie', 'Casual']   \n",
       "13425                                ['Action', 'Indie']   \n",
       "13614  ['Early Access', 'Violent', 'Action', 'Simulat...   \n",
       "13812                      ['Action', 'Indie', 'Casual']   \n",
       "15668                             ['Indie', 'Adventure']   \n",
       "31989         ['Indie', 'Action', 'Adventure', 'Horror']   \n",
       "32000                             ['Indie', 'Adventure']   \n",
       "\n",
       "                                             reviews_url  \\\n",
       "11836  http://steamcommunity.com/app/555980/reviews/?...   \n",
       "12540  http://steamcommunity.com/app/692260/reviews/?...   \n",
       "12751  http://steamcommunity.com/app/708790/reviews/?...   \n",
       "12936  http://steamcommunity.com/app/767600/reviews/?...   \n",
       "13034  http://steamcommunity.com/app/761310/reviews/?...   \n",
       "13103  http://steamcommunity.com/app/513640/reviews/?...   \n",
       "13244  http://steamcommunity.com/app/760450/reviews/?...   \n",
       "13246  http://steamcommunity.com/app/760440/reviews/?...   \n",
       "13425  http://steamcommunity.com/app/760700/reviews/?...   \n",
       "13614  http://steamcommunity.com/app/679240/reviews/?...   \n",
       "13812  http://steamcommunity.com/app/622820/reviews/?...   \n",
       "15668  http://steamcommunity.com/app/630650/reviews/?...   \n",
       "31989  http://steamcommunity.com/app/454940/reviews/?...   \n",
       "32000  http://steamcommunity.com/app/689820/reviews/?...   \n",
       "\n",
       "                                                   specs price  early_access  \\\n",
       "11836  ['Single-player', 'Steam Achievements', 'Capti...   NaN           0.0   \n",
       "12540                                  ['Single-player']   NaN           0.0   \n",
       "12751  ['Single-player', 'Multi-player', 'Local Multi...   NaN           0.0   \n",
       "12936                                  ['Single-player']   NaN           0.0   \n",
       "13034                                  ['Single-player']  0.99           0.0   \n",
       "13103                                  ['Single-player']   NaN           0.0   \n",
       "13244                                  ['Single-player']   NaN           0.0   \n",
       "13246                                  ['Single-player']   NaN           0.0   \n",
       "13425                                  ['Single-player']   NaN           0.0   \n",
       "13614                                  ['Single-player']   NaN           1.0   \n",
       "13812  ['Single-player', 'Steam Trading Cards', 'Capt...   NaN           0.0   \n",
       "15668                                  ['Single-player']   NaN           0.0   \n",
       "31989                                  ['Single-player']   NaN           0.0   \n",
       "32000  ['Single-player', 'Steam Achievements', 'Steam...   NaN           0.0   \n",
       "\n",
       "             id                developer release_year release_date_2  \n",
       "11836  555980.0           LEVER Software          NaN           None  \n",
       "12540  692260.0         Siberian Digital          NaN           None  \n",
       "12751  708790.0               LaserStone          NaN           None  \n",
       "12936  767600.0  Sochnoslivka, Luis Zuno          NaN           None  \n",
       "13034  761310.0     Onlyjoy`s production          NaN           None  \n",
       "13103  513640.0                 Gunsquad          NaN           None  \n",
       "13244  760450.0           Retardia Games          NaN           None  \n",
       "13246  760440.0           Retardia Games          NaN           None  \n",
       "13425  760700.0               Atriagames          NaN           None  \n",
       "13614  679240.0           u̷n̸k̴n̶o̴w̶n̵          NaN           None  \n",
       "13812  622820.0           HALUNAZI GAMES          NaN           None  \n",
       "15668  630650.0                 Gunsquad          NaN           None  \n",
       "31989  454940.0             CRAZY SECTOR          NaN           None  \n",
       "32000  689820.0           Maulidan Games          NaN           None  "
      ]
     },
     "execution_count": 64,
     "metadata": {},
     "output_type": "execute_result"
    }
   ],
   "source": [
    "#Vemos por que algunas fechas de lanzamiento no se pudieron extraer\n",
    "\n",
    "steam_games.loc[(steam_games.release_year.isna()) & (steam_games.release_date.notna()) & (steam_games.release_date_2).isna()]"
   ]
  },
  {
   "cell_type": "code",
   "execution_count": 65,
   "metadata": {},
   "outputs": [
    {
     "data": {
      "text/plain": [
       "publisher                                            LEVER Software\n",
       "genres                                             ['Indie', 'RPG']\n",
       "app_name                                     The Dungeon of Destiny\n",
       "title                                        The Dungeon of Destiny\n",
       "url               http://store.steampowered.com/app/555980/The_D...\n",
       "release_date                                                    TBD\n",
       "tags              ['RPG', 'Indie', 'Dungeon Crawler', 'Great Sou...\n",
       "reviews_url       http://steamcommunity.com/app/555980/reviews/?...\n",
       "specs             ['Single-player', 'Steam Achievements', 'Capti...\n",
       "price                                                           NaN\n",
       "early_access                                                    0.0\n",
       "id                                                         555980.0\n",
       "developer                                            LEVER Software\n",
       "release_year                                                    NaN\n",
       "release_date_2                                                 None\n",
       "Name: 11836, dtype: object"
      ]
     },
     "execution_count": 65,
     "metadata": {},
     "output_type": "execute_result"
    }
   ],
   "source": [
    "#Vemos más en detalle por que no se pudo extraer la fecha de lanzamiento de esas URLs.\n",
    "\n",
    "steam_games.iloc[11836]"
   ]
  },
  {
   "cell_type": "markdown",
   "metadata": {},
   "source": [
    "Se pudo concluir que no se puede extraer la fecha de lanzamiento de esas URLs, ya que estas, nos dirigen directamente a la tienda principal de Steam, por ende, no va a ser posible extraerlas."
   ]
  },
  {
   "cell_type": "code",
   "execution_count": 66,
   "metadata": {},
   "outputs": [
    {
     "data": {
      "text/plain": [
       "array([nan, '2 Mar, 2018', '13 Apr, 2018', '10 Jul, 2020', '6 Feb, 2018',\n",
       "       '15 Nov, 2019', 'To be announced', '19 Jul, 2018', 'Coming soon',\n",
       "       '22 Jan, 2018', '29 May, 2018', '13 Mar, 2018', None,\n",
       "       '2 Mar, 2022', '24 Apr, 2018', '25 May, 2021', '28 Feb, 2018',\n",
       "       '23 Feb, 2018', '13 Sep, 2022', '27 Mar, 2018', '31 Jan, 2019',\n",
       "       '8 May, 2018', '7 Dec, 2021', '26 Jan, 2018', '18 Mar, 2019',\n",
       "       '9 Apr, 2019', '23 May, 2020', '3 Dec, 2018', '20 Feb, 2019',\n",
       "       '28 Aug, 2018', '15 Oct, 2019', '22 Feb, 2018', '20 Sep, 2018',\n",
       "       '8 Mar, 2018', '31 Oct, 2019', '26 Nov, 2018', '11 Jul, 2018',\n",
       "       '1 Jul, 2018', '4 Feb, 2019', '29 Oct, 2020', '27 Apr, 2022',\n",
       "       '11 Jan, 2019', '12 Jul, 2018', '1 Oct, 2020', '5 Jul, 2019',\n",
       "       '29 Mar, 2019', '19 Sep, 2019', '7 Mar, 2018', '5 Dec, 2018',\n",
       "       'Aug 2018', '8 Jul, 2020', 'Q2 2024', '3 Aug, 2021',\n",
       "       '30 Jul, 2018', '1 Feb, 2018', '10 Dec, 2018', '16 Mar, 2018'],\n",
       "      dtype=object)"
      ]
     },
     "execution_count": 66,
     "metadata": {},
     "output_type": "execute_result"
    }
   ],
   "source": [
    "#Vemos el formato de las fechas que fueron extraidas con Web Scraping a traves de sus URLs.\n",
    "\n",
    "steam_games['release_date_2'].unique()"
   ]
  },
  {
   "cell_type": "code",
   "execution_count": 67,
   "metadata": {},
   "outputs": [],
   "source": [
    "#Extraemos nuevamente el año:\n",
    "\n",
    "steam_games['release_year_2'] = steam_games['release_date_2'].str.extract(r'(\\b\\d{4}\\b)')"
   ]
  },
  {
   "cell_type": "code",
   "execution_count": 68,
   "metadata": {},
   "outputs": [
    {
     "data": {
      "text/plain": [
       "'2018'"
      ]
     },
     "execution_count": 68,
     "metadata": {},
     "output_type": "execute_result"
    }
   ],
   "source": [
    "#Verificamos:\n",
    "\n",
    "steam_games['release_year_2'][7134]"
   ]
  },
  {
   "cell_type": "code",
   "execution_count": 69,
   "metadata": {},
   "outputs": [],
   "source": [
    "#Unimos la columna 'release_year' con la columna 'release_year_2'\n",
    "\n",
    "steam_games['release_year'].fillna(steam_games['release_year_2'], inplace= True)"
   ]
  },
  {
   "cell_type": "code",
   "execution_count": 70,
   "metadata": {},
   "outputs": [],
   "source": [
    "#Eliminamos las columnas 'release_date_2' y 'release_year_2'\n",
    "\n",
    "steam_games = steam_games.drop(columns = ['release_year_2','release_date_2', 'release_date'])"
   ]
  },
  {
   "cell_type": "markdown",
   "metadata": {},
   "source": [
    "Borramos valores nulos de la columna **release_year**:"
   ]
  },
  {
   "cell_type": "code",
   "execution_count": 71,
   "metadata": {},
   "outputs": [
    {
     "data": {
      "text/plain": [
       "array(['2018', '2017', nan, '1997', '1998', '2016', '2006', '2005',\n",
       "       '2003', '2007', '2002', '2000', '1995', '1996', '1994', '2001',\n",
       "       '1993', '2004', '1999', '2008', '2009', '1992', '1989', '2010',\n",
       "       '2011', '2013', '2012', '2014', '1983', '1984', '2015', '1990',\n",
       "       '1988', '1991', '1985', '1982', '1987', '2020', '2019', '1981',\n",
       "       '1986', '2022', '2021', '1975', '1970', '1980', '2024'],\n",
       "      dtype=object)"
      ]
     },
     "execution_count": 71,
     "metadata": {},
     "output_type": "execute_result"
    }
   ],
   "source": [
    "steam_games['release_year'].unique()"
   ]
  },
  {
   "cell_type": "code",
   "execution_count": 72,
   "metadata": {},
   "outputs": [],
   "source": [
    "#Eliminamos las filas que contengan valores nulos en todas las columnas\n",
    "\n",
    "steam_games = steam_games.dropna(how='all')"
   ]
  },
  {
   "cell_type": "code",
   "execution_count": 73,
   "metadata": {},
   "outputs": [
    {
     "data": {
      "text/plain": [
       "(32135, 13)"
      ]
     },
     "execution_count": 73,
     "metadata": {},
     "output_type": "execute_result"
    }
   ],
   "source": [
    "#Vemos el tamaño del DataFrame después de estas modificaciones\n",
    "\n",
    "steam_games.shape"
   ]
  },
  {
   "cell_type": "code",
   "execution_count": 74,
   "metadata": {},
   "outputs": [
    {
     "name": "stdout",
     "output_type": "stream",
     "text": [
      "La columna publisher tiene un  25.12 % de valores nulos\n",
      "La columna genres tiene un  10.22 % de valores nulos\n",
      "La columna app_name tiene un  0.01 % de valores nulos\n",
      "La columna title tiene un  6.38 % de valores nulos\n",
      "La columna url tiene un  0.00 % de valores nulos\n",
      "La columna tags tiene un  0.51 % de valores nulos\n",
      "La columna reviews_url tiene un  0.01 % de valores nulos\n",
      "La columna specs tiene un  2.08 % de valores nulos\n",
      "La columna price tiene un  4.29 % de valores nulos\n",
      "La columna early_access tiene un  0.00 % de valores nulos\n",
      "La columna id tiene un  0.01 % de valores nulos\n",
      "La columna developer tiene un  10.27 % de valores nulos\n",
      "La columna release_year tiene un  6.56 % de valores nulos\n"
     ]
    }
   ],
   "source": [
    "#Verificamos el porcentaje de valores nulos, para saber si eliminamos alguna columna, pero ninguna tiene un porcentaje mayor a 10%, asique las dejamos.\n",
    "\n",
    "f.porcentaje_valores_nulos(steam_games)"
   ]
  },
  {
   "cell_type": "markdown",
   "metadata": {},
   "source": [
    "Verificamos duplicados según el id"
   ]
  },
  {
   "cell_type": "code",
   "execution_count": 75,
   "metadata": {},
   "outputs": [
    {
     "data": {
      "text/plain": [
       "2"
      ]
     },
     "execution_count": 75,
     "metadata": {},
     "output_type": "execute_result"
    }
   ],
   "source": [
    "steam_games.duplicated(subset = 'id').sum()"
   ]
  },
  {
   "cell_type": "code",
   "execution_count": 76,
   "metadata": {},
   "outputs": [],
   "source": [
    "#Eliminamos duplicados según el id\n",
    "\n",
    "steam_games = steam_games.drop_duplicates(subset = 'id')"
   ]
  },
  {
   "cell_type": "code",
   "execution_count": 77,
   "metadata": {},
   "outputs": [
    {
     "data": {
      "text/plain": [
       "0"
      ]
     },
     "execution_count": 77,
     "metadata": {},
     "output_type": "execute_result"
    }
   ],
   "source": [
    "#Verificamos:\n",
    "\n",
    "steam_games.duplicated(subset = 'id').sum()"
   ]
  },
  {
   "cell_type": "code",
   "execution_count": 78,
   "metadata": {},
   "outputs": [],
   "source": [
    "#Eliminamos la columna 'reviews_url', ya que es irrelevante.\n",
    "\n",
    "steam_games = steam_games.drop(columns='reviews_url')"
   ]
  },
  {
   "cell_type": "markdown",
   "metadata": {},
   "source": [
    "Descomponemos la columna 'genres', ya que tiene valores agrupados en listas:"
   ]
  },
  {
   "cell_type": "code",
   "execution_count": 79,
   "metadata": {},
   "outputs": [
    {
     "name": "stderr",
     "output_type": "stream",
     "text": [
      "C:\\Users\\ferna\\AppData\\Local\\Temp\\ipykernel_12180\\211526033.py:7: FutureWarning: Returning a DataFrame from Series.apply when the supplied function returns a Series is deprecated and will be removed in a future version.\n",
      "  steam_games = steam_games.drop('genres', axis=1).join(steam_games['genres'].apply(pd.Series).stack().reset_index(level=1, drop=True).rename('genres'))\n"
     ]
    }
   ],
   "source": [
    "# Primero, convertimos las cadenas en listas de Python usando ast.literal_eval.\n",
    "\n",
    "steam_games['genres'] = steam_games['genres'].apply(lambda x: ast.literal_eval(x) if pd.notna(x) else [])\n",
    "\n",
    "# Luego, utilizamos el método apply con lambda para descomponer las listas.\n",
    "\n",
    "steam_games = steam_games.drop('genres', axis=1).join(steam_games['genres'].apply(pd.Series).stack().reset_index(level=1, drop=True).rename('genres'))"
   ]
  },
  {
   "cell_type": "code",
   "execution_count": 80,
   "metadata": {},
   "outputs": [
    {
     "data": {
      "text/plain": [
       "array(['Action', 'Casual', 'Indie', 'Simulation', 'Strategy',\n",
       "       'Free to Play', 'RPG', 'Sports', 'Adventure', nan, 'Racing',\n",
       "       'Early Access', 'Massively Multiplayer',\n",
       "       'Animation &amp; Modeling', 'Video Production', 'Utilities',\n",
       "       'Web Publishing', 'Education', 'Software Training',\n",
       "       'Design &amp; Illustration', 'Audio Production', 'Photo Editing',\n",
       "       'Accounting'], dtype=object)"
      ]
     },
     "execution_count": 80,
     "metadata": {},
     "output_type": "execute_result"
    }
   ],
   "source": [
    "#Verificamos que los valores no esten agrupados en listas:\n",
    "\n",
    "steam_games['genres'].unique()"
   ]
  },
  {
   "cell_type": "markdown",
   "metadata": {},
   "source": [
    "Hay un error al identificar '&', asique lo corregimos:"
   ]
  },
  {
   "cell_type": "code",
   "execution_count": 81,
   "metadata": {},
   "outputs": [],
   "source": [
    "steam_games['genres'] = steam_games['genres'].str.replace('&amp;', 'and')"
   ]
  },
  {
   "cell_type": "code",
   "execution_count": 82,
   "metadata": {},
   "outputs": [
    {
     "data": {
      "text/plain": [
       "array(['Action', 'Casual', 'Indie', 'Simulation', 'Strategy',\n",
       "       'Free to Play', 'RPG', 'Sports', 'Adventure', nan, 'Racing',\n",
       "       'Early Access', 'Massively Multiplayer', 'Animation and Modeling',\n",
       "       'Video Production', 'Utilities', 'Web Publishing', 'Education',\n",
       "       'Software Training', 'Design and Illustration', 'Audio Production',\n",
       "       'Photo Editing', 'Accounting'], dtype=object)"
      ]
     },
     "execution_count": 82,
     "metadata": {},
     "output_type": "execute_result"
    }
   ],
   "source": [
    "#Verificamos que no haya errores:\n",
    "\n",
    "steam_games['genres'].unique()"
   ]
  },
  {
   "cell_type": "code",
   "execution_count": 83,
   "metadata": {},
   "outputs": [
    {
     "data": {
      "text/html": [
       "<div>\n",
       "<style scoped>\n",
       "    .dataframe tbody tr th:only-of-type {\n",
       "        vertical-align: middle;\n",
       "    }\n",
       "\n",
       "    .dataframe tbody tr th {\n",
       "        vertical-align: top;\n",
       "    }\n",
       "\n",
       "    .dataframe thead th {\n",
       "        text-align: right;\n",
       "    }\n",
       "</style>\n",
       "<table border=\"1\" class=\"dataframe\">\n",
       "  <thead>\n",
       "    <tr style=\"text-align: right;\">\n",
       "      <th></th>\n",
       "      <th>publisher</th>\n",
       "      <th>app_name</th>\n",
       "      <th>title</th>\n",
       "      <th>url</th>\n",
       "      <th>tags</th>\n",
       "      <th>specs</th>\n",
       "      <th>price</th>\n",
       "      <th>early_access</th>\n",
       "      <th>id</th>\n",
       "      <th>developer</th>\n",
       "      <th>release_year</th>\n",
       "      <th>genres</th>\n",
       "    </tr>\n",
       "  </thead>\n",
       "  <tbody>\n",
       "    <tr>\n",
       "      <th>0</th>\n",
       "      <td>Kotoshiro</td>\n",
       "      <td>Lost Summoner Kitty</td>\n",
       "      <td>Lost Summoner Kitty</td>\n",
       "      <td>http://store.steampowered.com/app/761140/Lost_...</td>\n",
       "      <td>['Strategy', 'Action', 'Indie', 'Casual', 'Sim...</td>\n",
       "      <td>['Single-player']</td>\n",
       "      <td>4.99</td>\n",
       "      <td>0.0</td>\n",
       "      <td>761140.0</td>\n",
       "      <td>Kotoshiro</td>\n",
       "      <td>2018</td>\n",
       "      <td>Action</td>\n",
       "    </tr>\n",
       "    <tr>\n",
       "      <th>0</th>\n",
       "      <td>Kotoshiro</td>\n",
       "      <td>Lost Summoner Kitty</td>\n",
       "      <td>Lost Summoner Kitty</td>\n",
       "      <td>http://store.steampowered.com/app/761140/Lost_...</td>\n",
       "      <td>['Strategy', 'Action', 'Indie', 'Casual', 'Sim...</td>\n",
       "      <td>['Single-player']</td>\n",
       "      <td>4.99</td>\n",
       "      <td>0.0</td>\n",
       "      <td>761140.0</td>\n",
       "      <td>Kotoshiro</td>\n",
       "      <td>2018</td>\n",
       "      <td>Casual</td>\n",
       "    </tr>\n",
       "    <tr>\n",
       "      <th>0</th>\n",
       "      <td>Kotoshiro</td>\n",
       "      <td>Lost Summoner Kitty</td>\n",
       "      <td>Lost Summoner Kitty</td>\n",
       "      <td>http://store.steampowered.com/app/761140/Lost_...</td>\n",
       "      <td>['Strategy', 'Action', 'Indie', 'Casual', 'Sim...</td>\n",
       "      <td>['Single-player']</td>\n",
       "      <td>4.99</td>\n",
       "      <td>0.0</td>\n",
       "      <td>761140.0</td>\n",
       "      <td>Kotoshiro</td>\n",
       "      <td>2018</td>\n",
       "      <td>Indie</td>\n",
       "    </tr>\n",
       "    <tr>\n",
       "      <th>0</th>\n",
       "      <td>Kotoshiro</td>\n",
       "      <td>Lost Summoner Kitty</td>\n",
       "      <td>Lost Summoner Kitty</td>\n",
       "      <td>http://store.steampowered.com/app/761140/Lost_...</td>\n",
       "      <td>['Strategy', 'Action', 'Indie', 'Casual', 'Sim...</td>\n",
       "      <td>['Single-player']</td>\n",
       "      <td>4.99</td>\n",
       "      <td>0.0</td>\n",
       "      <td>761140.0</td>\n",
       "      <td>Kotoshiro</td>\n",
       "      <td>2018</td>\n",
       "      <td>Simulation</td>\n",
       "    </tr>\n",
       "    <tr>\n",
       "      <th>0</th>\n",
       "      <td>Kotoshiro</td>\n",
       "      <td>Lost Summoner Kitty</td>\n",
       "      <td>Lost Summoner Kitty</td>\n",
       "      <td>http://store.steampowered.com/app/761140/Lost_...</td>\n",
       "      <td>['Strategy', 'Action', 'Indie', 'Casual', 'Sim...</td>\n",
       "      <td>['Single-player']</td>\n",
       "      <td>4.99</td>\n",
       "      <td>0.0</td>\n",
       "      <td>761140.0</td>\n",
       "      <td>Kotoshiro</td>\n",
       "      <td>2018</td>\n",
       "      <td>Strategy</td>\n",
       "    </tr>\n",
       "    <tr>\n",
       "      <th>...</th>\n",
       "      <td>...</td>\n",
       "      <td>...</td>\n",
       "      <td>...</td>\n",
       "      <td>...</td>\n",
       "      <td>...</td>\n",
       "      <td>...</td>\n",
       "      <td>...</td>\n",
       "      <td>...</td>\n",
       "      <td>...</td>\n",
       "      <td>...</td>\n",
       "      <td>...</td>\n",
       "      <td>...</td>\n",
       "    </tr>\n",
       "    <tr>\n",
       "      <th>32132</th>\n",
       "      <td>Laush Studio</td>\n",
       "      <td>Russian Roads</td>\n",
       "      <td>Russian Roads</td>\n",
       "      <td>http://store.steampowered.com/app/610660/Russi...</td>\n",
       "      <td>['Indie', 'Simulation', 'Racing']</td>\n",
       "      <td>['Single-player', 'Steam Achievements', 'Steam...</td>\n",
       "      <td>1.99</td>\n",
       "      <td>0.0</td>\n",
       "      <td>610660.0</td>\n",
       "      <td>Laush Dmitriy Sergeevich</td>\n",
       "      <td>2018</td>\n",
       "      <td>Racing</td>\n",
       "    </tr>\n",
       "    <tr>\n",
       "      <th>32132</th>\n",
       "      <td>Laush Studio</td>\n",
       "      <td>Russian Roads</td>\n",
       "      <td>Russian Roads</td>\n",
       "      <td>http://store.steampowered.com/app/610660/Russi...</td>\n",
       "      <td>['Indie', 'Simulation', 'Racing']</td>\n",
       "      <td>['Single-player', 'Steam Achievements', 'Steam...</td>\n",
       "      <td>1.99</td>\n",
       "      <td>0.0</td>\n",
       "      <td>610660.0</td>\n",
       "      <td>Laush Dmitriy Sergeevich</td>\n",
       "      <td>2018</td>\n",
       "      <td>Simulation</td>\n",
       "    </tr>\n",
       "    <tr>\n",
       "      <th>32133</th>\n",
       "      <td>SIXNAILS</td>\n",
       "      <td>EXIT 2 - Directions</td>\n",
       "      <td>EXIT 2 - Directions</td>\n",
       "      <td>http://store.steampowered.com/app/658870/EXIT_...</td>\n",
       "      <td>['Indie', 'Casual', 'Puzzle', 'Singleplayer', ...</td>\n",
       "      <td>['Single-player', 'Steam Achievements', 'Steam...</td>\n",
       "      <td>4.99</td>\n",
       "      <td>0.0</td>\n",
       "      <td>658870.0</td>\n",
       "      <td>xropi,stev3ns</td>\n",
       "      <td>2017</td>\n",
       "      <td>Casual</td>\n",
       "    </tr>\n",
       "    <tr>\n",
       "      <th>32133</th>\n",
       "      <td>SIXNAILS</td>\n",
       "      <td>EXIT 2 - Directions</td>\n",
       "      <td>EXIT 2 - Directions</td>\n",
       "      <td>http://store.steampowered.com/app/658870/EXIT_...</td>\n",
       "      <td>['Indie', 'Casual', 'Puzzle', 'Singleplayer', ...</td>\n",
       "      <td>['Single-player', 'Steam Achievements', 'Steam...</td>\n",
       "      <td>4.99</td>\n",
       "      <td>0.0</td>\n",
       "      <td>658870.0</td>\n",
       "      <td>xropi,stev3ns</td>\n",
       "      <td>2017</td>\n",
       "      <td>Indie</td>\n",
       "    </tr>\n",
       "    <tr>\n",
       "      <th>32134</th>\n",
       "      <td>NaN</td>\n",
       "      <td>Maze Run VR</td>\n",
       "      <td>NaN</td>\n",
       "      <td>http://store.steampowered.com/app/681550/Maze_...</td>\n",
       "      <td>['Early Access', 'Adventure', 'Indie', 'Action...</td>\n",
       "      <td>['Single-player', 'Stats', 'Steam Leaderboards...</td>\n",
       "      <td>4.99</td>\n",
       "      <td>1.0</td>\n",
       "      <td>681550.0</td>\n",
       "      <td>NaN</td>\n",
       "      <td>NaN</td>\n",
       "      <td>NaN</td>\n",
       "    </tr>\n",
       "  </tbody>\n",
       "</table>\n",
       "<p>74834 rows × 12 columns</p>\n",
       "</div>"
      ],
      "text/plain": [
       "          publisher             app_name                title  \\\n",
       "0         Kotoshiro  Lost Summoner Kitty  Lost Summoner Kitty   \n",
       "0         Kotoshiro  Lost Summoner Kitty  Lost Summoner Kitty   \n",
       "0         Kotoshiro  Lost Summoner Kitty  Lost Summoner Kitty   \n",
       "0         Kotoshiro  Lost Summoner Kitty  Lost Summoner Kitty   \n",
       "0         Kotoshiro  Lost Summoner Kitty  Lost Summoner Kitty   \n",
       "...             ...                  ...                  ...   \n",
       "32132  Laush Studio        Russian Roads        Russian Roads   \n",
       "32132  Laush Studio        Russian Roads        Russian Roads   \n",
       "32133      SIXNAILS  EXIT 2 - Directions  EXIT 2 - Directions   \n",
       "32133      SIXNAILS  EXIT 2 - Directions  EXIT 2 - Directions   \n",
       "32134           NaN          Maze Run VR                  NaN   \n",
       "\n",
       "                                                     url  \\\n",
       "0      http://store.steampowered.com/app/761140/Lost_...   \n",
       "0      http://store.steampowered.com/app/761140/Lost_...   \n",
       "0      http://store.steampowered.com/app/761140/Lost_...   \n",
       "0      http://store.steampowered.com/app/761140/Lost_...   \n",
       "0      http://store.steampowered.com/app/761140/Lost_...   \n",
       "...                                                  ...   \n",
       "32132  http://store.steampowered.com/app/610660/Russi...   \n",
       "32132  http://store.steampowered.com/app/610660/Russi...   \n",
       "32133  http://store.steampowered.com/app/658870/EXIT_...   \n",
       "32133  http://store.steampowered.com/app/658870/EXIT_...   \n",
       "32134  http://store.steampowered.com/app/681550/Maze_...   \n",
       "\n",
       "                                                    tags  \\\n",
       "0      ['Strategy', 'Action', 'Indie', 'Casual', 'Sim...   \n",
       "0      ['Strategy', 'Action', 'Indie', 'Casual', 'Sim...   \n",
       "0      ['Strategy', 'Action', 'Indie', 'Casual', 'Sim...   \n",
       "0      ['Strategy', 'Action', 'Indie', 'Casual', 'Sim...   \n",
       "0      ['Strategy', 'Action', 'Indie', 'Casual', 'Sim...   \n",
       "...                                                  ...   \n",
       "32132                  ['Indie', 'Simulation', 'Racing']   \n",
       "32132                  ['Indie', 'Simulation', 'Racing']   \n",
       "32133  ['Indie', 'Casual', 'Puzzle', 'Singleplayer', ...   \n",
       "32133  ['Indie', 'Casual', 'Puzzle', 'Singleplayer', ...   \n",
       "32134  ['Early Access', 'Adventure', 'Indie', 'Action...   \n",
       "\n",
       "                                                   specs price  early_access  \\\n",
       "0                                      ['Single-player']  4.99           0.0   \n",
       "0                                      ['Single-player']  4.99           0.0   \n",
       "0                                      ['Single-player']  4.99           0.0   \n",
       "0                                      ['Single-player']  4.99           0.0   \n",
       "0                                      ['Single-player']  4.99           0.0   \n",
       "...                                                  ...   ...           ...   \n",
       "32132  ['Single-player', 'Steam Achievements', 'Steam...  1.99           0.0   \n",
       "32132  ['Single-player', 'Steam Achievements', 'Steam...  1.99           0.0   \n",
       "32133  ['Single-player', 'Steam Achievements', 'Steam...  4.99           0.0   \n",
       "32133  ['Single-player', 'Steam Achievements', 'Steam...  4.99           0.0   \n",
       "32134  ['Single-player', 'Stats', 'Steam Leaderboards...  4.99           1.0   \n",
       "\n",
       "             id                 developer release_year      genres  \n",
       "0      761140.0                 Kotoshiro         2018      Action  \n",
       "0      761140.0                 Kotoshiro         2018      Casual  \n",
       "0      761140.0                 Kotoshiro         2018       Indie  \n",
       "0      761140.0                 Kotoshiro         2018  Simulation  \n",
       "0      761140.0                 Kotoshiro         2018    Strategy  \n",
       "...         ...                       ...          ...         ...  \n",
       "32132  610660.0  Laush Dmitriy Sergeevich         2018      Racing  \n",
       "32132  610660.0  Laush Dmitriy Sergeevich         2018  Simulation  \n",
       "32133  658870.0             xropi,stev3ns         2017      Casual  \n",
       "32133  658870.0             xropi,stev3ns         2017       Indie  \n",
       "32134  681550.0                       NaN          NaN         NaN  \n",
       "\n",
       "[74834 rows x 12 columns]"
      ]
     },
     "execution_count": 83,
     "metadata": {},
     "output_type": "execute_result"
    }
   ],
   "source": [
    "steam_games"
   ]
  },
  {
   "cell_type": "markdown",
   "metadata": {},
   "source": [
    "Analizamos la columna **price**:"
   ]
  },
  {
   "cell_type": "code",
   "execution_count": 84,
   "metadata": {},
   "outputs": [
    {
     "data": {
      "text/plain": [
       "array(['4.99', 'Free To Play', 'Free to Play', '0.99', '2.99', '3.99',\n",
       "       '9.99', '18.99', '29.99', nan, 'Free', '10.99',\n",
       "       '1.5899999999999999', '14.99', '1.99', '59.99', '8.99', '6.99',\n",
       "       '7.99', '39.99', '19.99', '7.49', '12.99', '5.99', '2.49', '15.99',\n",
       "       '1.25', '24.99', '17.99', '61.99', '3.49', '11.99', '13.99',\n",
       "       'Free Demo', 'Play for Free!', '34.99', '74.76', '1.49', '32.99',\n",
       "       '99.99', '14.95', '69.99', '16.99', '79.99', '49.99', '5.0',\n",
       "       '44.99', '13.98', '29.96', '119.99', '109.99', '149.99', '771.71',\n",
       "       'Install Now', '21.99', '89.99', 'Play WARMACHINE: Tactics Demo',\n",
       "       '0.98', '139.92', '4.29', '64.99', 'Free Mod', '54.99', '74.99',\n",
       "       'Install Theme', '0.89', 'Third-party', '0.5', 'Play Now',\n",
       "       '299.99', '1.29', '3.0', '15.0', '5.49', '23.99', '49.0', '20.99',\n",
       "       '10.93', '1.3900000000000001', 'Free HITMAN™ Holiday Pack',\n",
       "       '36.99', '4.49', '2.0', '4.0', '9.0', '234.99',\n",
       "       '1.9500000000000002', '1.5', '199.0', '189.0', '6.66', '27.99',\n",
       "       '10.49', '129.99', '179.0', '26.99', '399.99', '31.99', '399.0',\n",
       "       '20.0', '40.0', '3.33', '199.99', '22.99', '320.0', '38.85',\n",
       "       '71.7', '59.95', '995.0', '27.49', '3.39', '6.0', '19.95',\n",
       "       '499.99', '16.06', '4.68', '131.4', '44.98', '202.76', '1.0',\n",
       "       '2.3', '0.9500000000000001', '172.24', '249.99',\n",
       "       '2.9699999999999998', '10.96', '10.0', '30.0', '2.66', '6.48',\n",
       "       '19.29', '11.15', '18.9', '2.89', 'Play the Demo', '99.0', '87.94',\n",
       "       '599.0', '8.98', '9.69', '0.49', '9.98', '9.95', '7.0',\n",
       "       'Starting at $499.00', 'Starting at $449.00', '12.89', '6.49',\n",
       "       '1.87', '42.99', '41.99', '289.99', 'Free to Try', '23.96', '5.65',\n",
       "       '12.0', '13.37', '189.96', '124.99', 'Free Movie', '19.98',\n",
       "       '160.91', 'Free to Use'], dtype=object)"
      ]
     },
     "execution_count": 84,
     "metadata": {},
     "output_type": "execute_result"
    }
   ],
   "source": [
    "steam_games['price'].unique()"
   ]
  },
  {
   "cell_type": "code",
   "execution_count": 85,
   "metadata": {},
   "outputs": [],
   "source": [
    "steam_games['price'] = steam_games['price'].fillna('--')"
   ]
  },
  {
   "cell_type": "markdown",
   "metadata": {},
   "source": [
    "Vemos los valores que no son numericos y los guardamos en 'lista':"
   ]
  },
  {
   "cell_type": "code",
   "execution_count": 86,
   "metadata": {},
   "outputs": [],
   "source": [
    "patron = r'^\\D*$' #Patron para extraer los valores que no sean numericos\n",
    "\n",
    "lista = steam_games[steam_games['price'].str.contains(patron, case=False, regex=True)]['price'].unique() #Extraemos los valores que no sean numericos"
   ]
  },
  {
   "cell_type": "code",
   "execution_count": 87,
   "metadata": {},
   "outputs": [
    {
     "data": {
      "text/plain": [
       "array(['Free To Play', 'Free to Play', '--', 'Free', 'Free Demo',\n",
       "       'Play for Free!', 'Install Now', 'Play WARMACHINE: Tactics Demo',\n",
       "       'Free Mod', 'Install Theme', 'Third-party', 'Play Now',\n",
       "       'Free HITMAN™ Holiday Pack', 'Play the Demo', 'Free to Try',\n",
       "       'Free Movie', 'Free to Use'], dtype=object)"
      ]
     },
     "execution_count": 87,
     "metadata": {},
     "output_type": "execute_result"
    }
   ],
   "source": [
    "lista"
   ]
  },
  {
   "cell_type": "markdown",
   "metadata": {},
   "source": [
    "Vemos que los valores no numericos de la columna **price**, hacen referencia a que el juego es gratis. Entonces guardamos esos valores, exceptuando los nulos, en una lista vacia, recorriendolos con un blucle for:"
   ]
  },
  {
   "cell_type": "code",
   "execution_count": 88,
   "metadata": {},
   "outputs": [],
   "source": [
    "lista_gratis = []\n",
    "\n",
    "for i in lista:\n",
    "    if i != '--':\n",
    "        lista_gratis.append(i)\n",
    "else:\n",
    "    pass"
   ]
  },
  {
   "cell_type": "markdown",
   "metadata": {},
   "source": [
    "Reemplazamos esos valores, por el valor '0.0':"
   ]
  },
  {
   "cell_type": "code",
   "execution_count": 89,
   "metadata": {},
   "outputs": [],
   "source": [
    "steam_games['price'] = steam_games['price'].replace(lista, '0.0')"
   ]
  },
  {
   "cell_type": "code",
   "execution_count": 90,
   "metadata": {},
   "outputs": [
    {
     "data": {
      "text/plain": [
       "array(['4.99', '0.0', '0.99', '2.99', '3.99', '9.99', '18.99', '29.99',\n",
       "       '10.99', '1.5899999999999999', '14.99', '1.99', '59.99', '8.99',\n",
       "       '6.99', '7.99', '39.99', '19.99', '7.49', '12.99', '5.99', '2.49',\n",
       "       '15.99', '1.25', '24.99', '17.99', '61.99', '3.49', '11.99',\n",
       "       '13.99', '34.99', '74.76', '1.49', '32.99', '99.99', '14.95',\n",
       "       '69.99', '16.99', '79.99', '49.99', '5.0', '44.99', '13.98',\n",
       "       '29.96', '119.99', '109.99', '149.99', '771.71', '21.99', '89.99',\n",
       "       '0.98', '139.92', '4.29', '64.99', '54.99', '74.99', '0.89', '0.5',\n",
       "       '299.99', '1.29', '3.0', '15.0', '5.49', '23.99', '49.0', '20.99',\n",
       "       '10.93', '1.3900000000000001', '36.99', '4.49', '2.0', '4.0',\n",
       "       '9.0', '234.99', '1.9500000000000002', '1.5', '199.0', '189.0',\n",
       "       '6.66', '27.99', '10.49', '129.99', '179.0', '26.99', '399.99',\n",
       "       '31.99', '399.0', '20.0', '40.0', '3.33', '199.99', '22.99',\n",
       "       '320.0', '38.85', '71.7', '59.95', '995.0', '27.49', '3.39', '6.0',\n",
       "       '19.95', '499.99', '16.06', '4.68', '131.4', '44.98', '202.76',\n",
       "       '1.0', '2.3', '0.9500000000000001', '172.24', '249.99',\n",
       "       '2.9699999999999998', '10.96', '10.0', '30.0', '2.66', '6.48',\n",
       "       '19.29', '11.15', '18.9', '2.89', '99.0', '87.94', '599.0', '8.98',\n",
       "       '9.69', '0.49', '9.98', '9.95', '7.0', 'Starting at $499.00',\n",
       "       'Starting at $449.00', '12.89', '6.49', '1.87', '42.99', '41.99',\n",
       "       '289.99', '23.96', '5.65', '12.0', '13.37', '189.96', '124.99',\n",
       "       '19.98', '160.91'], dtype=object)"
      ]
     },
     "execution_count": 90,
     "metadata": {},
     "output_type": "execute_result"
    }
   ],
   "source": [
    "steam_games['price'].unique()"
   ]
  },
  {
   "cell_type": "markdown",
   "metadata": {},
   "source": [
    "Hay valores con texto, pero que tambien tienen un precio, asique a esos, solo le dejaremos el precio:"
   ]
  },
  {
   "cell_type": "code",
   "execution_count": 91,
   "metadata": {},
   "outputs": [],
   "source": [
    "steam_games['price'] = steam_games['price'].replace('Starting at $499.00', '499.00')"
   ]
  },
  {
   "cell_type": "code",
   "execution_count": 92,
   "metadata": {},
   "outputs": [],
   "source": [
    "steam_games['price'] = steam_games['price'].replace('Starting at $449.00', '449.00')"
   ]
  },
  {
   "cell_type": "code",
   "execution_count": 93,
   "metadata": {},
   "outputs": [],
   "source": [
    "steam_games['price'] = steam_games['price'].astype(float)"
   ]
  },
  {
   "cell_type": "markdown",
   "metadata": {},
   "source": [
    "Guardamos el DataFrame 'steam_games', en un archivo csv:"
   ]
  },
  {
   "cell_type": "code",
   "execution_count": 94,
   "metadata": {},
   "outputs": [],
   "source": [
    "steam_games.to_csv('../steam_games_limpio.csv', encoding= 'utf-8', index= False)"
   ]
  },
  {
   "cell_type": "markdown",
   "metadata": {},
   "source": [
    "#### Modificaciones en 'user_reviews':"
   ]
  },
  {
   "cell_type": "code",
   "execution_count": 95,
   "metadata": {},
   "outputs": [
    {
     "name": "stdout",
     "output_type": "stream",
     "text": [
      "<class 'pandas.core.frame.DataFrame'>\n",
      "RangeIndex: 58431 entries, 0 to 58430\n",
      "Data columns (total 9 columns):\n",
      " #   Column       Non-Null Count  Dtype \n",
      "---  ------       --------------  ----- \n",
      " 0   funny        58431 non-null  object\n",
      " 1   posted       58431 non-null  object\n",
      " 2   last_edited  58431 non-null  object\n",
      " 3   item_id      58431 non-null  object\n",
      " 4   helpful      58431 non-null  object\n",
      " 5   recommend    58431 non-null  bool  \n",
      " 6   review       58431 non-null  object\n",
      " 7   user_id      58431 non-null  object\n",
      " 8   user_url     58431 non-null  object\n",
      "dtypes: bool(1), object(8)\n",
      "memory usage: 3.6+ MB\n"
     ]
    }
   ],
   "source": [
    "user_reviews.info()"
   ]
  },
  {
   "cell_type": "code",
   "execution_count": 96,
   "metadata": {},
   "outputs": [
    {
     "data": {
      "text/plain": [
       "'Posted November 5, 2011.'"
      ]
     },
     "execution_count": 96,
     "metadata": {},
     "output_type": "execute_result"
    }
   ],
   "source": [
    "#Vemos el formato de la fecha en la columna 'posted'\n",
    "\n",
    "user_reviews['posted'][0]"
   ]
  },
  {
   "cell_type": "markdown",
   "metadata": {},
   "source": [
    "Vemos el formato de la fecha en la columna 'posted', y es un formato incorrecto, ya que para nuestras funciones solo necesitamos el año:\n"
   ]
  },
  {
   "cell_type": "code",
   "execution_count": 97,
   "metadata": {},
   "outputs": [],
   "source": [
    "#Lo primero que hacemos, es transformar la columna en tipo string, para extraer todo de cada valor, seguido de la palabra 'Posted':\n",
    "\n",
    "user_reviews['posted'] = user_reviews['posted'].str.extract(r'(\\b\\d{4}\\b)')"
   ]
  },
  {
   "cell_type": "code",
   "execution_count": 98,
   "metadata": {},
   "outputs": [
    {
     "data": {
      "text/plain": [
       "array(['2011', '2014', '2013', nan, '2015', '2012', '2010'], dtype=object)"
      ]
     },
     "execution_count": 98,
     "metadata": {},
     "output_type": "execute_result"
    }
   ],
   "source": [
    "#Verificamos:\n",
    "\n",
    "user_reviews['posted'].unique()"
   ]
  },
  {
   "cell_type": "code",
   "execution_count": 99,
   "metadata": {},
   "outputs": [
    {
     "data": {
      "text/html": [
       "<div>\n",
       "<style scoped>\n",
       "    .dataframe tbody tr th:only-of-type {\n",
       "        vertical-align: middle;\n",
       "    }\n",
       "\n",
       "    .dataframe tbody tr th {\n",
       "        vertical-align: top;\n",
       "    }\n",
       "\n",
       "    .dataframe thead th {\n",
       "        text-align: right;\n",
       "    }\n",
       "</style>\n",
       "<table border=\"1\" class=\"dataframe\">\n",
       "  <thead>\n",
       "    <tr style=\"text-align: right;\">\n",
       "      <th></th>\n",
       "      <th>funny</th>\n",
       "      <th>posted</th>\n",
       "      <th>last_edited</th>\n",
       "      <th>item_id</th>\n",
       "      <th>helpful</th>\n",
       "      <th>recommend</th>\n",
       "      <th>review</th>\n",
       "      <th>user_id</th>\n",
       "      <th>user_url</th>\n",
       "    </tr>\n",
       "  </thead>\n",
       "  <tbody>\n",
       "    <tr>\n",
       "      <th>0</th>\n",
       "      <td></td>\n",
       "      <td>2011</td>\n",
       "      <td></td>\n",
       "      <td>1250</td>\n",
       "      <td>No ratings yet</td>\n",
       "      <td>True</td>\n",
       "      <td>Simple yet with great replayability. In my opi...</td>\n",
       "      <td>76561197970982479</td>\n",
       "      <td>http://steamcommunity.com/profiles/76561197970...</td>\n",
       "    </tr>\n",
       "    <tr>\n",
       "      <th>1</th>\n",
       "      <td></td>\n",
       "      <td>2011</td>\n",
       "      <td></td>\n",
       "      <td>22200</td>\n",
       "      <td>No ratings yet</td>\n",
       "      <td>True</td>\n",
       "      <td>It's unique and worth a playthrough.</td>\n",
       "      <td>76561197970982479</td>\n",
       "      <td>http://steamcommunity.com/profiles/76561197970...</td>\n",
       "    </tr>\n",
       "    <tr>\n",
       "      <th>2</th>\n",
       "      <td></td>\n",
       "      <td>2011</td>\n",
       "      <td></td>\n",
       "      <td>43110</td>\n",
       "      <td>No ratings yet</td>\n",
       "      <td>True</td>\n",
       "      <td>Great atmosphere. The gunplay can be a bit chu...</td>\n",
       "      <td>76561197970982479</td>\n",
       "      <td>http://steamcommunity.com/profiles/76561197970...</td>\n",
       "    </tr>\n",
       "    <tr>\n",
       "      <th>3</th>\n",
       "      <td></td>\n",
       "      <td>2014</td>\n",
       "      <td></td>\n",
       "      <td>251610</td>\n",
       "      <td>15 of 20 people (75%) found this review helpful</td>\n",
       "      <td>True</td>\n",
       "      <td>I know what you think when you see this title ...</td>\n",
       "      <td>js41637</td>\n",
       "      <td>http://steamcommunity.com/id/js41637</td>\n",
       "    </tr>\n",
       "    <tr>\n",
       "      <th>4</th>\n",
       "      <td></td>\n",
       "      <td>2013</td>\n",
       "      <td></td>\n",
       "      <td>227300</td>\n",
       "      <td>0 of 1 people (0%) found this review helpful</td>\n",
       "      <td>True</td>\n",
       "      <td>For a simple (it's actually not all that simpl...</td>\n",
       "      <td>js41637</td>\n",
       "      <td>http://steamcommunity.com/id/js41637</td>\n",
       "    </tr>\n",
       "    <tr>\n",
       "      <th>...</th>\n",
       "      <td>...</td>\n",
       "      <td>...</td>\n",
       "      <td>...</td>\n",
       "      <td>...</td>\n",
       "      <td>...</td>\n",
       "      <td>...</td>\n",
       "      <td>...</td>\n",
       "      <td>...</td>\n",
       "      <td>...</td>\n",
       "    </tr>\n",
       "    <tr>\n",
       "      <th>58426</th>\n",
       "      <td></td>\n",
       "      <td>NaN</td>\n",
       "      <td></td>\n",
       "      <td>70</td>\n",
       "      <td>No ratings yet</td>\n",
       "      <td>True</td>\n",
       "      <td>a must have classic from steam definitely wort...</td>\n",
       "      <td>76561198312638244</td>\n",
       "      <td>http://steamcommunity.com/profiles/76561198312...</td>\n",
       "    </tr>\n",
       "    <tr>\n",
       "      <th>58427</th>\n",
       "      <td></td>\n",
       "      <td>NaN</td>\n",
       "      <td></td>\n",
       "      <td>362890</td>\n",
       "      <td>No ratings yet</td>\n",
       "      <td>True</td>\n",
       "      <td>this game is a perfect remake of the original ...</td>\n",
       "      <td>76561198312638244</td>\n",
       "      <td>http://steamcommunity.com/profiles/76561198312...</td>\n",
       "    </tr>\n",
       "    <tr>\n",
       "      <th>58428</th>\n",
       "      <td>1 person found this review funny</td>\n",
       "      <td>NaN</td>\n",
       "      <td></td>\n",
       "      <td>273110</td>\n",
       "      <td>1 of 2 people (50%) found this review helpful</td>\n",
       "      <td>True</td>\n",
       "      <td>had so much fun plaing this and collecting res...</td>\n",
       "      <td>LydiaMorley</td>\n",
       "      <td>http://steamcommunity.com/id/LydiaMorley</td>\n",
       "    </tr>\n",
       "    <tr>\n",
       "      <th>58429</th>\n",
       "      <td></td>\n",
       "      <td>NaN</td>\n",
       "      <td></td>\n",
       "      <td>730</td>\n",
       "      <td>No ratings yet</td>\n",
       "      <td>True</td>\n",
       "      <td>:D</td>\n",
       "      <td>LydiaMorley</td>\n",
       "      <td>http://steamcommunity.com/id/LydiaMorley</td>\n",
       "    </tr>\n",
       "    <tr>\n",
       "      <th>58430</th>\n",
       "      <td></td>\n",
       "      <td>NaN</td>\n",
       "      <td></td>\n",
       "      <td>440</td>\n",
       "      <td>No ratings yet</td>\n",
       "      <td>True</td>\n",
       "      <td>so much fun :D</td>\n",
       "      <td>LydiaMorley</td>\n",
       "      <td>http://steamcommunity.com/id/LydiaMorley</td>\n",
       "    </tr>\n",
       "  </tbody>\n",
       "</table>\n",
       "<p>58431 rows × 9 columns</p>\n",
       "</div>"
      ],
      "text/plain": [
       "                                  funny posted last_edited item_id  \\\n",
       "0                                         2011                1250   \n",
       "1                                         2011               22200   \n",
       "2                                         2011               43110   \n",
       "3                                         2014              251610   \n",
       "4                                         2013              227300   \n",
       "...                                 ...    ...         ...     ...   \n",
       "58426                                      NaN                  70   \n",
       "58427                                      NaN              362890   \n",
       "58428  1 person found this review funny    NaN              273110   \n",
       "58429                                      NaN                 730   \n",
       "58430                                      NaN                 440   \n",
       "\n",
       "                                               helpful  recommend  \\\n",
       "0                                       No ratings yet       True   \n",
       "1                                       No ratings yet       True   \n",
       "2                                       No ratings yet       True   \n",
       "3      15 of 20 people (75%) found this review helpful       True   \n",
       "4         0 of 1 people (0%) found this review helpful       True   \n",
       "...                                                ...        ...   \n",
       "58426                                   No ratings yet       True   \n",
       "58427                                   No ratings yet       True   \n",
       "58428    1 of 2 people (50%) found this review helpful       True   \n",
       "58429                                   No ratings yet       True   \n",
       "58430                                   No ratings yet       True   \n",
       "\n",
       "                                                  review            user_id  \\\n",
       "0      Simple yet with great replayability. In my opi...  76561197970982479   \n",
       "1                   It's unique and worth a playthrough.  76561197970982479   \n",
       "2      Great atmosphere. The gunplay can be a bit chu...  76561197970982479   \n",
       "3      I know what you think when you see this title ...            js41637   \n",
       "4      For a simple (it's actually not all that simpl...            js41637   \n",
       "...                                                  ...                ...   \n",
       "58426  a must have classic from steam definitely wort...  76561198312638244   \n",
       "58427  this game is a perfect remake of the original ...  76561198312638244   \n",
       "58428  had so much fun plaing this and collecting res...        LydiaMorley   \n",
       "58429                                                 :D        LydiaMorley   \n",
       "58430                                     so much fun :D        LydiaMorley   \n",
       "\n",
       "                                                user_url  \n",
       "0      http://steamcommunity.com/profiles/76561197970...  \n",
       "1      http://steamcommunity.com/profiles/76561197970...  \n",
       "2      http://steamcommunity.com/profiles/76561197970...  \n",
       "3                   http://steamcommunity.com/id/js41637  \n",
       "4                   http://steamcommunity.com/id/js41637  \n",
       "...                                                  ...  \n",
       "58426  http://steamcommunity.com/profiles/76561198312...  \n",
       "58427  http://steamcommunity.com/profiles/76561198312...  \n",
       "58428           http://steamcommunity.com/id/LydiaMorley  \n",
       "58429           http://steamcommunity.com/id/LydiaMorley  \n",
       "58430           http://steamcommunity.com/id/LydiaMorley  \n",
       "\n",
       "[58431 rows x 9 columns]"
      ]
     },
     "execution_count": 99,
     "metadata": {},
     "output_type": "execute_result"
    }
   ],
   "source": [
    "user_reviews"
   ]
  },
  {
   "cell_type": "code",
   "execution_count": 100,
   "metadata": {},
   "outputs": [
    {
     "data": {
      "text/plain": [
       "array(['2011', '2014', '2013', nan, '2015', '2012', '2010'], dtype=object)"
      ]
     },
     "execution_count": 100,
     "metadata": {},
     "output_type": "execute_result"
    }
   ],
   "source": [
    "user_reviews['posted'].unique()"
   ]
  },
  {
   "cell_type": "markdown",
   "metadata": {},
   "source": [
    "Guardamos el DataFrame 'user_reviews', en un archivo csv:"
   ]
  },
  {
   "cell_type": "code",
   "execution_count": 101,
   "metadata": {},
   "outputs": [],
   "source": [
    "user_reviews.to_csv('../user_reviews_limpio.csv', encoding= 'utf-8', index= False)"
   ]
  },
  {
   "cell_type": "markdown",
   "metadata": {},
   "source": [
    "El DataFrame 'user_items', no requiere de ninguna otra modificación, asique procedemos a guardarlo:"
   ]
  },
  {
   "cell_type": "code",
   "execution_count": 102,
   "metadata": {},
   "outputs": [],
   "source": [
    "user_items.to_csv('../user_items_limpio.csv', encoding= 'utf-8', index= False)"
   ]
  }
 ],
 "metadata": {
  "kernelspec": {
   "display_name": "Python 3",
   "language": "python",
   "name": "python3"
  },
  "language_info": {
   "codemirror_mode": {
    "name": "ipython",
    "version": 3
   },
   "file_extension": ".py",
   "mimetype": "text/x-python",
   "name": "python",
   "nbconvert_exporter": "python",
   "pygments_lexer": "ipython3",
   "version": "3.11.3"
  }
 },
 "nbformat": 4,
 "nbformat_minor": 2
}
