{
 "cells": [
  {
   "cell_type": "markdown",
   "metadata": {},
   "source": [
    "## Feature Engineering"
   ]
  },
  {
   "cell_type": "markdown",
   "metadata": {},
   "source": [
    "En esta etapa del proyecto, se prepararan los conjuntos datos necesarios para las funciones."
   ]
  },
  {
   "cell_type": "markdown",
   "metadata": {},
   "source": [
    "#### Importación de librerias necesarias:"
   ]
  },
  {
   "cell_type": "code",
   "execution_count": 105,
   "metadata": {},
   "outputs": [],
   "source": [
    "import pandas as pd\n",
    "import numpy as np\n",
    "from textblob import TextBlob"
   ]
  },
  {
   "cell_type": "markdown",
   "metadata": {},
   "source": [
    "#### Lectura de los datasets modificados durante la etapa de ETL:"
   ]
  },
  {
   "cell_type": "code",
   "execution_count": 106,
   "metadata": {},
   "outputs": [],
   "source": [
    "steam_games = pd.read_csv('../steam_games_limpio.csv')\n",
    "\n",
    "user_reviews = pd.read_csv('../user_reviews_limpio.csv')\n",
    "\n",
    "user_items = pd.read_csv('../user_items_limpio.csv')"
   ]
  },
  {
   "cell_type": "markdown",
   "metadata": {},
   "source": [
    "### Sentiment Analysis"
   ]
  },
  {
   "cell_type": "markdown",
   "metadata": {},
   "source": [
    "Creación de una nueva categoria en el dataset **user_reviews**, utilizando el analisis de sentimientos a traves de procesamiento de lenguaje natural. Esto asignara etiquetas a las opiniones siguiendo el siguiente patron:\n",
    "- 0 : Se aplicara a opiniones consideradas negativas.\n",
    "- 1 : Se aplicara a opiniones consideradas neutras.\n",
    "- 2 : Se aplicara a opiniones consideradas positivas.\n",
    "\n",
    "En casos donde no sea posible determinar la clasificación debido a la falta de reseña, se utilizara la etiqueta **1** (neutra)."
   ]
  },
  {
   "cell_type": "code",
   "execution_count": 107,
   "metadata": {},
   "outputs": [
    {
     "name": "stdout",
     "output_type": "stream",
     "text": [
      "<class 'pandas.core.frame.DataFrame'>\n",
      "RangeIndex: 58431 entries, 0 to 58430\n",
      "Data columns (total 9 columns):\n",
      " #   Column       Non-Null Count  Dtype  \n",
      "---  ------       --------------  -----  \n",
      " 0   funny        8010 non-null   object \n",
      " 1   posted       48498 non-null  float64\n",
      " 2   last_edited  6037 non-null   object \n",
      " 3   item_id      58431 non-null  int64  \n",
      " 4   helpful      58431 non-null  object \n",
      " 5   recommend    58431 non-null  bool   \n",
      " 6   review       58401 non-null  object \n",
      " 7   user_id      58431 non-null  object \n",
      " 8   user_url     58431 non-null  object \n",
      "dtypes: bool(1), float64(1), int64(1), object(6)\n",
      "memory usage: 3.6+ MB\n"
     ]
    }
   ],
   "source": [
    "user_reviews.info()"
   ]
  },
  {
   "cell_type": "markdown",
   "metadata": {},
   "source": [
    "Modificación del tipo de dato de la columna **reviews** a string:"
   ]
  },
  {
   "cell_type": "code",
   "execution_count": 108,
   "metadata": {},
   "outputs": [],
   "source": [
    "user_reviews['review'] = user_reviews['review'].astype(str)"
   ]
  },
  {
   "cell_type": "markdown",
   "metadata": {},
   "source": [
    "Verificación:"
   ]
  },
  {
   "cell_type": "code",
   "execution_count": 109,
   "metadata": {},
   "outputs": [
    {
     "data": {
      "text/plain": [
       "str"
      ]
     },
     "execution_count": 109,
     "metadata": {},
     "output_type": "execute_result"
    }
   ],
   "source": [
    "type(user_reviews['review'][0])"
   ]
  },
  {
   "cell_type": "markdown",
   "metadata": {},
   "source": [
    "Creación de la función para poder analizar la columna **review**:"
   ]
  },
  {
   "cell_type": "code",
   "execution_count": 110,
   "metadata": {},
   "outputs": [],
   "source": [
    "def analizar_sentimiento(opinion):\n",
    "\n",
    "    if isinstance(opinion, str) and len(opinion) > 0:\n",
    "\n",
    "        analysis = TextBlob(opinion)\n",
    "        \n",
    "        sentiment = analysis.sentiment.polarity\n",
    "\n",
    "        if sentiment < -0.1:\n",
    "            return 0  \n",
    "        \n",
    "        elif sentiment > 0.1:\n",
    "            return 2 \n",
    "        \n",
    "        else:\n",
    "            return 1 \n",
    "        \n",
    "    else:\n",
    "        return 1  "
   ]
  },
  {
   "cell_type": "code",
   "execution_count": 111,
   "metadata": {},
   "outputs": [],
   "source": [
    "user_reviews['sentiment_analysis'] = user_reviews['review'].apply(analizar_sentimiento)"
   ]
  },
  {
   "cell_type": "code",
   "execution_count": 112,
   "metadata": {},
   "outputs": [],
   "source": [
    "user_reviews.to_csv('../sentiment_analysis.csv', index=False)"
   ]
  },
  {
   "cell_type": "markdown",
   "metadata": {},
   "source": [
    "Controlamos que el analisis sea el correcto:"
   ]
  },
  {
   "cell_type": "code",
   "execution_count": 113,
   "metadata": {},
   "outputs": [
    {
     "data": {
      "text/plain": [
       "'I know what you think when you see this title \"Barbie Dreamhouse Party\" but do not be intimidated by it\\'s title, this is easily one of my GOTYs. You don\\'t get any of that cliche game mechanics that all the latest games have, this is simply good core gameplay. Yes, you can\\'t 360 noscope your friends, but what you can do is show them up with your bad ♥♥♥ dance moves and put them to shame as you show them what true fashion and color combinations are.I know this game says for kids but, this is easily for any age range and any age will have a blast playing this.8/8'"
      ]
     },
     "execution_count": 113,
     "metadata": {},
     "output_type": "execute_result"
    }
   ],
   "source": [
    "user_reviews['review'][3]"
   ]
  },
  {
   "cell_type": "code",
   "execution_count": 114,
   "metadata": {},
   "outputs": [
    {
     "data": {
      "text/plain": [
       "2"
      ]
     },
     "execution_count": 114,
     "metadata": {},
     "output_type": "execute_result"
    }
   ],
   "source": [
    "user_reviews['sentiment_analysis'][3]"
   ]
  },
  {
   "cell_type": "markdown",
   "metadata": {},
   "source": [
    "Eliminamos la columna **review**, ya que esta sera reemplazada por la columna **sentiment_analysis** para facilitar el trabajo de los modelos de Machine Learning y el analisis de datos:"
   ]
  },
  {
   "cell_type": "code",
   "execution_count": 115,
   "metadata": {},
   "outputs": [],
   "source": [
    "user_reviews = user_reviews.drop(columns = 'review')"
   ]
  },
  {
   "cell_type": "markdown",
   "metadata": {},
   "source": [
    "## Creación de funciones"
   ]
  },
  {
   "cell_type": "markdown",
   "metadata": {},
   "source": [
    "Ahora, crearemos las funciones para los endpoints que se consumirán en la API"
   ]
  },
  {
   "cell_type": "markdown",
   "metadata": {},
   "source": [
    "#### Función **PlayTimeGenre**"
   ]
  },
  {
   "cell_type": "markdown",
   "metadata": {},
   "source": [
    "*def PlayTimeGenre(genero: str):* Debe devolver año con más horas jugadas para dicho género.\n",
    "\n",
    "Ejemplo de retorno: {\"Año de lanzamiento con más horas jugadas para Género X\" : 2013}"
   ]
  },
  {
   "cell_type": "markdown",
   "metadata": {},
   "source": [
    "Cambiamos el nombre del DataFrame **steam_games**, ya que luego usaremos esa columna para hacer merge."
   ]
  },
  {
   "cell_type": "code",
   "execution_count": 116,
   "metadata": {},
   "outputs": [],
   "source": [
    "steam_games = steam_games.rename(columns={'id': 'item_id'})"
   ]
  },
  {
   "cell_type": "markdown",
   "metadata": {},
   "source": [
    "Se extraen las columnas necesarias del DataFrame **steam_games**, estas son:\n",
    "- genres\n",
    "- release_year\n",
    "- item_id"
   ]
  },
  {
   "cell_type": "code",
   "execution_count": 117,
   "metadata": {},
   "outputs": [],
   "source": [
    "games = steam_games[['genres', 'release_year', 'item_id']]"
   ]
  },
  {
   "cell_type": "markdown",
   "metadata": {},
   "source": [
    "Se extraen las columnas necesarias del DataFrame **user_items**, estas son:\n",
    "- item_id\n",
    "- playtime_forever"
   ]
  },
  {
   "cell_type": "code",
   "execution_count": 118,
   "metadata": {},
   "outputs": [],
   "source": [
    "items = user_items[['item_id', 'playtime_forever']]"
   ]
  },
  {
   "cell_type": "markdown",
   "metadata": {},
   "source": [
    "Combinamos los DataFrames para formar uno nuevo con las columnas necesarias para esta función."
   ]
  },
  {
   "cell_type": "code",
   "execution_count": 119,
   "metadata": {},
   "outputs": [],
   "source": [
    "items_games = games.merge(items, on=\"item_id\")"
   ]
  },
  {
   "cell_type": "markdown",
   "metadata": {},
   "source": [
    "Eliminamos la columna **item_id**, ya que no es necesaria para nuestra función. Solo utilizamos esta columna para realizar la combinación."
   ]
  },
  {
   "cell_type": "code",
   "execution_count": 120,
   "metadata": {},
   "outputs": [],
   "source": [
    "items_games = items_games.drop(columns = 'item_id')"
   ]
  },
  {
   "cell_type": "markdown",
   "metadata": {},
   "source": [
    "Volvemos a revisar los tipos de datos para saber como trabajarlos en nuestra función:"
   ]
  },
  {
   "cell_type": "code",
   "execution_count": 121,
   "metadata": {},
   "outputs": [
    {
     "data": {
      "text/html": [
       "<div>\n",
       "<style scoped>\n",
       "    .dataframe tbody tr th:only-of-type {\n",
       "        vertical-align: middle;\n",
       "    }\n",
       "\n",
       "    .dataframe tbody tr th {\n",
       "        vertical-align: top;\n",
       "    }\n",
       "\n",
       "    .dataframe thead th {\n",
       "        text-align: right;\n",
       "    }\n",
       "</style>\n",
       "<table border=\"1\" class=\"dataframe\">\n",
       "  <thead>\n",
       "    <tr style=\"text-align: right;\">\n",
       "      <th></th>\n",
       "      <th>genres</th>\n",
       "      <th>release_year</th>\n",
       "      <th>playtime_forever</th>\n",
       "    </tr>\n",
       "  </thead>\n",
       "  <tbody>\n",
       "    <tr>\n",
       "      <th>0</th>\n",
       "      <td>Action</td>\n",
       "      <td>1997.0</td>\n",
       "      <td>5</td>\n",
       "    </tr>\n",
       "    <tr>\n",
       "      <th>1</th>\n",
       "      <td>Action</td>\n",
       "      <td>1997.0</td>\n",
       "      <td>0</td>\n",
       "    </tr>\n",
       "    <tr>\n",
       "      <th>2</th>\n",
       "      <td>Action</td>\n",
       "      <td>1997.0</td>\n",
       "      <td>0</td>\n",
       "    </tr>\n",
       "    <tr>\n",
       "      <th>3</th>\n",
       "      <td>Action</td>\n",
       "      <td>1997.0</td>\n",
       "      <td>0</td>\n",
       "    </tr>\n",
       "    <tr>\n",
       "      <th>4</th>\n",
       "      <td>Action</td>\n",
       "      <td>1997.0</td>\n",
       "      <td>13</td>\n",
       "    </tr>\n",
       "    <tr>\n",
       "      <th>...</th>\n",
       "      <td>...</td>\n",
       "      <td>...</td>\n",
       "      <td>...</td>\n",
       "    </tr>\n",
       "    <tr>\n",
       "      <th>9965682</th>\n",
       "      <td>Action</td>\n",
       "      <td>2004.0</td>\n",
       "      <td>0</td>\n",
       "    </tr>\n",
       "    <tr>\n",
       "      <th>9965683</th>\n",
       "      <td>Action</td>\n",
       "      <td>2004.0</td>\n",
       "      <td>0</td>\n",
       "    </tr>\n",
       "    <tr>\n",
       "      <th>9965684</th>\n",
       "      <td>Action</td>\n",
       "      <td>2004.0</td>\n",
       "      <td>0</td>\n",
       "    </tr>\n",
       "    <tr>\n",
       "      <th>9965685</th>\n",
       "      <td>Action</td>\n",
       "      <td>2004.0</td>\n",
       "      <td>9</td>\n",
       "    </tr>\n",
       "    <tr>\n",
       "      <th>9965686</th>\n",
       "      <td>Action</td>\n",
       "      <td>2004.0</td>\n",
       "      <td>99</td>\n",
       "    </tr>\n",
       "  </tbody>\n",
       "</table>\n",
       "<p>9965687 rows × 3 columns</p>\n",
       "</div>"
      ],
      "text/plain": [
       "         genres  release_year  playtime_forever\n",
       "0        Action        1997.0                 5\n",
       "1        Action        1997.0                 0\n",
       "2        Action        1997.0                 0\n",
       "3        Action        1997.0                 0\n",
       "4        Action        1997.0                13\n",
       "...         ...           ...               ...\n",
       "9965682  Action        2004.0                 0\n",
       "9965683  Action        2004.0                 0\n",
       "9965684  Action        2004.0                 0\n",
       "9965685  Action        2004.0                 9\n",
       "9965686  Action        2004.0                99\n",
       "\n",
       "[9965687 rows x 3 columns]"
      ]
     },
     "execution_count": 121,
     "metadata": {},
     "output_type": "execute_result"
    }
   ],
   "source": [
    "items_games"
   ]
  },
  {
   "cell_type": "code",
   "execution_count": 122,
   "metadata": {},
   "outputs": [],
   "source": [
    "items_games['genres'] = items_games['genres'].astype(str)"
   ]
  },
  {
   "cell_type": "markdown",
   "metadata": {},
   "source": [
    "Creamos el archivo del DataFrame en formato parquet:"
   ]
  },
  {
   "cell_type": "code",
   "execution_count": 123,
   "metadata": {},
   "outputs": [],
   "source": [
    "items_games.to_parquet('Data/df_funcion_1.parquet')"
   ]
  },
  {
   "cell_type": "code",
   "execution_count": 124,
   "metadata": {},
   "outputs": [],
   "source": [
    "def PlayTimeGenre(genero):\n",
    "    # Filtra los datos por género\n",
    "    genre_data = items_games[items_games['genres'].str.contains(genero, case=False, na=False)]\n",
    "\n",
    "    # Agrupa por año y suma las horas jugadas\n",
    "    genre_by_year = genre_data.groupby('release_year')['playtime_forever'].sum().reset_index()\n",
    "\n",
    "    # Encuentra el año con más horas jugadas\n",
    "    year_with_most_playtime = genre_by_year.loc[genre_by_year['playtime_forever'].idxmax()]\n",
    "\n",
    "    return {\"Año de lanzamiento con más horas jugadas para \" + genero: int(year_with_most_playtime['release_year'])}\n"
   ]
  },
  {
   "cell_type": "code",
   "execution_count": 125,
   "metadata": {},
   "outputs": [
    {
     "data": {
      "text/plain": [
       "{'Año de lanzamiento con más horas jugadas para Action': 2012}"
      ]
     },
     "execution_count": 125,
     "metadata": {},
     "output_type": "execute_result"
    }
   ],
   "source": [
    "PlayTimeGenre('Action')\n"
   ]
  },
  {
   "cell_type": "markdown",
   "metadata": {},
   "source": [
    "#### Función **UserForGenre**"
   ]
  },
  {
   "cell_type": "markdown",
   "metadata": {},
   "source": [
    "*def UserForGenre(genero: str):* Debe devolver el usuario que acumula más horas jugadas para el género dado y una lista de la acumulación de horas jugadas por año.\n",
    "\n",
    "Ejemplo de retorno: {\"Usuario con más horas jugadas para Género X\" : us213ndjss09sdf, \"Horas jugadas\":[{Año: 2013, Horas: 203}, {Año: 2012, Horas: 100}, {Año: 2011, Horas : 23}]}"
   ]
  },
  {
   "cell_type": "markdown",
   "metadata": {},
   "source": [
    "Se extraen las columnas necesarias del DataFrame **steam_games**, estas son:\n",
    "- genres \n",
    "- item_id"
   ]
  },
  {
   "cell_type": "code",
   "execution_count": 126,
   "metadata": {},
   "outputs": [],
   "source": [
    "generos = steam_games[['genres', 'release_year', 'item_id']]"
   ]
  },
  {
   "cell_type": "markdown",
   "metadata": {},
   "source": [
    "Se extraen las columnas necesarias del DataFrame **user_items**, estas son:\n",
    "- user_id \n",
    "- playtime_forever\n",
    "- item_id"
   ]
  },
  {
   "cell_type": "code",
   "execution_count": 127,
   "metadata": {},
   "outputs": [],
   "source": [
    "usuarios = user_items[['user_id', 'playtime_forever', 'item_id']]"
   ]
  },
  {
   "cell_type": "markdown",
   "metadata": {},
   "source": [
    "Combinamos los DataFrames para formar uno nuevo con las columnas necesarias para esta función."
   ]
  },
  {
   "cell_type": "code",
   "execution_count": 128,
   "metadata": {},
   "outputs": [],
   "source": [
    "df_funcion_2 = generos.merge(usuarios, on=\"item_id\")"
   ]
  },
  {
   "cell_type": "code",
   "execution_count": 129,
   "metadata": {},
   "outputs": [
    {
     "data": {
      "text/html": [
       "<div>\n",
       "<style scoped>\n",
       "    .dataframe tbody tr th:only-of-type {\n",
       "        vertical-align: middle;\n",
       "    }\n",
       "\n",
       "    .dataframe tbody tr th {\n",
       "        vertical-align: top;\n",
       "    }\n",
       "\n",
       "    .dataframe thead th {\n",
       "        text-align: right;\n",
       "    }\n",
       "</style>\n",
       "<table border=\"1\" class=\"dataframe\">\n",
       "  <thead>\n",
       "    <tr style=\"text-align: right;\">\n",
       "      <th></th>\n",
       "      <th>genres</th>\n",
       "      <th>release_year</th>\n",
       "      <th>item_id</th>\n",
       "      <th>user_id</th>\n",
       "      <th>playtime_forever</th>\n",
       "    </tr>\n",
       "  </thead>\n",
       "  <tbody>\n",
       "    <tr>\n",
       "      <th>0</th>\n",
       "      <td>Action</td>\n",
       "      <td>1997.0</td>\n",
       "      <td>282010.0</td>\n",
       "      <td>UTNerd24</td>\n",
       "      <td>5</td>\n",
       "    </tr>\n",
       "    <tr>\n",
       "      <th>1</th>\n",
       "      <td>Action</td>\n",
       "      <td>1997.0</td>\n",
       "      <td>282010.0</td>\n",
       "      <td>I_DID_911_JUST_SAYING</td>\n",
       "      <td>0</td>\n",
       "    </tr>\n",
       "    <tr>\n",
       "      <th>2</th>\n",
       "      <td>Action</td>\n",
       "      <td>1997.0</td>\n",
       "      <td>282010.0</td>\n",
       "      <td>76561197962104795</td>\n",
       "      <td>0</td>\n",
       "    </tr>\n",
       "    <tr>\n",
       "      <th>3</th>\n",
       "      <td>Action</td>\n",
       "      <td>1997.0</td>\n",
       "      <td>282010.0</td>\n",
       "      <td>r3ap3r78</td>\n",
       "      <td>0</td>\n",
       "    </tr>\n",
       "    <tr>\n",
       "      <th>4</th>\n",
       "      <td>Action</td>\n",
       "      <td>1997.0</td>\n",
       "      <td>282010.0</td>\n",
       "      <td>saint556</td>\n",
       "      <td>13</td>\n",
       "    </tr>\n",
       "    <tr>\n",
       "      <th>...</th>\n",
       "      <td>...</td>\n",
       "      <td>...</td>\n",
       "      <td>...</td>\n",
       "      <td>...</td>\n",
       "      <td>...</td>\n",
       "    </tr>\n",
       "    <tr>\n",
       "      <th>9965682</th>\n",
       "      <td>Action</td>\n",
       "      <td>2004.0</td>\n",
       "      <td>80.0</td>\n",
       "      <td>76561198273508956</td>\n",
       "      <td>0</td>\n",
       "    </tr>\n",
       "    <tr>\n",
       "      <th>9965683</th>\n",
       "      <td>Action</td>\n",
       "      <td>2004.0</td>\n",
       "      <td>80.0</td>\n",
       "      <td>76561198282090798</td>\n",
       "      <td>0</td>\n",
       "    </tr>\n",
       "    <tr>\n",
       "      <th>9965684</th>\n",
       "      <td>Action</td>\n",
       "      <td>2004.0</td>\n",
       "      <td>80.0</td>\n",
       "      <td>943525</td>\n",
       "      <td>0</td>\n",
       "    </tr>\n",
       "    <tr>\n",
       "      <th>9965685</th>\n",
       "      <td>Action</td>\n",
       "      <td>2004.0</td>\n",
       "      <td>80.0</td>\n",
       "      <td>76561198283312749</td>\n",
       "      <td>9</td>\n",
       "    </tr>\n",
       "    <tr>\n",
       "      <th>9965686</th>\n",
       "      <td>Action</td>\n",
       "      <td>2004.0</td>\n",
       "      <td>80.0</td>\n",
       "      <td>76561198312638244</td>\n",
       "      <td>99</td>\n",
       "    </tr>\n",
       "  </tbody>\n",
       "</table>\n",
       "<p>9965687 rows × 5 columns</p>\n",
       "</div>"
      ],
      "text/plain": [
       "         genres  release_year   item_id                user_id  \\\n",
       "0        Action        1997.0  282010.0               UTNerd24   \n",
       "1        Action        1997.0  282010.0  I_DID_911_JUST_SAYING   \n",
       "2        Action        1997.0  282010.0      76561197962104795   \n",
       "3        Action        1997.0  282010.0               r3ap3r78   \n",
       "4        Action        1997.0  282010.0               saint556   \n",
       "...         ...           ...       ...                    ...   \n",
       "9965682  Action        2004.0      80.0      76561198273508956   \n",
       "9965683  Action        2004.0      80.0      76561198282090798   \n",
       "9965684  Action        2004.0      80.0                 943525   \n",
       "9965685  Action        2004.0      80.0      76561198283312749   \n",
       "9965686  Action        2004.0      80.0      76561198312638244   \n",
       "\n",
       "         playtime_forever  \n",
       "0                       5  \n",
       "1                       0  \n",
       "2                       0  \n",
       "3                       0  \n",
       "4                      13  \n",
       "...                   ...  \n",
       "9965682                 0  \n",
       "9965683                 0  \n",
       "9965684                 0  \n",
       "9965685                 9  \n",
       "9965686                99  \n",
       "\n",
       "[9965687 rows x 5 columns]"
      ]
     },
     "execution_count": 129,
     "metadata": {},
     "output_type": "execute_result"
    }
   ],
   "source": [
    "df_funcion_2"
   ]
  },
  {
   "cell_type": "markdown",
   "metadata": {},
   "source": [
    "Eliminamos la columna **item_id**, ya que no es necesaria para nuestra función. Solo utilizamos esta columna para realizar la combinación."
   ]
  },
  {
   "cell_type": "code",
   "execution_count": 130,
   "metadata": {},
   "outputs": [],
   "source": [
    "df_funcion_2 = df_funcion_2.drop(columns= 'item_id')"
   ]
  },
  {
   "cell_type": "markdown",
   "metadata": {},
   "source": [
    "Eliminamos los valores nulos de la columna **release_year**"
   ]
  },
  {
   "cell_type": "code",
   "execution_count": 131,
   "metadata": {},
   "outputs": [],
   "source": [
    "df_funcion_2.dropna(subset=['release_year'], inplace=True)"
   ]
  },
  {
   "cell_type": "markdown",
   "metadata": {},
   "source": [
    "Verificamos que hayan sido eliminados viendo valores unicos:"
   ]
  },
  {
   "cell_type": "code",
   "execution_count": 132,
   "metadata": {},
   "outputs": [
    {
     "data": {
      "text/plain": [
       "array([1997., 1998., 2006., 2005., 2003., 2007., 2002., 2000., 1995.,\n",
       "       1996., 1994., 2001., 1993., 2004., 1999., 2008., 2009., 1992.,\n",
       "       1989., 2010., 2011., 2013., 2012., 2014., 2017., 1983., 1984.,\n",
       "       2015., 2016., 1990., 1988., 1991., 1987., 2018.])"
      ]
     },
     "execution_count": 132,
     "metadata": {},
     "output_type": "execute_result"
    }
   ],
   "source": [
    "df_funcion_2['release_year'].unique()"
   ]
  },
  {
   "cell_type": "markdown",
   "metadata": {},
   "source": [
    "Creamos el archivo del DataFrame en formato parquet:"
   ]
  },
  {
   "cell_type": "code",
   "execution_count": 133,
   "metadata": {},
   "outputs": [],
   "source": [
    "df_funcion_2.to_parquet('Data/df_funcion_2.parquet')"
   ]
  },
  {
   "cell_type": "code",
   "execution_count": 134,
   "metadata": {},
   "outputs": [],
   "source": [
    "def UserForGenre(genero):\n",
    "\n",
    "    # Filtramos los datos de acuerdo al genero\n",
    "    data_genero = df_funcion_2[df_funcion_2['genres'].str.contains(genero, case=False, na=False)]\n",
    "\n",
    "    if data_genero.empty:\n",
    "        return {\"message\": \"No hay datos disponibles para el género especificado.\"}\n",
    "\n",
    "    # Agrupamos por usuario y sumamos el total de horas jugadas.\n",
    "    horas_jugadas_usuario = data_genero.groupby('user_id')['playtime_forever'].sum().reset_index()\n",
    "\n",
    "    # Encuentramos el usuario con mayor cantidad horas jugadas.\n",
    "    user_with_most_playtime = horas_jugadas_usuario.loc[horas_jugadas_usuario['playtime_forever'].idxmax()]\n",
    "\n",
    "    # Filtramos los datos por usuario, y calculamos la acumulación de horas jugadas por año.\n",
    "    user_data = data_genero[data_genero['user_id'] == user_with_most_playtime['user_id']]\n",
    "    playtime_by_year = user_data.groupby('release_year')['playtime_forever'].sum().reset_index()\n",
    "\n",
    "    # Convertimos los datos a un formato de lista de diccionarios y cambiamos los nombres de las claves, para darle el formato de salida esperado.\n",
    "    playtime_by_year_list = playtime_by_year.rename(columns={'release_year': 'Año', 'playtime_forever': 'Horas'}).to_dict(orient='records')\n",
    "\n",
    "    result = {\n",
    "        \"Usuario con más horas jugadas para \" + genero: user_with_most_playtime['user_id'],\n",
    "        \"Horas jugadas\": playtime_by_year_list\n",
    "    }\n",
    "\n",
    "    return result"
   ]
  },
  {
   "cell_type": "markdown",
   "metadata": {},
   "source": [
    "Probamos la función:"
   ]
  },
  {
   "cell_type": "code",
   "execution_count": 135,
   "metadata": {},
   "outputs": [
    {
     "data": {
      "text/plain": [
       "{'Usuario con más horas jugadas para Indie': 'REBAS_AS_F-T',\n",
       " 'Horas jugadas': [{'Año': 1999.0, 'Horas': 0},\n",
       "  {'Año': 2001.0, 'Horas': 11},\n",
       "  {'Año': 2003.0, 'Horas': 1863},\n",
       "  {'Año': 2005.0, 'Horas': 0},\n",
       "  {'Año': 2006.0, 'Horas': 1673},\n",
       "  {'Año': 2007.0, 'Horas': 1070},\n",
       "  {'Año': 2008.0, 'Horas': 1366},\n",
       "  {'Año': 2009.0, 'Horas': 28993},\n",
       "  {'Año': 2010.0, 'Horas': 21487},\n",
       "  {'Año': 2011.0, 'Horas': 100155},\n",
       "  {'Año': 2012.0, 'Horas': 148459},\n",
       "  {'Año': 2013.0, 'Horas': 169349},\n",
       "  {'Año': 2014.0, 'Horas': 326927},\n",
       "  {'Año': 2015.0, 'Horas': 751765},\n",
       "  {'Año': 2016.0, 'Horas': 815989},\n",
       "  {'Año': 2017.0, 'Horas': 33887}]}"
      ]
     },
     "execution_count": 135,
     "metadata": {},
     "output_type": "execute_result"
    }
   ],
   "source": [
    "UserForGenre('Indie')"
   ]
  },
  {
   "cell_type": "markdown",
   "metadata": {},
   "source": [
    "#### Función **UsersRemmend**"
   ]
  },
  {
   "cell_type": "markdown",
   "metadata": {},
   "source": [
    "*def UsersRecommend(año: int):* Devuelve el top 3 de juegos MÁS recomendados por usuarios para el año dado. (reviews.recommend = True y comentarios positivos/neutrales)\n",
    "\n",
    "Ejemplo de retorno: [{\"Puesto 1\" : X}, {\"Puesto 2\" : Y},{\"Puesto 3\" : Z}]"
   ]
  },
  {
   "cell_type": "markdown",
   "metadata": {},
   "source": [
    "Se extraen las columnas necesarias del DataFrame **user_reviews**, estas son:\n",
    "- posted\n",
    "- recommend\n",
    "- sentiment_analysis\n",
    "- item_id"
   ]
  },
  {
   "cell_type": "code",
   "execution_count": 136,
   "metadata": {},
   "outputs": [],
   "source": [
    "reviews = user_reviews[['posted', 'recommend', 'sentiment_analysis', 'item_id']]"
   ]
  },
  {
   "cell_type": "markdown",
   "metadata": {},
   "source": [
    "Se extraen las columnas necesarias del DataFrame **steam_games**, estas son:\n",
    "- app_name\n",
    "- item_id"
   ]
  },
  {
   "cell_type": "code",
   "execution_count": 137,
   "metadata": {},
   "outputs": [
    {
     "data": {
      "text/html": [
       "<div>\n",
       "<style scoped>\n",
       "    .dataframe tbody tr th:only-of-type {\n",
       "        vertical-align: middle;\n",
       "    }\n",
       "\n",
       "    .dataframe tbody tr th {\n",
       "        vertical-align: top;\n",
       "    }\n",
       "\n",
       "    .dataframe thead th {\n",
       "        text-align: right;\n",
       "    }\n",
       "</style>\n",
       "<table border=\"1\" class=\"dataframe\">\n",
       "  <thead>\n",
       "    <tr style=\"text-align: right;\">\n",
       "      <th></th>\n",
       "      <th>genres</th>\n",
       "      <th>release_year</th>\n",
       "      <th>item_id</th>\n",
       "    </tr>\n",
       "  </thead>\n",
       "  <tbody>\n",
       "    <tr>\n",
       "      <th>0</th>\n",
       "      <td>Action</td>\n",
       "      <td>2018.0</td>\n",
       "      <td>761140.0</td>\n",
       "    </tr>\n",
       "    <tr>\n",
       "      <th>1</th>\n",
       "      <td>Casual</td>\n",
       "      <td>2018.0</td>\n",
       "      <td>761140.0</td>\n",
       "    </tr>\n",
       "    <tr>\n",
       "      <th>2</th>\n",
       "      <td>Indie</td>\n",
       "      <td>2018.0</td>\n",
       "      <td>761140.0</td>\n",
       "    </tr>\n",
       "    <tr>\n",
       "      <th>3</th>\n",
       "      <td>Simulation</td>\n",
       "      <td>2018.0</td>\n",
       "      <td>761140.0</td>\n",
       "    </tr>\n",
       "    <tr>\n",
       "      <th>4</th>\n",
       "      <td>Strategy</td>\n",
       "      <td>2018.0</td>\n",
       "      <td>761140.0</td>\n",
       "    </tr>\n",
       "    <tr>\n",
       "      <th>...</th>\n",
       "      <td>...</td>\n",
       "      <td>...</td>\n",
       "      <td>...</td>\n",
       "    </tr>\n",
       "    <tr>\n",
       "      <th>74829</th>\n",
       "      <td>Racing</td>\n",
       "      <td>2018.0</td>\n",
       "      <td>610660.0</td>\n",
       "    </tr>\n",
       "    <tr>\n",
       "      <th>74830</th>\n",
       "      <td>Simulation</td>\n",
       "      <td>2018.0</td>\n",
       "      <td>610660.0</td>\n",
       "    </tr>\n",
       "    <tr>\n",
       "      <th>74831</th>\n",
       "      <td>Casual</td>\n",
       "      <td>2017.0</td>\n",
       "      <td>658870.0</td>\n",
       "    </tr>\n",
       "    <tr>\n",
       "      <th>74832</th>\n",
       "      <td>Indie</td>\n",
       "      <td>2017.0</td>\n",
       "      <td>658870.0</td>\n",
       "    </tr>\n",
       "    <tr>\n",
       "      <th>74833</th>\n",
       "      <td>NaN</td>\n",
       "      <td>NaN</td>\n",
       "      <td>681550.0</td>\n",
       "    </tr>\n",
       "  </tbody>\n",
       "</table>\n",
       "<p>74834 rows × 3 columns</p>\n",
       "</div>"
      ],
      "text/plain": [
       "           genres  release_year   item_id\n",
       "0          Action        2018.0  761140.0\n",
       "1          Casual        2018.0  761140.0\n",
       "2           Indie        2018.0  761140.0\n",
       "3      Simulation        2018.0  761140.0\n",
       "4        Strategy        2018.0  761140.0\n",
       "...           ...           ...       ...\n",
       "74829      Racing        2018.0  610660.0\n",
       "74830  Simulation        2018.0  610660.0\n",
       "74831      Casual        2017.0  658870.0\n",
       "74832       Indie        2017.0  658870.0\n",
       "74833         NaN           NaN  681550.0\n",
       "\n",
       "[74834 rows x 3 columns]"
      ]
     },
     "execution_count": 137,
     "metadata": {},
     "output_type": "execute_result"
    }
   ],
   "source": [
    "games_3 = steam_games[['app_name', 'item_id']]\n",
    "\n",
    "games"
   ]
  },
  {
   "cell_type": "markdown",
   "metadata": {},
   "source": [
    "Combinamos los DataFrames para formar uno nuevo con las columnas necesarias para esta función."
   ]
  },
  {
   "cell_type": "code",
   "execution_count": 138,
   "metadata": {},
   "outputs": [],
   "source": [
    "reviews_games = games_3.merge(reviews, on=\"item_id\")\n"
   ]
  },
  {
   "cell_type": "markdown",
   "metadata": {},
   "source": [
    "Eliminamos la columna **item_id**, ya que no es necesaria para nuestra función. Solo utilizamos esta columna para realizar la combinación."
   ]
  },
  {
   "cell_type": "code",
   "execution_count": 139,
   "metadata": {},
   "outputs": [],
   "source": [
    "reviews_games = reviews_games.drop(columns= 'item_id')"
   ]
  },
  {
   "cell_type": "markdown",
   "metadata": {},
   "source": [
    "Reindexamos:"
   ]
  },
  {
   "cell_type": "code",
   "execution_count": 140,
   "metadata": {},
   "outputs": [],
   "source": [
    "reviews_games.reset_index(inplace= True, drop= True)"
   ]
  },
  {
   "cell_type": "code",
   "execution_count": 141,
   "metadata": {},
   "outputs": [
    {
     "name": "stdout",
     "output_type": "stream",
     "text": [
      "<class 'pandas.core.frame.DataFrame'>\n",
      "RangeIndex: 127794 entries, 0 to 127793\n",
      "Data columns (total 4 columns):\n",
      " #   Column              Non-Null Count   Dtype  \n",
      "---  ------              --------------   -----  \n",
      " 0   app_name            127794 non-null  object \n",
      " 1   posted              105154 non-null  float64\n",
      " 2   recommend           127794 non-null  bool   \n",
      " 3   sentiment_analysis  127794 non-null  int64  \n",
      "dtypes: bool(1), float64(1), int64(1), object(1)\n",
      "memory usage: 3.0+ MB\n"
     ]
    }
   ],
   "source": [
    "reviews_games.info()"
   ]
  },
  {
   "cell_type": "code",
   "execution_count": 142,
   "metadata": {},
   "outputs": [],
   "source": [
    "reviews_games.to_parquet('Data/df_funcion_3y4.parquet')"
   ]
  },
  {
   "cell_type": "code",
   "execution_count": 143,
   "metadata": {},
   "outputs": [],
   "source": [
    "def UsersRecommend(año):\n",
    "\n",
    "    # Filtramos los datos por el año recibido como parametro.\n",
    "    reviews_year = reviews_games[reviews_games['posted'] == año]\n",
    "\n",
    "    # Filtramos las reseñas recomendadas y con sentimiento positivo o neutral.\n",
    "    recommended_games = reviews_year[(reviews_year['recommend'] == True) & (reviews_year['sentiment_analysis'].isin([1, 2]))]\n",
    "\n",
    "    # Agrupamos por juego y contamos las recomendaciones.\n",
    "    top_games = recommended_games.groupby('app_name')['recommend'].count().reset_index()\n",
    "\n",
    "    # Ordenamos los juegos en orden descendente de recomendaciones.\n",
    "    top_games = top_games.sort_values(by='recommend', ascending=False)\n",
    "\n",
    "    # Tomamos los 3 juegos principales.\n",
    "    top_3_games = top_games.head(3)\n",
    "\n",
    "    # Convertimos los datos en el formato de retorno esperado.\n",
    "    result = [{\"Puesto \" + str(i + 1): game} for i, game in enumerate(top_3_games['app_name'])]\n",
    "\n",
    "    return result"
   ]
  },
  {
   "cell_type": "code",
   "execution_count": 144,
   "metadata": {},
   "outputs": [
    {
     "data": {
      "text/plain": [
       "[{'Puesto 1': 'Team Fortress 2'},\n",
       " {'Puesto 2': 'Unturned'},\n",
       " {'Puesto 3': 'Rust'}]"
      ]
     },
     "execution_count": 144,
     "metadata": {},
     "output_type": "execute_result"
    }
   ],
   "source": [
    "UsersRecommend(2014)"
   ]
  },
  {
   "cell_type": "markdown",
   "metadata": {},
   "source": [
    "#### Función **UsersNotRemmend**"
   ]
  },
  {
   "cell_type": "markdown",
   "metadata": {},
   "source": [
    "*def UsersNotRecommend(año: int):* Devuelve el top 3 de juegos MENOS recomendados por usuarios para el año dado. \n",
    "\n",
    "(reviews.recommend = False y comentarios negativos)"
   ]
  },
  {
   "cell_type": "markdown",
   "metadata": {},
   "source": [
    "Utilizamos el DataFrame, creado para la función anterior."
   ]
  },
  {
   "cell_type": "code",
   "execution_count": 145,
   "metadata": {},
   "outputs": [],
   "source": [
    "def UserNotRecommend(año):\n",
    "    \n",
    "    reviews_year = reviews_games[reviews_games['posted'] == año]\n",
    "\n",
    "    # Filtra las reseñas recomendadas con sentimiento positivo o neutral\n",
    "    not_recommended_games = reviews_year[(reviews_year['recommend'] == False) & (reviews_year['sentiment_analysis'] == 0)]\n",
    "\n",
    "    # Agrupa por juego y cuenta las recomendaciones\n",
    "    top_games = not_recommended_games.groupby('app_name')['recommend'].count().reset_index()\n",
    "\n",
    "    # Ordena los juegos en orden descendente de recomendaciones\n",
    "    top_games = top_games.sort_values(by='recommend', ascending=False)\n",
    "\n",
    "    # Toma los 3 juegos principales\n",
    "    top_3_games = top_games.head(3)\n",
    "\n",
    "    # Convierte los datos en el formato de retorno\n",
    "    result = [{\"Puesto \" + str(i + 1): game} for i, game in enumerate(top_3_games['app_name'])]\n",
    "\n",
    "    return result"
   ]
  },
  {
   "cell_type": "markdown",
   "metadata": {},
   "source": [
    "Probamos la función:"
   ]
  },
  {
   "cell_type": "code",
   "execution_count": 146,
   "metadata": {},
   "outputs": [
    {
     "data": {
      "text/plain": [
       "[{'Puesto 1': 'DayZ'}, {'Puesto 2': 'Unturned'}, {'Puesto 3': 'Robocraft'}]"
      ]
     },
     "execution_count": 146,
     "metadata": {},
     "output_type": "execute_result"
    }
   ],
   "source": [
    "UserNotRecommend(2014)"
   ]
  },
  {
   "cell_type": "markdown",
   "metadata": {},
   "source": [
    "#### Función **sentiment_analysis**"
   ]
  },
  {
   "cell_type": "markdown",
   "metadata": {},
   "source": [
    "*def sentiment_analysis(año: int):* Según el año de lanzamiento, se devuelve una lista con la cantidad de registros de reseñas de usuarios que se encuentran categorizados con un análisis de sentimiento.\n",
    "\n",
    "Ejemplo de retorno: {Negativo = 182, Neutral = 120, Positivo = 278}"
   ]
  },
  {
   "cell_type": "markdown",
   "metadata": {},
   "source": [
    "Se extraen las columnas necesarias del DataFrame **steam_games**, estas son:\n",
    "- release_year\n",
    "- item_id"
   ]
  },
  {
   "cell_type": "code",
   "execution_count": 147,
   "metadata": {},
   "outputs": [],
   "source": [
    "games_4 = steam_games[['release_year', 'item_id']]"
   ]
  },
  {
   "cell_type": "markdown",
   "metadata": {},
   "source": [
    "Se extraen las columnas necesarias del DataFrame **user_reviews**, estas son:\n",
    "- sentiment_analysis\n",
    "- item_id"
   ]
  },
  {
   "cell_type": "code",
   "execution_count": 148,
   "metadata": {},
   "outputs": [],
   "source": [
    "reviews_2 = user_reviews[['sentiment_analysis', 'item_id']]"
   ]
  },
  {
   "cell_type": "markdown",
   "metadata": {},
   "source": [
    "Combinamos los DataFrames para formar uno nuevo con las columnas necesarias para esta función."
   ]
  },
  {
   "cell_type": "code",
   "execution_count": 149,
   "metadata": {},
   "outputs": [],
   "source": [
    "reviews_games_2 = reviews_2.merge(games_4, on = 'item_id')"
   ]
  },
  {
   "cell_type": "markdown",
   "metadata": {},
   "source": [
    "Eliminamos la columna **item_id**, ya que no es necesaria para nuestra función. Solo utilizamos esta columna para realizar la combinación."
   ]
  },
  {
   "cell_type": "code",
   "execution_count": 150,
   "metadata": {},
   "outputs": [],
   "source": [
    "reviews_games_2 = reviews_games_2.drop(columns = 'item_id')"
   ]
  },
  {
   "cell_type": "code",
   "execution_count": 151,
   "metadata": {},
   "outputs": [],
   "source": [
    "reviews_games_2.dropna(subset=['release_year'], inplace=True)"
   ]
  },
  {
   "cell_type": "markdown",
   "metadata": {},
   "source": [
    "Convertimos el tipo de dato de la columna release_year a string, ya que asi lo necesitaremos para nuestra funcón. Si bien nuestro parametro es de tipo int, lo convertiremos para compararlo y hacer la agrupación correspondiente."
   ]
  },
  {
   "cell_type": "code",
   "execution_count": 152,
   "metadata": {},
   "outputs": [],
   "source": [
    "reviews_games_2['release_year'] = reviews_games_2['release_year'].astype(int)"
   ]
  },
  {
   "cell_type": "code",
   "execution_count": 153,
   "metadata": {},
   "outputs": [],
   "source": [
    "reviews_games_2.to_parquet('Data/df_funcion_5.parquet')"
   ]
  },
  {
   "cell_type": "code",
   "execution_count": 154,
   "metadata": {},
   "outputs": [],
   "source": [
    "def sentiment_analysis(año):\n",
    "    \n",
    "    # Filtra los datos por el año dado\n",
    "    reviews_year = reviews_games_2[reviews_games_2['release_year'] == int(año)]\n",
    "\n",
    "    Negativos = 0\n",
    "    Neutral = 0\n",
    "    Positivos = 0\n",
    "\n",
    "    for i in reviews_year[\"sentiment_analysis\"]:\n",
    "        if i == 0:\n",
    "            Negativos += 1\n",
    "        elif i == 1:\n",
    "            Neutral += 1 \n",
    "        elif i == 2:\n",
    "            Positivos += 1\n",
    "\n",
    "    result = {\"Negative\": Negativos , \"Neutral\" : Neutral, \"Positive\": Positivos}\n",
    "    return result"
   ]
  },
  {
   "cell_type": "code",
   "execution_count": 155,
   "metadata": {},
   "outputs": [
    {
     "data": {
      "text/plain": [
       "{'Negative': 2686, 'Neutral': 7470, 'Positive': 7483}"
      ]
     },
     "execution_count": 155,
     "metadata": {},
     "output_type": "execute_result"
    }
   ],
   "source": [
    "sentiment_analysis(2014)"
   ]
  },
  {
   "cell_type": "code",
   "execution_count": 156,
   "metadata": {},
   "outputs": [
    {
     "name": "stdout",
     "output_type": "stream",
     "text": [
      "<class 'pandas.core.frame.DataFrame'>\n",
      "Index: 124368 entries, 0 to 127793\n",
      "Data columns (total 2 columns):\n",
      " #   Column              Non-Null Count   Dtype\n",
      "---  ------              --------------   -----\n",
      " 0   sentiment_analysis  124368 non-null  int64\n",
      " 1   release_year        124368 non-null  int32\n",
      "dtypes: int32(1), int64(1)\n",
      "memory usage: 2.4 MB\n"
     ]
    }
   ],
   "source": [
    "reviews_games_2.info()"
   ]
  }
 ],
 "metadata": {
  "kernelspec": {
   "display_name": "Python 3",
   "language": "python",
   "name": "python3"
  },
  "language_info": {
   "codemirror_mode": {
    "name": "ipython",
    "version": 3
   },
   "file_extension": ".py",
   "mimetype": "text/x-python",
   "name": "python",
   "nbconvert_exporter": "python",
   "pygments_lexer": "ipython3",
   "version": "3.11.3"
  }
 },
 "nbformat": 4,
 "nbformat_minor": 2
}
